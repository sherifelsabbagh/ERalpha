{
 "cells": [
  {
   "cell_type": "code",
   "execution_count": 2,
   "id": "e9f2f64c-68c0-40b7-9f62-c3fa40a9ca12",
   "metadata": {},
   "outputs": [],
   "source": [
    "import pandas as pd\n",
    "import matplotlib.pyplot as plt\n",
    "import seaborn as sns"
   ]
  },
  {
   "cell_type": "markdown",
   "id": "3a5ac190-86e8-46e1-8779-46a3542b866b",
   "metadata": {},
   "source": [
    "+ Dataset comprising 4801 activities was downloaded from ChEMBL database. Activities are recoreded as IC50"
   ]
  },
  {
   "cell_type": "code",
   "execution_count": 3,
   "id": "42d1363b-ae2f-4d55-98f7-dbef83d6e890",
   "metadata": {},
   "outputs": [],
   "source": [
    "df = pd.read_csv(\"activityset.csv\",sep=\";\")"
   ]
  },
  {
   "cell_type": "code",
   "execution_count": 4,
   "id": "9d16a92f-16b1-4f9e-af01-f63808652921",
   "metadata": {},
   "outputs": [
    {
     "data": {
      "text/html": [
       "<div>\n",
       "<style scoped>\n",
       "    .dataframe tbody tr th:only-of-type {\n",
       "        vertical-align: middle;\n",
       "    }\n",
       "\n",
       "    .dataframe tbody tr th {\n",
       "        vertical-align: top;\n",
       "    }\n",
       "\n",
       "    .dataframe thead th {\n",
       "        text-align: right;\n",
       "    }\n",
       "</style>\n",
       "<table border=\"1\" class=\"dataframe\">\n",
       "  <thead>\n",
       "    <tr style=\"text-align: right;\">\n",
       "      <th></th>\n",
       "      <th>Molecule ChEMBL ID</th>\n",
       "      <th>Molecule Name</th>\n",
       "      <th>Molecule Max Phase</th>\n",
       "      <th>Molecular Weight</th>\n",
       "      <th>#RO5 Violations</th>\n",
       "      <th>AlogP</th>\n",
       "      <th>Compound Key</th>\n",
       "      <th>Smiles</th>\n",
       "      <th>Standard Type</th>\n",
       "      <th>Standard Relation</th>\n",
       "      <th>...</th>\n",
       "      <th>Target Name</th>\n",
       "      <th>Target Organism</th>\n",
       "      <th>Target Type</th>\n",
       "      <th>Document ChEMBL ID</th>\n",
       "      <th>Source ID</th>\n",
       "      <th>Source Description</th>\n",
       "      <th>Document Journal</th>\n",
       "      <th>Document Year</th>\n",
       "      <th>Cell ChEMBL ID</th>\n",
       "      <th>Properties</th>\n",
       "    </tr>\n",
       "  </thead>\n",
       "  <tbody>\n",
       "    <tr>\n",
       "      <th>0</th>\n",
       "      <td>CHEMBL88</td>\n",
       "      <td>CYCLOPHOSPHAMIDE</td>\n",
       "      <td>4</td>\n",
       "      <td>261.09</td>\n",
       "      <td>0</td>\n",
       "      <td>1.88</td>\n",
       "      <td>CYCLOPHOSPHAMIDE</td>\n",
       "      <td>O=P1(N(CCCl)CCCl)NCCCO1</td>\n",
       "      <td>IC50</td>\n",
       "      <td>NaN</td>\n",
       "      <td>...</td>\n",
       "      <td>Estrogen receptor alpha</td>\n",
       "      <td>Homo sapiens</td>\n",
       "      <td>SINGLE PROTEIN</td>\n",
       "      <td>CHEMBL1909046</td>\n",
       "      <td>15</td>\n",
       "      <td>DrugMatrix</td>\n",
       "      <td>NaN</td>\n",
       "      <td>NaN</td>\n",
       "      <td>CHEMBL3308860</td>\n",
       "      <td>NaN</td>\n",
       "    </tr>\n",
       "    <tr>\n",
       "      <th>1</th>\n",
       "      <td>CHEMBL1567463</td>\n",
       "      <td>CHOLINE ALFOSCERATE</td>\n",
       "      <td>3</td>\n",
       "      <td>257.22</td>\n",
       "      <td>0</td>\n",
       "      <td>-1.45</td>\n",
       "      <td>CHOLINE ALFOSCERATE</td>\n",
       "      <td>C[N+](C)(C)CCOP(=O)([O-])OC[C@H](O)CO</td>\n",
       "      <td>IC50</td>\n",
       "      <td>NaN</td>\n",
       "      <td>...</td>\n",
       "      <td>Estrogen receptor alpha</td>\n",
       "      <td>Homo sapiens</td>\n",
       "      <td>SINGLE PROTEIN</td>\n",
       "      <td>CHEMBL1909046</td>\n",
       "      <td>15</td>\n",
       "      <td>DrugMatrix</td>\n",
       "      <td>NaN</td>\n",
       "      <td>NaN</td>\n",
       "      <td>CHEMBL3308860</td>\n",
       "      <td>NaN</td>\n",
       "    </tr>\n",
       "    <tr>\n",
       "      <th>2</th>\n",
       "      <td>CHEMBL110691</td>\n",
       "      <td>CHLORMADINONE ACETATE</td>\n",
       "      <td>4</td>\n",
       "      <td>404.93</td>\n",
       "      <td>0</td>\n",
       "      <td>4.75</td>\n",
       "      <td>CHLORMADINONE ACETATE</td>\n",
       "      <td>CC(=O)O[C@]1(C(C)=O)CC[C@H]2[C@@H]3C=C(Cl)C4=C...</td>\n",
       "      <td>IC50</td>\n",
       "      <td>NaN</td>\n",
       "      <td>...</td>\n",
       "      <td>Estrogen receptor alpha</td>\n",
       "      <td>Homo sapiens</td>\n",
       "      <td>SINGLE PROTEIN</td>\n",
       "      <td>CHEMBL1909046</td>\n",
       "      <td>15</td>\n",
       "      <td>DrugMatrix</td>\n",
       "      <td>NaN</td>\n",
       "      <td>NaN</td>\n",
       "      <td>CHEMBL3308860</td>\n",
       "      <td>NaN</td>\n",
       "    </tr>\n",
       "    <tr>\n",
       "      <th>3</th>\n",
       "      <td>CHEMBL398440</td>\n",
       "      <td>CHLOROXYLENOL</td>\n",
       "      <td>4</td>\n",
       "      <td>156.61</td>\n",
       "      <td>0</td>\n",
       "      <td>2.66</td>\n",
       "      <td>CHLOROXYLENOL</td>\n",
       "      <td>Cc1cc(O)cc(C)c1Cl</td>\n",
       "      <td>IC50</td>\n",
       "      <td>NaN</td>\n",
       "      <td>...</td>\n",
       "      <td>Estrogen receptor alpha</td>\n",
       "      <td>Homo sapiens</td>\n",
       "      <td>SINGLE PROTEIN</td>\n",
       "      <td>CHEMBL1909046</td>\n",
       "      <td>15</td>\n",
       "      <td>DrugMatrix</td>\n",
       "      <td>NaN</td>\n",
       "      <td>NaN</td>\n",
       "      <td>CHEMBL3308860</td>\n",
       "      <td>NaN</td>\n",
       "    </tr>\n",
       "    <tr>\n",
       "      <th>4</th>\n",
       "      <td>CHEMBL428880</td>\n",
       "      <td>CROMOLYN</td>\n",
       "      <td>4</td>\n",
       "      <td>468.37</td>\n",
       "      <td>0</td>\n",
       "      <td>2.11</td>\n",
       "      <td>CROMOLYN</td>\n",
       "      <td>O=C(O)c1cc(=O)c2c(OCC(O)COc3cccc4oc(C(=O)O)cc(...</td>\n",
       "      <td>IC50</td>\n",
       "      <td>NaN</td>\n",
       "      <td>...</td>\n",
       "      <td>Estrogen receptor alpha</td>\n",
       "      <td>Homo sapiens</td>\n",
       "      <td>SINGLE PROTEIN</td>\n",
       "      <td>CHEMBL1909046</td>\n",
       "      <td>15</td>\n",
       "      <td>DrugMatrix</td>\n",
       "      <td>NaN</td>\n",
       "      <td>NaN</td>\n",
       "      <td>CHEMBL3308860</td>\n",
       "      <td>NaN</td>\n",
       "    </tr>\n",
       "  </tbody>\n",
       "</table>\n",
       "<p>5 rows × 45 columns</p>\n",
       "</div>"
      ],
      "text/plain": [
       "  Molecule ChEMBL ID          Molecule Name  Molecule Max Phase  \\\n",
       "0           CHEMBL88       CYCLOPHOSPHAMIDE                   4   \n",
       "1      CHEMBL1567463    CHOLINE ALFOSCERATE                   3   \n",
       "2       CHEMBL110691  CHLORMADINONE ACETATE                   4   \n",
       "3       CHEMBL398440          CHLOROXYLENOL                   4   \n",
       "4       CHEMBL428880               CROMOLYN                   4   \n",
       "\n",
       "  Molecular Weight #RO5 Violations  AlogP           Compound Key  \\\n",
       "0           261.09               0   1.88       CYCLOPHOSPHAMIDE   \n",
       "1           257.22               0  -1.45    CHOLINE ALFOSCERATE   \n",
       "2           404.93               0   4.75  CHLORMADINONE ACETATE   \n",
       "3           156.61               0   2.66          CHLOROXYLENOL   \n",
       "4           468.37               0   2.11               CROMOLYN   \n",
       "\n",
       "                                              Smiles Standard Type  \\\n",
       "0                            O=P1(N(CCCl)CCCl)NCCCO1          IC50   \n",
       "1              C[N+](C)(C)CCOP(=O)([O-])OC[C@H](O)CO          IC50   \n",
       "2  CC(=O)O[C@]1(C(C)=O)CC[C@H]2[C@@H]3C=C(Cl)C4=C...          IC50   \n",
       "3                                  Cc1cc(O)cc(C)c1Cl          IC50   \n",
       "4  O=C(O)c1cc(=O)c2c(OCC(O)COc3cccc4oc(C(=O)O)cc(...          IC50   \n",
       "\n",
       "  Standard Relation  ...              Target Name Target Organism  \\\n",
       "0               NaN  ...  Estrogen receptor alpha    Homo sapiens   \n",
       "1               NaN  ...  Estrogen receptor alpha    Homo sapiens   \n",
       "2               NaN  ...  Estrogen receptor alpha    Homo sapiens   \n",
       "3               NaN  ...  Estrogen receptor alpha    Homo sapiens   \n",
       "4               NaN  ...  Estrogen receptor alpha    Homo sapiens   \n",
       "\n",
       "      Target Type Document ChEMBL ID Source ID Source Description  \\\n",
       "0  SINGLE PROTEIN      CHEMBL1909046        15         DrugMatrix   \n",
       "1  SINGLE PROTEIN      CHEMBL1909046        15         DrugMatrix   \n",
       "2  SINGLE PROTEIN      CHEMBL1909046        15         DrugMatrix   \n",
       "3  SINGLE PROTEIN      CHEMBL1909046        15         DrugMatrix   \n",
       "4  SINGLE PROTEIN      CHEMBL1909046        15         DrugMatrix   \n",
       "\n",
       "   Document Journal Document Year Cell ChEMBL ID Properties  \n",
       "0               NaN           NaN  CHEMBL3308860        NaN  \n",
       "1               NaN           NaN  CHEMBL3308860        NaN  \n",
       "2               NaN           NaN  CHEMBL3308860        NaN  \n",
       "3               NaN           NaN  CHEMBL3308860        NaN  \n",
       "4               NaN           NaN  CHEMBL3308860        NaN  \n",
       "\n",
       "[5 rows x 45 columns]"
      ]
     },
     "execution_count": 4,
     "metadata": {},
     "output_type": "execute_result"
    }
   ],
   "source": [
    "df.head()"
   ]
  },
  {
   "cell_type": "code",
   "execution_count": 5,
   "id": "707fb70f-8a4a-4e69-8b4c-5a77faec9f67",
   "metadata": {},
   "outputs": [
    {
     "data": {
      "text/plain": [
       "Index(['Molecule ChEMBL ID', 'Molecule Name', 'Molecule Max Phase',\n",
       "       'Molecular Weight', '#RO5 Violations', 'AlogP', 'Compound Key',\n",
       "       'Smiles', 'Standard Type', 'Standard Relation', 'Standard Value',\n",
       "       'Standard Units', 'pChEMBL Value', 'Data Validity Comment', 'Comment',\n",
       "       'Uo Units', 'Ligand Efficiency BEI', 'Ligand Efficiency LE',\n",
       "       'Ligand Efficiency LLE', 'Ligand Efficiency SEI', 'Potential Duplicate',\n",
       "       'Assay ChEMBL ID', 'Assay Description', 'Assay Type', 'BAO Format ID',\n",
       "       'BAO Label', 'Assay Organism', 'Assay Tissue ChEMBL ID',\n",
       "       'Assay Tissue Name', 'Assay Cell Type', 'Assay Subcellular Fraction',\n",
       "       'Assay Parameters', 'Assay Variant Accession', 'Assay Variant Mutation',\n",
       "       'Target ChEMBL ID', 'Target Name', 'Target Organism', 'Target Type',\n",
       "       'Document ChEMBL ID', 'Source ID', 'Source Description',\n",
       "       'Document Journal', 'Document Year', 'Cell ChEMBL ID', 'Properties'],\n",
       "      dtype='object')"
      ]
     },
     "execution_count": 5,
     "metadata": {},
     "output_type": "execute_result"
    }
   ],
   "source": [
    "df.columns"
   ]
  },
  {
   "cell_type": "code",
   "execution_count": 6,
   "id": "d7e754d0-6f65-4e9c-b2c1-a7ece5b30d4c",
   "metadata": {},
   "outputs": [],
   "source": [
    "#Keeping important columns\n",
    "\n",
    "df = df[[\"Molecule ChEMBL ID\",'Smiles','#RO5 Violations', 'Standard Relation', 'Standard Value',\n",
    "       'Standard Units','pChEMBL Value' ]]"
   ]
  },
  {
   "cell_type": "code",
   "execution_count": 7,
   "id": "9dfa36d6-6cde-4126-a0a2-7504f5660a0d",
   "metadata": {},
   "outputs": [
    {
     "data": {
      "text/html": [
       "<div>\n",
       "<style scoped>\n",
       "    .dataframe tbody tr th:only-of-type {\n",
       "        vertical-align: middle;\n",
       "    }\n",
       "\n",
       "    .dataframe tbody tr th {\n",
       "        vertical-align: top;\n",
       "    }\n",
       "\n",
       "    .dataframe thead th {\n",
       "        text-align: right;\n",
       "    }\n",
       "</style>\n",
       "<table border=\"1\" class=\"dataframe\">\n",
       "  <thead>\n",
       "    <tr style=\"text-align: right;\">\n",
       "      <th></th>\n",
       "      <th>Molecule ChEMBL ID</th>\n",
       "      <th>Smiles</th>\n",
       "      <th>#RO5 Violations</th>\n",
       "      <th>Standard Relation</th>\n",
       "      <th>Standard Value</th>\n",
       "      <th>Standard Units</th>\n",
       "      <th>pChEMBL Value</th>\n",
       "    </tr>\n",
       "  </thead>\n",
       "  <tbody>\n",
       "    <tr>\n",
       "      <th>0</th>\n",
       "      <td>CHEMBL88</td>\n",
       "      <td>O=P1(N(CCCl)CCCl)NCCCO1</td>\n",
       "      <td>0</td>\n",
       "      <td>NaN</td>\n",
       "      <td>NaN</td>\n",
       "      <td>NaN</td>\n",
       "      <td>NaN</td>\n",
       "    </tr>\n",
       "    <tr>\n",
       "      <th>1</th>\n",
       "      <td>CHEMBL1567463</td>\n",
       "      <td>C[N+](C)(C)CCOP(=O)([O-])OC[C@H](O)CO</td>\n",
       "      <td>0</td>\n",
       "      <td>NaN</td>\n",
       "      <td>NaN</td>\n",
       "      <td>NaN</td>\n",
       "      <td>NaN</td>\n",
       "    </tr>\n",
       "    <tr>\n",
       "      <th>2</th>\n",
       "      <td>CHEMBL110691</td>\n",
       "      <td>CC(=O)O[C@]1(C(C)=O)CC[C@H]2[C@@H]3C=C(Cl)C4=C...</td>\n",
       "      <td>0</td>\n",
       "      <td>NaN</td>\n",
       "      <td>NaN</td>\n",
       "      <td>NaN</td>\n",
       "      <td>NaN</td>\n",
       "    </tr>\n",
       "    <tr>\n",
       "      <th>3</th>\n",
       "      <td>CHEMBL398440</td>\n",
       "      <td>Cc1cc(O)cc(C)c1Cl</td>\n",
       "      <td>0</td>\n",
       "      <td>NaN</td>\n",
       "      <td>NaN</td>\n",
       "      <td>NaN</td>\n",
       "      <td>NaN</td>\n",
       "    </tr>\n",
       "    <tr>\n",
       "      <th>4</th>\n",
       "      <td>CHEMBL428880</td>\n",
       "      <td>O=C(O)c1cc(=O)c2c(OCC(O)COc3cccc4oc(C(=O)O)cc(...</td>\n",
       "      <td>0</td>\n",
       "      <td>NaN</td>\n",
       "      <td>NaN</td>\n",
       "      <td>NaN</td>\n",
       "      <td>NaN</td>\n",
       "    </tr>\n",
       "  </tbody>\n",
       "</table>\n",
       "</div>"
      ],
      "text/plain": [
       "  Molecule ChEMBL ID                                             Smiles  \\\n",
       "0           CHEMBL88                            O=P1(N(CCCl)CCCl)NCCCO1   \n",
       "1      CHEMBL1567463              C[N+](C)(C)CCOP(=O)([O-])OC[C@H](O)CO   \n",
       "2       CHEMBL110691  CC(=O)O[C@]1(C(C)=O)CC[C@H]2[C@@H]3C=C(Cl)C4=C...   \n",
       "3       CHEMBL398440                                  Cc1cc(O)cc(C)c1Cl   \n",
       "4       CHEMBL428880  O=C(O)c1cc(=O)c2c(OCC(O)COc3cccc4oc(C(=O)O)cc(...   \n",
       "\n",
       "  #RO5 Violations Standard Relation  Standard Value Standard Units  \\\n",
       "0               0               NaN             NaN            NaN   \n",
       "1               0               NaN             NaN            NaN   \n",
       "2               0               NaN             NaN            NaN   \n",
       "3               0               NaN             NaN            NaN   \n",
       "4               0               NaN             NaN            NaN   \n",
       "\n",
       "   pChEMBL Value  \n",
       "0            NaN  \n",
       "1            NaN  \n",
       "2            NaN  \n",
       "3            NaN  \n",
       "4            NaN  "
      ]
     },
     "execution_count": 7,
     "metadata": {},
     "output_type": "execute_result"
    }
   ],
   "source": [
    "df.head()"
   ]
  },
  {
   "cell_type": "code",
   "execution_count": 8,
   "id": "c29d9ef3-1b6e-4a14-a55f-d45366da91eb",
   "metadata": {},
   "outputs": [
    {
     "data": {
      "text/plain": [
       "(4801, 7)"
      ]
     },
     "execution_count": 8,
     "metadata": {},
     "output_type": "execute_result"
    }
   ],
   "source": [
    "df.shape"
   ]
  },
  {
   "cell_type": "code",
   "execution_count": 9,
   "id": "6cf843a5-683c-4daa-934d-602f2af74eb5",
   "metadata": {},
   "outputs": [
    {
     "name": "stdout",
     "output_type": "stream",
     "text": [
      "<class 'pandas.core.frame.DataFrame'>\n",
      "RangeIndex: 4801 entries, 0 to 4800\n",
      "Data columns (total 7 columns):\n",
      " #   Column              Non-Null Count  Dtype  \n",
      "---  ------              --------------  -----  \n",
      " 0   Molecule ChEMBL ID  4801 non-null   object \n",
      " 1   Smiles              4761 non-null   object \n",
      " 2   #RO5 Violations     4801 non-null   object \n",
      " 3   Standard Relation   3766 non-null   object \n",
      " 4   Standard Value      3783 non-null   float64\n",
      " 5   Standard Units      3833 non-null   object \n",
      " 6   pChEMBL Value       3233 non-null   float64\n",
      "dtypes: float64(2), object(5)\n",
      "memory usage: 262.7+ KB\n"
     ]
    }
   ],
   "source": [
    "df.info()"
   ]
  },
  {
   "cell_type": "markdown",
   "id": "4ffd093d-17c6-4b43-909f-d78a30a65dea",
   "metadata": {},
   "source": [
    "+ Remove molecules which has no SMILES"
   ]
  },
  {
   "cell_type": "code",
   "execution_count": 10,
   "id": "738d2114-468b-4afa-9c4d-54d490c77100",
   "metadata": {},
   "outputs": [],
   "source": [
    "df = df[df[\"Smiles\"].notnull()]"
   ]
  },
  {
   "cell_type": "code",
   "execution_count": 11,
   "id": "9af91728-e539-4fe7-91a0-1db0fda0c304",
   "metadata": {},
   "outputs": [
    {
     "data": {
      "text/html": [
       "<div>\n",
       "<style scoped>\n",
       "    .dataframe tbody tr th:only-of-type {\n",
       "        vertical-align: middle;\n",
       "    }\n",
       "\n",
       "    .dataframe tbody tr th {\n",
       "        vertical-align: top;\n",
       "    }\n",
       "\n",
       "    .dataframe thead th {\n",
       "        text-align: right;\n",
       "    }\n",
       "</style>\n",
       "<table border=\"1\" class=\"dataframe\">\n",
       "  <thead>\n",
       "    <tr style=\"text-align: right;\">\n",
       "      <th></th>\n",
       "      <th>Molecule ChEMBL ID</th>\n",
       "      <th>Smiles</th>\n",
       "      <th>#RO5 Violations</th>\n",
       "      <th>Standard Relation</th>\n",
       "      <th>Standard Value</th>\n",
       "      <th>Standard Units</th>\n",
       "      <th>pChEMBL Value</th>\n",
       "    </tr>\n",
       "  </thead>\n",
       "  <tbody>\n",
       "    <tr>\n",
       "      <th>0</th>\n",
       "      <td>CHEMBL88</td>\n",
       "      <td>O=P1(N(CCCl)CCCl)NCCCO1</td>\n",
       "      <td>0</td>\n",
       "      <td>NaN</td>\n",
       "      <td>NaN</td>\n",
       "      <td>NaN</td>\n",
       "      <td>NaN</td>\n",
       "    </tr>\n",
       "    <tr>\n",
       "      <th>1</th>\n",
       "      <td>CHEMBL1567463</td>\n",
       "      <td>C[N+](C)(C)CCOP(=O)([O-])OC[C@H](O)CO</td>\n",
       "      <td>0</td>\n",
       "      <td>NaN</td>\n",
       "      <td>NaN</td>\n",
       "      <td>NaN</td>\n",
       "      <td>NaN</td>\n",
       "    </tr>\n",
       "    <tr>\n",
       "      <th>2</th>\n",
       "      <td>CHEMBL110691</td>\n",
       "      <td>CC(=O)O[C@]1(C(C)=O)CC[C@H]2[C@@H]3C=C(Cl)C4=C...</td>\n",
       "      <td>0</td>\n",
       "      <td>NaN</td>\n",
       "      <td>NaN</td>\n",
       "      <td>NaN</td>\n",
       "      <td>NaN</td>\n",
       "    </tr>\n",
       "    <tr>\n",
       "      <th>3</th>\n",
       "      <td>CHEMBL398440</td>\n",
       "      <td>Cc1cc(O)cc(C)c1Cl</td>\n",
       "      <td>0</td>\n",
       "      <td>NaN</td>\n",
       "      <td>NaN</td>\n",
       "      <td>NaN</td>\n",
       "      <td>NaN</td>\n",
       "    </tr>\n",
       "    <tr>\n",
       "      <th>4</th>\n",
       "      <td>CHEMBL428880</td>\n",
       "      <td>O=C(O)c1cc(=O)c2c(OCC(O)COc3cccc4oc(C(=O)O)cc(...</td>\n",
       "      <td>0</td>\n",
       "      <td>NaN</td>\n",
       "      <td>NaN</td>\n",
       "      <td>NaN</td>\n",
       "      <td>NaN</td>\n",
       "    </tr>\n",
       "  </tbody>\n",
       "</table>\n",
       "</div>"
      ],
      "text/plain": [
       "  Molecule ChEMBL ID                                             Smiles  \\\n",
       "0           CHEMBL88                            O=P1(N(CCCl)CCCl)NCCCO1   \n",
       "1      CHEMBL1567463              C[N+](C)(C)CCOP(=O)([O-])OC[C@H](O)CO   \n",
       "2       CHEMBL110691  CC(=O)O[C@]1(C(C)=O)CC[C@H]2[C@@H]3C=C(Cl)C4=C...   \n",
       "3       CHEMBL398440                                  Cc1cc(O)cc(C)c1Cl   \n",
       "4       CHEMBL428880  O=C(O)c1cc(=O)c2c(OCC(O)COc3cccc4oc(C(=O)O)cc(...   \n",
       "\n",
       "  #RO5 Violations Standard Relation  Standard Value Standard Units  \\\n",
       "0               0               NaN             NaN            NaN   \n",
       "1               0               NaN             NaN            NaN   \n",
       "2               0               NaN             NaN            NaN   \n",
       "3               0               NaN             NaN            NaN   \n",
       "4               0               NaN             NaN            NaN   \n",
       "\n",
       "   pChEMBL Value  \n",
       "0            NaN  \n",
       "1            NaN  \n",
       "2            NaN  \n",
       "3            NaN  \n",
       "4            NaN  "
      ]
     },
     "execution_count": 11,
     "metadata": {},
     "output_type": "execute_result"
    }
   ],
   "source": [
    "df.head()"
   ]
  },
  {
   "cell_type": "code",
   "execution_count": 12,
   "id": "ef5e057b-4c16-49da-bb1b-b278d401cc6e",
   "metadata": {},
   "outputs": [
    {
     "data": {
      "text/plain": [
       "(4761, 7)"
      ]
     },
     "execution_count": 12,
     "metadata": {},
     "output_type": "execute_result"
    }
   ],
   "source": [
    "df.shape"
   ]
  },
  {
   "cell_type": "code",
   "execution_count": 13,
   "id": "7ddeac44-b8e3-49b4-bf28-eb6c05559dc0",
   "metadata": {},
   "outputs": [
    {
     "name": "stdout",
     "output_type": "stream",
     "text": [
      "<class 'pandas.core.frame.DataFrame'>\n",
      "Int64Index: 4761 entries, 0 to 4800\n",
      "Data columns (total 7 columns):\n",
      " #   Column              Non-Null Count  Dtype  \n",
      "---  ------              --------------  -----  \n",
      " 0   Molecule ChEMBL ID  4761 non-null   object \n",
      " 1   Smiles              4761 non-null   object \n",
      " 2   #RO5 Violations     4761 non-null   object \n",
      " 3   Standard Relation   3758 non-null   object \n",
      " 4   Standard Value      3775 non-null   float64\n",
      " 5   Standard Units      3825 non-null   object \n",
      " 6   pChEMBL Value       3225 non-null   float64\n",
      "dtypes: float64(2), object(5)\n",
      "memory usage: 297.6+ KB\n"
     ]
    }
   ],
   "source": [
    "df.info()"
   ]
  },
  {
   "cell_type": "markdown",
   "id": "4d00815e-d210-4adf-ab57-43bc0ac6839f",
   "metadata": {},
   "source": [
    "+ pChEMBL values are less than Standard Value, we will remove them and calculate it by ourselves"
   ]
  },
  {
   "cell_type": "code",
   "execution_count": 14,
   "id": "1b709cb6-f1c1-4a4b-ba8d-7c42cda45c7b",
   "metadata": {},
   "outputs": [],
   "source": [
    "df = df.drop(\"pChEMBL Value\",axis=1)"
   ]
  },
  {
   "cell_type": "code",
   "execution_count": 15,
   "id": "69b3d8a0-6896-47fa-8092-544e4fb0a0fd",
   "metadata": {},
   "outputs": [
    {
     "name": "stdout",
     "output_type": "stream",
     "text": [
      "<class 'pandas.core.frame.DataFrame'>\n",
      "Int64Index: 4761 entries, 0 to 4800\n",
      "Data columns (total 6 columns):\n",
      " #   Column              Non-Null Count  Dtype  \n",
      "---  ------              --------------  -----  \n",
      " 0   Molecule ChEMBL ID  4761 non-null   object \n",
      " 1   Smiles              4761 non-null   object \n",
      " 2   #RO5 Violations     4761 non-null   object \n",
      " 3   Standard Relation   3758 non-null   object \n",
      " 4   Standard Value      3775 non-null   float64\n",
      " 5   Standard Units      3825 non-null   object \n",
      "dtypes: float64(1), object(5)\n",
      "memory usage: 260.4+ KB\n"
     ]
    }
   ],
   "source": [
    "df.info()"
   ]
  },
  {
   "cell_type": "code",
   "execution_count": 16,
   "id": "81f30879-e4cb-4737-801d-8a4c85c28351",
   "metadata": {},
   "outputs": [],
   "source": [
    "# remove Standard Values null values"
   ]
  },
  {
   "cell_type": "code",
   "execution_count": 17,
   "id": "2ea86e84-3a0d-455d-91d2-6cbf4fb9283d",
   "metadata": {},
   "outputs": [],
   "source": [
    "df = df[df[\"Standard Value\"].notna()]"
   ]
  },
  {
   "cell_type": "code",
   "execution_count": 18,
   "id": "7618d9ea-f7ff-4c94-8a47-b37ead852db3",
   "metadata": {},
   "outputs": [
    {
     "data": {
      "text/html": [
       "<div>\n",
       "<style scoped>\n",
       "    .dataframe tbody tr th:only-of-type {\n",
       "        vertical-align: middle;\n",
       "    }\n",
       "\n",
       "    .dataframe tbody tr th {\n",
       "        vertical-align: top;\n",
       "    }\n",
       "\n",
       "    .dataframe thead th {\n",
       "        text-align: right;\n",
       "    }\n",
       "</style>\n",
       "<table border=\"1\" class=\"dataframe\">\n",
       "  <thead>\n",
       "    <tr style=\"text-align: right;\">\n",
       "      <th></th>\n",
       "      <th>Molecule ChEMBL ID</th>\n",
       "      <th>Smiles</th>\n",
       "      <th>#RO5 Violations</th>\n",
       "      <th>Standard Relation</th>\n",
       "      <th>Standard Value</th>\n",
       "      <th>Standard Units</th>\n",
       "    </tr>\n",
       "  </thead>\n",
       "  <tbody>\n",
       "    <tr>\n",
       "      <th>11</th>\n",
       "      <td>CHEMBL370039</td>\n",
       "      <td>O=C(Cc1cc2ccccc2o1)c1ccc(O)cc1O</td>\n",
       "      <td>0</td>\n",
       "      <td>'='</td>\n",
       "      <td>85700.0</td>\n",
       "      <td>nM</td>\n",
       "    </tr>\n",
       "    <tr>\n",
       "      <th>12</th>\n",
       "      <td>CHEMBL3774737</td>\n",
       "      <td>COC[C@H](C)CN1[C@H](c2c(F)cc(/C=C/C(=O)O)cc2F)...</td>\n",
       "      <td>0</td>\n",
       "      <td>'='</td>\n",
       "      <td>1.2</td>\n",
       "      <td>nM</td>\n",
       "    </tr>\n",
       "    <tr>\n",
       "      <th>13</th>\n",
       "      <td>CHEMBL3775116</td>\n",
       "      <td>CC(C)CN1[C@@H](c2ccc(/C=C/C(=O)O)cc2)c2ccc(O)c...</td>\n",
       "      <td>0</td>\n",
       "      <td>'='</td>\n",
       "      <td>960.0</td>\n",
       "      <td>nM</td>\n",
       "    </tr>\n",
       "    <tr>\n",
       "      <th>14</th>\n",
       "      <td>CHEMBL3914943</td>\n",
       "      <td>CN(C)CCOc1ccc(C(=C(C#N)c2cccs2)c2ccc(OCCN(C)C)...</td>\n",
       "      <td>1</td>\n",
       "      <td>'&gt;'</td>\n",
       "      <td>10000.0</td>\n",
       "      <td>nM</td>\n",
       "    </tr>\n",
       "    <tr>\n",
       "      <th>15</th>\n",
       "      <td>CHEMBL1597831</td>\n",
       "      <td>O=C(CCCCCn1c(=S)[nH]c2ccccc2c1=O)N1CCC(N(Cc2cc...</td>\n",
       "      <td>2</td>\n",
       "      <td>'='</td>\n",
       "      <td>120.0</td>\n",
       "      <td>nM</td>\n",
       "    </tr>\n",
       "  </tbody>\n",
       "</table>\n",
       "</div>"
      ],
      "text/plain": [
       "   Molecule ChEMBL ID                                             Smiles  \\\n",
       "11       CHEMBL370039                    O=C(Cc1cc2ccccc2o1)c1ccc(O)cc1O   \n",
       "12      CHEMBL3774737  COC[C@H](C)CN1[C@H](c2c(F)cc(/C=C/C(=O)O)cc2F)...   \n",
       "13      CHEMBL3775116  CC(C)CN1[C@@H](c2ccc(/C=C/C(=O)O)cc2)c2ccc(O)c...   \n",
       "14      CHEMBL3914943  CN(C)CCOc1ccc(C(=C(C#N)c2cccs2)c2ccc(OCCN(C)C)...   \n",
       "15      CHEMBL1597831  O=C(CCCCCn1c(=S)[nH]c2ccccc2c1=O)N1CCC(N(Cc2cc...   \n",
       "\n",
       "   #RO5 Violations Standard Relation  Standard Value Standard Units  \n",
       "11               0               '='         85700.0             nM  \n",
       "12               0               '='             1.2             nM  \n",
       "13               0               '='           960.0             nM  \n",
       "14               1               '>'         10000.0             nM  \n",
       "15               2               '='           120.0             nM  "
      ]
     },
     "execution_count": 18,
     "metadata": {},
     "output_type": "execute_result"
    }
   ],
   "source": [
    "df.head()"
   ]
  },
  {
   "cell_type": "code",
   "execution_count": 19,
   "id": "19d38256-6cfd-45c6-99a5-e8d27a79f647",
   "metadata": {},
   "outputs": [
    {
     "data": {
      "text/plain": [
       "(3775, 6)"
      ]
     },
     "execution_count": 19,
     "metadata": {},
     "output_type": "execute_result"
    }
   ],
   "source": [
    "df.shape"
   ]
  },
  {
   "cell_type": "code",
   "execution_count": 20,
   "id": "2c2f8a91-6c70-4a78-a53a-bfd2261afe5a",
   "metadata": {},
   "outputs": [
    {
     "name": "stdout",
     "output_type": "stream",
     "text": [
      "<class 'pandas.core.frame.DataFrame'>\n",
      "Int64Index: 3775 entries, 11 to 4800\n",
      "Data columns (total 6 columns):\n",
      " #   Column              Non-Null Count  Dtype  \n",
      "---  ------              --------------  -----  \n",
      " 0   Molecule ChEMBL ID  3775 non-null   object \n",
      " 1   Smiles              3775 non-null   object \n",
      " 2   #RO5 Violations     3775 non-null   object \n",
      " 3   Standard Relation   3758 non-null   object \n",
      " 4   Standard Value      3775 non-null   float64\n",
      " 5   Standard Units      3775 non-null   object \n",
      "dtypes: float64(1), object(5)\n",
      "memory usage: 206.4+ KB\n"
     ]
    }
   ],
   "source": [
    "df.info()"
   ]
  },
  {
   "cell_type": "code",
   "execution_count": 21,
   "id": "7c09a6f4-bc1b-4f96-9763-5565f5ba99cf",
   "metadata": {},
   "outputs": [],
   "source": [
    "df = df.dropna()"
   ]
  },
  {
   "cell_type": "code",
   "execution_count": 22,
   "id": "67dc494f-4d43-4ad6-98b1-d60f259e61f6",
   "metadata": {},
   "outputs": [],
   "source": [
    "df.reset_index(drop=True,inplace=True)"
   ]
  },
  {
   "cell_type": "code",
   "execution_count": 23,
   "id": "3e57e01d-d33b-4643-a220-53f245b2e901",
   "metadata": {},
   "outputs": [
    {
     "data": {
      "text/html": [
       "<div>\n",
       "<style scoped>\n",
       "    .dataframe tbody tr th:only-of-type {\n",
       "        vertical-align: middle;\n",
       "    }\n",
       "\n",
       "    .dataframe tbody tr th {\n",
       "        vertical-align: top;\n",
       "    }\n",
       "\n",
       "    .dataframe thead th {\n",
       "        text-align: right;\n",
       "    }\n",
       "</style>\n",
       "<table border=\"1\" class=\"dataframe\">\n",
       "  <thead>\n",
       "    <tr style=\"text-align: right;\">\n",
       "      <th></th>\n",
       "      <th>Molecule ChEMBL ID</th>\n",
       "      <th>Smiles</th>\n",
       "      <th>#RO5 Violations</th>\n",
       "      <th>Standard Relation</th>\n",
       "      <th>Standard Value</th>\n",
       "      <th>Standard Units</th>\n",
       "    </tr>\n",
       "  </thead>\n",
       "  <tbody>\n",
       "    <tr>\n",
       "      <th>0</th>\n",
       "      <td>CHEMBL370039</td>\n",
       "      <td>O=C(Cc1cc2ccccc2o1)c1ccc(O)cc1O</td>\n",
       "      <td>0</td>\n",
       "      <td>'='</td>\n",
       "      <td>85700.0</td>\n",
       "      <td>nM</td>\n",
       "    </tr>\n",
       "    <tr>\n",
       "      <th>1</th>\n",
       "      <td>CHEMBL3774737</td>\n",
       "      <td>COC[C@H](C)CN1[C@H](c2c(F)cc(/C=C/C(=O)O)cc2F)...</td>\n",
       "      <td>0</td>\n",
       "      <td>'='</td>\n",
       "      <td>1.2</td>\n",
       "      <td>nM</td>\n",
       "    </tr>\n",
       "    <tr>\n",
       "      <th>2</th>\n",
       "      <td>CHEMBL3775116</td>\n",
       "      <td>CC(C)CN1[C@@H](c2ccc(/C=C/C(=O)O)cc2)c2ccc(O)c...</td>\n",
       "      <td>0</td>\n",
       "      <td>'='</td>\n",
       "      <td>960.0</td>\n",
       "      <td>nM</td>\n",
       "    </tr>\n",
       "    <tr>\n",
       "      <th>3</th>\n",
       "      <td>CHEMBL3914943</td>\n",
       "      <td>CN(C)CCOc1ccc(C(=C(C#N)c2cccs2)c2ccc(OCCN(C)C)...</td>\n",
       "      <td>1</td>\n",
       "      <td>'&gt;'</td>\n",
       "      <td>10000.0</td>\n",
       "      <td>nM</td>\n",
       "    </tr>\n",
       "    <tr>\n",
       "      <th>4</th>\n",
       "      <td>CHEMBL1597831</td>\n",
       "      <td>O=C(CCCCCn1c(=S)[nH]c2ccccc2c1=O)N1CCC(N(Cc2cc...</td>\n",
       "      <td>2</td>\n",
       "      <td>'='</td>\n",
       "      <td>120.0</td>\n",
       "      <td>nM</td>\n",
       "    </tr>\n",
       "  </tbody>\n",
       "</table>\n",
       "</div>"
      ],
      "text/plain": [
       "  Molecule ChEMBL ID                                             Smiles  \\\n",
       "0       CHEMBL370039                    O=C(Cc1cc2ccccc2o1)c1ccc(O)cc1O   \n",
       "1      CHEMBL3774737  COC[C@H](C)CN1[C@H](c2c(F)cc(/C=C/C(=O)O)cc2F)...   \n",
       "2      CHEMBL3775116  CC(C)CN1[C@@H](c2ccc(/C=C/C(=O)O)cc2)c2ccc(O)c...   \n",
       "3      CHEMBL3914943  CN(C)CCOc1ccc(C(=C(C#N)c2cccs2)c2ccc(OCCN(C)C)...   \n",
       "4      CHEMBL1597831  O=C(CCCCCn1c(=S)[nH]c2ccccc2c1=O)N1CCC(N(Cc2cc...   \n",
       "\n",
       "  #RO5 Violations Standard Relation  Standard Value Standard Units  \n",
       "0               0               '='         85700.0             nM  \n",
       "1               0               '='             1.2             nM  \n",
       "2               0               '='           960.0             nM  \n",
       "3               1               '>'         10000.0             nM  \n",
       "4               2               '='           120.0             nM  "
      ]
     },
     "execution_count": 23,
     "metadata": {},
     "output_type": "execute_result"
    }
   ],
   "source": [
    "df.head()"
   ]
  },
  {
   "cell_type": "markdown",
   "id": "ed64aa30-d5a0-41ba-bb7e-e3214c926691",
   "metadata": {},
   "source": [
    "+ Checking for Standard Units"
   ]
  },
  {
   "cell_type": "code",
   "execution_count": 24,
   "id": "fdd25958-c45d-4658-b0d3-744f4238767c",
   "metadata": {},
   "outputs": [
    {
     "data": {
      "text/plain": [
       "nM    3758\n",
       "Name: Standard Units, dtype: int64"
      ]
     },
     "execution_count": 24,
     "metadata": {},
     "output_type": "execute_result"
    }
   ],
   "source": [
    "df[\"Standard Units\"].value_counts()"
   ]
  },
  {
   "cell_type": "code",
   "execution_count": 25,
   "id": "5a2ae64e-10e2-4972-b66f-2840ca8e1aca",
   "metadata": {},
   "outputs": [
    {
     "data": {
      "text/plain": [
       "(3758, 6)"
      ]
     },
     "execution_count": 25,
     "metadata": {},
     "output_type": "execute_result"
    }
   ],
   "source": [
    "df.shape"
   ]
  },
  {
   "cell_type": "markdown",
   "id": "70363733-ea6a-49af-91f7-64e85d4c8bed",
   "metadata": {},
   "source": [
    "+ Checking for Standard Relation"
   ]
  },
  {
   "cell_type": "code",
   "execution_count": 26,
   "id": "84b2bd17-21ac-429a-a922-3d6ce305886a",
   "metadata": {},
   "outputs": [
    {
     "data": {
      "text/plain": [
       "'='    3236\n",
       "'>'     492\n",
       "'<'      30\n",
       "Name: Standard Relation, dtype: int64"
      ]
     },
     "execution_count": 26,
     "metadata": {},
     "output_type": "execute_result"
    }
   ],
   "source": [
    "df[\"Standard Relation\"].value_counts()"
   ]
  },
  {
   "cell_type": "markdown",
   "id": "2c6c4eae-7fbb-462a-8619-880f796a1f0f",
   "metadata": {},
   "source": [
    "+ There is an option to keep only \"=\" instances. However, in the paper, the dataset was divided into training set comprising of \"=\" and test set comprising of \">\" and \"<\". We will implement usual method. "
   ]
  },
  {
   "cell_type": "code",
   "execution_count": 27,
   "id": "8289965e-2830-40a8-915d-f16e923f86d6",
   "metadata": {},
   "outputs": [],
   "source": [
    "df = df[df[\"Standard Relation\"] == \"'='\"]"
   ]
  },
  {
   "cell_type": "code",
   "execution_count": 28,
   "id": "1b14cb9d-0704-472b-aabb-730e942f8121",
   "metadata": {},
   "outputs": [
    {
     "data": {
      "text/html": [
       "<div>\n",
       "<style scoped>\n",
       "    .dataframe tbody tr th:only-of-type {\n",
       "        vertical-align: middle;\n",
       "    }\n",
       "\n",
       "    .dataframe tbody tr th {\n",
       "        vertical-align: top;\n",
       "    }\n",
       "\n",
       "    .dataframe thead th {\n",
       "        text-align: right;\n",
       "    }\n",
       "</style>\n",
       "<table border=\"1\" class=\"dataframe\">\n",
       "  <thead>\n",
       "    <tr style=\"text-align: right;\">\n",
       "      <th></th>\n",
       "      <th>Molecule ChEMBL ID</th>\n",
       "      <th>Smiles</th>\n",
       "      <th>#RO5 Violations</th>\n",
       "      <th>Standard Relation</th>\n",
       "      <th>Standard Value</th>\n",
       "      <th>Standard Units</th>\n",
       "    </tr>\n",
       "  </thead>\n",
       "  <tbody>\n",
       "    <tr>\n",
       "      <th>0</th>\n",
       "      <td>CHEMBL370039</td>\n",
       "      <td>O=C(Cc1cc2ccccc2o1)c1ccc(O)cc1O</td>\n",
       "      <td>0</td>\n",
       "      <td>'='</td>\n",
       "      <td>85700.00</td>\n",
       "      <td>nM</td>\n",
       "    </tr>\n",
       "    <tr>\n",
       "      <th>1</th>\n",
       "      <td>CHEMBL3774737</td>\n",
       "      <td>COC[C@H](C)CN1[C@H](c2c(F)cc(/C=C/C(=O)O)cc2F)...</td>\n",
       "      <td>0</td>\n",
       "      <td>'='</td>\n",
       "      <td>1.20</td>\n",
       "      <td>nM</td>\n",
       "    </tr>\n",
       "    <tr>\n",
       "      <th>2</th>\n",
       "      <td>CHEMBL3775116</td>\n",
       "      <td>CC(C)CN1[C@@H](c2ccc(/C=C/C(=O)O)cc2)c2ccc(O)c...</td>\n",
       "      <td>0</td>\n",
       "      <td>'='</td>\n",
       "      <td>960.00</td>\n",
       "      <td>nM</td>\n",
       "    </tr>\n",
       "    <tr>\n",
       "      <th>4</th>\n",
       "      <td>CHEMBL1597831</td>\n",
       "      <td>O=C(CCCCCn1c(=S)[nH]c2ccccc2c1=O)N1CCC(N(Cc2cc...</td>\n",
       "      <td>2</td>\n",
       "      <td>'='</td>\n",
       "      <td>120.00</td>\n",
       "      <td>nM</td>\n",
       "    </tr>\n",
       "    <tr>\n",
       "      <th>5</th>\n",
       "      <td>CHEMBL1455849</td>\n",
       "      <td>O=C(CCCCCn1c(=S)[nH]c2ccccc2c1=O)N1CCN(c2cccc(...</td>\n",
       "      <td>0</td>\n",
       "      <td>'='</td>\n",
       "      <td>840.00</td>\n",
       "      <td>nM</td>\n",
       "    </tr>\n",
       "    <tr>\n",
       "      <th>...</th>\n",
       "      <td>...</td>\n",
       "      <td>...</td>\n",
       "      <td>...</td>\n",
       "      <td>...</td>\n",
       "      <td>...</td>\n",
       "      <td>...</td>\n",
       "    </tr>\n",
       "    <tr>\n",
       "      <th>3752</th>\n",
       "      <td>CHEMBL4438826</td>\n",
       "      <td>CC1=C(c2cccc(O)c2)C(c2ccc(OCCN3CC[C@@H](C(F)F)...</td>\n",
       "      <td>1</td>\n",
       "      <td>'='</td>\n",
       "      <td>0.20</td>\n",
       "      <td>nM</td>\n",
       "    </tr>\n",
       "    <tr>\n",
       "      <th>3754</th>\n",
       "      <td>CHEMBL101382</td>\n",
       "      <td>Oc1ccc2c(c1)CCN(c1ccccc1)C2c1ccc(OCCN2CCCCC2)cc1</td>\n",
       "      <td>1</td>\n",
       "      <td>'='</td>\n",
       "      <td>19.01</td>\n",
       "      <td>nM</td>\n",
       "    </tr>\n",
       "    <tr>\n",
       "      <th>3755</th>\n",
       "      <td>CHEMBL135</td>\n",
       "      <td>C[C@]12CC[C@@H]3c4ccc(O)cc4CC[C@H]3[C@@H]1CC[C...</td>\n",
       "      <td>0</td>\n",
       "      <td>'='</td>\n",
       "      <td>4.70</td>\n",
       "      <td>nM</td>\n",
       "    </tr>\n",
       "    <tr>\n",
       "      <th>3756</th>\n",
       "      <td>CHEMBL81</td>\n",
       "      <td>O=C(c1ccc(OCCN2CCCCC2)cc1)c1c(-c2ccc(O)cc2)sc2...</td>\n",
       "      <td>1</td>\n",
       "      <td>'='</td>\n",
       "      <td>0.72</td>\n",
       "      <td>nM</td>\n",
       "    </tr>\n",
       "    <tr>\n",
       "      <th>3757</th>\n",
       "      <td>CHEMBL81</td>\n",
       "      <td>O=C(c1ccc(OCCN2CCCCC2)cc1)c1c(-c2ccc(O)cc2)sc2...</td>\n",
       "      <td>1</td>\n",
       "      <td>'='</td>\n",
       "      <td>2.40</td>\n",
       "      <td>nM</td>\n",
       "    </tr>\n",
       "  </tbody>\n",
       "</table>\n",
       "<p>3236 rows × 6 columns</p>\n",
       "</div>"
      ],
      "text/plain": [
       "     Molecule ChEMBL ID                                             Smiles  \\\n",
       "0          CHEMBL370039                    O=C(Cc1cc2ccccc2o1)c1ccc(O)cc1O   \n",
       "1         CHEMBL3774737  COC[C@H](C)CN1[C@H](c2c(F)cc(/C=C/C(=O)O)cc2F)...   \n",
       "2         CHEMBL3775116  CC(C)CN1[C@@H](c2ccc(/C=C/C(=O)O)cc2)c2ccc(O)c...   \n",
       "4         CHEMBL1597831  O=C(CCCCCn1c(=S)[nH]c2ccccc2c1=O)N1CCC(N(Cc2cc...   \n",
       "5         CHEMBL1455849  O=C(CCCCCn1c(=S)[nH]c2ccccc2c1=O)N1CCN(c2cccc(...   \n",
       "...                 ...                                                ...   \n",
       "3752      CHEMBL4438826  CC1=C(c2cccc(O)c2)C(c2ccc(OCCN3CC[C@@H](C(F)F)...   \n",
       "3754       CHEMBL101382   Oc1ccc2c(c1)CCN(c1ccccc1)C2c1ccc(OCCN2CCCCC2)cc1   \n",
       "3755          CHEMBL135  C[C@]12CC[C@@H]3c4ccc(O)cc4CC[C@H]3[C@@H]1CC[C...   \n",
       "3756           CHEMBL81  O=C(c1ccc(OCCN2CCCCC2)cc1)c1c(-c2ccc(O)cc2)sc2...   \n",
       "3757           CHEMBL81  O=C(c1ccc(OCCN2CCCCC2)cc1)c1c(-c2ccc(O)cc2)sc2...   \n",
       "\n",
       "     #RO5 Violations Standard Relation  Standard Value Standard Units  \n",
       "0                  0               '='        85700.00             nM  \n",
       "1                  0               '='            1.20             nM  \n",
       "2                  0               '='          960.00             nM  \n",
       "4                  2               '='          120.00             nM  \n",
       "5                  0               '='          840.00             nM  \n",
       "...              ...               ...             ...            ...  \n",
       "3752               1               '='            0.20             nM  \n",
       "3754               1               '='           19.01             nM  \n",
       "3755               0               '='            4.70             nM  \n",
       "3756               1               '='            0.72             nM  \n",
       "3757               1               '='            2.40             nM  \n",
       "\n",
       "[3236 rows x 6 columns]"
      ]
     },
     "execution_count": 28,
     "metadata": {},
     "output_type": "execute_result"
    }
   ],
   "source": [
    "df"
   ]
  },
  {
   "cell_type": "markdown",
   "id": "49cd8318-fb2b-41ce-a7e9-74e72704e79c",
   "metadata": {},
   "source": [
    "+ Check for duplicate molecules."
   ]
  },
  {
   "cell_type": "markdown",
   "id": "c4f0eec1-9689-4391-81e5-479bf0c22616",
   "metadata": {},
   "source": [
    "+ Duplicate molecules with std of IC50 more than 2 will be removed. For those with std < 2, the median will be used."
   ]
  },
  {
   "cell_type": "code",
   "execution_count": 29,
   "id": "f1dbe980-e471-41a7-a2f2-6d9dacfacf3c",
   "metadata": {},
   "outputs": [
    {
     "data": {
      "text/html": [
       "<div>\n",
       "<style scoped>\n",
       "    .dataframe tbody tr th:only-of-type {\n",
       "        vertical-align: middle;\n",
       "    }\n",
       "\n",
       "    .dataframe tbody tr th {\n",
       "        vertical-align: top;\n",
       "    }\n",
       "\n",
       "    .dataframe thead th {\n",
       "        text-align: right;\n",
       "    }\n",
       "</style>\n",
       "<table border=\"1\" class=\"dataframe\">\n",
       "  <thead>\n",
       "    <tr style=\"text-align: right;\">\n",
       "      <th></th>\n",
       "      <th>Standard Value</th>\n",
       "    </tr>\n",
       "    <tr>\n",
       "      <th>Molecule ChEMBL ID</th>\n",
       "      <th></th>\n",
       "    </tr>\n",
       "  </thead>\n",
       "  <tbody>\n",
       "    <tr>\n",
       "      <th>CHEMBL100231</th>\n",
       "      <td>37.978104</td>\n",
       "    </tr>\n",
       "    <tr>\n",
       "      <th>CHEMBL100595</th>\n",
       "      <td>17.268551</td>\n",
       "    </tr>\n",
       "    <tr>\n",
       "      <th>CHEMBL100617</th>\n",
       "      <td>19.214282</td>\n",
       "    </tr>\n",
       "    <tr>\n",
       "      <th>CHEMBL100763</th>\n",
       "      <td>13.676276</td>\n",
       "    </tr>\n",
       "    <tr>\n",
       "      <th>CHEMBL101083</th>\n",
       "      <td>19.582394</td>\n",
       "    </tr>\n",
       "    <tr>\n",
       "      <th>...</th>\n",
       "      <td>...</td>\n",
       "    </tr>\n",
       "    <tr>\n",
       "      <th>CHEMBL94225</th>\n",
       "      <td>1.626346</td>\n",
       "    </tr>\n",
       "    <tr>\n",
       "      <th>CHEMBL94280</th>\n",
       "      <td>NaN</td>\n",
       "    </tr>\n",
       "    <tr>\n",
       "      <th>CHEMBL954</th>\n",
       "      <td>NaN</td>\n",
       "    </tr>\n",
       "    <tr>\n",
       "      <th>CHEMBL98470</th>\n",
       "      <td>23.887876</td>\n",
       "    </tr>\n",
       "    <tr>\n",
       "      <th>CHEMBL98558</th>\n",
       "      <td>21.435610</td>\n",
       "    </tr>\n",
       "  </tbody>\n",
       "</table>\n",
       "<p>2376 rows × 1 columns</p>\n",
       "</div>"
      ],
      "text/plain": [
       "                    Standard Value\n",
       "Molecule ChEMBL ID                \n",
       "CHEMBL100231             37.978104\n",
       "CHEMBL100595             17.268551\n",
       "CHEMBL100617             19.214282\n",
       "CHEMBL100763             13.676276\n",
       "CHEMBL101083             19.582394\n",
       "...                            ...\n",
       "CHEMBL94225               1.626346\n",
       "CHEMBL94280                    NaN\n",
       "CHEMBL954                      NaN\n",
       "CHEMBL98470              23.887876\n",
       "CHEMBL98558              21.435610\n",
       "\n",
       "[2376 rows x 1 columns]"
      ]
     },
     "execution_count": 29,
     "metadata": {},
     "output_type": "execute_result"
    }
   ],
   "source": [
    "std_by_uniqueID = df.groupby(\"Molecule ChEMBL ID\").std()\n",
    "std_by_uniqueID"
   ]
  },
  {
   "cell_type": "code",
   "execution_count": 30,
   "id": "ec59b801-fde6-4400-adb9-55747b553e7b",
   "metadata": {},
   "outputs": [],
   "source": [
    "mean_std = df.groupby(\"Molecule ChEMBL ID\",as_index=False).agg({\"Standard Value\":[\"mean\",\"std\"]})"
   ]
  },
  {
   "cell_type": "code",
   "execution_count": 31,
   "id": "039eaeb2-ac09-4229-b099-0a885d532772",
   "metadata": {},
   "outputs": [
    {
     "name": "stderr",
     "output_type": "stream",
     "text": [
      "/Users/sherifelsabbagh/opt/anaconda3/envs/my-rdkit-env/lib/python3.9/site-packages/pandas/core/reshape/merge.py:618: UserWarning: merging between different levels can give an unintended result (1 levels on the left, 2 on the right)\n",
      "  warnings.warn(msg, UserWarning)\n",
      "/Users/sherifelsabbagh/opt/anaconda3/envs/my-rdkit-env/lib/python3.9/site-packages/pandas/core/generic.py:3936: PerformanceWarning: dropping on a non-lexsorted multi-index without a level parameter may impact performance.\n",
      "  obj = obj._drop_axis(labels, axis, level=level, errors=errors)\n"
     ]
    }
   ],
   "source": [
    "df_ = df.merge(mean_std,how=\"inner\",on=\"Molecule ChEMBL ID\")"
   ]
  },
  {
   "cell_type": "code",
   "execution_count": 32,
   "id": "f93f91ed-a7e5-43f7-a16a-78ba4416cce0",
   "metadata": {},
   "outputs": [
    {
     "data": {
      "text/html": [
       "<div>\n",
       "<style scoped>\n",
       "    .dataframe tbody tr th:only-of-type {\n",
       "        vertical-align: middle;\n",
       "    }\n",
       "\n",
       "    .dataframe tbody tr th {\n",
       "        vertical-align: top;\n",
       "    }\n",
       "\n",
       "    .dataframe thead th {\n",
       "        text-align: right;\n",
       "    }\n",
       "</style>\n",
       "<table border=\"1\" class=\"dataframe\">\n",
       "  <thead>\n",
       "    <tr style=\"text-align: right;\">\n",
       "      <th></th>\n",
       "      <th>Molecule ChEMBL ID</th>\n",
       "      <th>Smiles</th>\n",
       "      <th>#RO5 Violations</th>\n",
       "      <th>Standard Relation</th>\n",
       "      <th>Standard Value</th>\n",
       "      <th>Standard Units</th>\n",
       "      <th>(Standard Value, mean)</th>\n",
       "      <th>(Standard Value, std)</th>\n",
       "    </tr>\n",
       "  </thead>\n",
       "  <tbody>\n",
       "    <tr>\n",
       "      <th>0</th>\n",
       "      <td>CHEMBL370039</td>\n",
       "      <td>O=C(Cc1cc2ccccc2o1)c1ccc(O)cc1O</td>\n",
       "      <td>0</td>\n",
       "      <td>'='</td>\n",
       "      <td>85700.0</td>\n",
       "      <td>nM</td>\n",
       "      <td>85700.0</td>\n",
       "      <td>0.000000</td>\n",
       "    </tr>\n",
       "    <tr>\n",
       "      <th>1</th>\n",
       "      <td>CHEMBL370039</td>\n",
       "      <td>O=C(Cc1cc2ccccc2o1)c1ccc(O)cc1O</td>\n",
       "      <td>0</td>\n",
       "      <td>'='</td>\n",
       "      <td>85700.0</td>\n",
       "      <td>nM</td>\n",
       "      <td>85700.0</td>\n",
       "      <td>0.000000</td>\n",
       "    </tr>\n",
       "    <tr>\n",
       "      <th>2</th>\n",
       "      <td>CHEMBL370039</td>\n",
       "      <td>O=C(Cc1cc2ccccc2o1)c1ccc(O)cc1O</td>\n",
       "      <td>0</td>\n",
       "      <td>'='</td>\n",
       "      <td>85700.0</td>\n",
       "      <td>nM</td>\n",
       "      <td>85700.0</td>\n",
       "      <td>0.000000</td>\n",
       "    </tr>\n",
       "    <tr>\n",
       "      <th>3</th>\n",
       "      <td>CHEMBL3774737</td>\n",
       "      <td>COC[C@H](C)CN1[C@H](c2c(F)cc(/C=C/C(=O)O)cc2F)...</td>\n",
       "      <td>0</td>\n",
       "      <td>'='</td>\n",
       "      <td>1.2</td>\n",
       "      <td>nM</td>\n",
       "      <td>2.0</td>\n",
       "      <td>1.131371</td>\n",
       "    </tr>\n",
       "    <tr>\n",
       "      <th>4</th>\n",
       "      <td>CHEMBL3774737</td>\n",
       "      <td>COC[C@H](C)CN1[C@H](c2c(F)cc(/C=C/C(=O)O)cc2F)...</td>\n",
       "      <td>0</td>\n",
       "      <td>'='</td>\n",
       "      <td>2.8</td>\n",
       "      <td>nM</td>\n",
       "      <td>2.0</td>\n",
       "      <td>1.131371</td>\n",
       "    </tr>\n",
       "  </tbody>\n",
       "</table>\n",
       "</div>"
      ],
      "text/plain": [
       "  Molecule ChEMBL ID                                             Smiles  \\\n",
       "0       CHEMBL370039                    O=C(Cc1cc2ccccc2o1)c1ccc(O)cc1O   \n",
       "1       CHEMBL370039                    O=C(Cc1cc2ccccc2o1)c1ccc(O)cc1O   \n",
       "2       CHEMBL370039                    O=C(Cc1cc2ccccc2o1)c1ccc(O)cc1O   \n",
       "3      CHEMBL3774737  COC[C@H](C)CN1[C@H](c2c(F)cc(/C=C/C(=O)O)cc2F)...   \n",
       "4      CHEMBL3774737  COC[C@H](C)CN1[C@H](c2c(F)cc(/C=C/C(=O)O)cc2F)...   \n",
       "\n",
       "  #RO5 Violations Standard Relation  Standard Value Standard Units  \\\n",
       "0               0               '='         85700.0             nM   \n",
       "1               0               '='         85700.0             nM   \n",
       "2               0               '='         85700.0             nM   \n",
       "3               0               '='             1.2             nM   \n",
       "4               0               '='             2.8             nM   \n",
       "\n",
       "   (Standard Value, mean)  (Standard Value, std)  \n",
       "0                 85700.0               0.000000  \n",
       "1                 85700.0               0.000000  \n",
       "2                 85700.0               0.000000  \n",
       "3                     2.0               1.131371  \n",
       "4                     2.0               1.131371  "
      ]
     },
     "execution_count": 32,
     "metadata": {},
     "output_type": "execute_result"
    }
   ],
   "source": [
    "df_.head()"
   ]
  },
  {
   "cell_type": "code",
   "execution_count": 33,
   "id": "f6c4419b-e2e8-4a62-a082-90c8c92bb0d4",
   "metadata": {},
   "outputs": [
    {
     "name": "stdout",
     "output_type": "stream",
     "text": [
      "<class 'pandas.core.frame.DataFrame'>\n",
      "Int64Index: 3236 entries, 0 to 3235\n",
      "Data columns (total 8 columns):\n",
      " #   Column                  Non-Null Count  Dtype  \n",
      "---  ------                  --------------  -----  \n",
      " 0   Molecule ChEMBL ID      3236 non-null   object \n",
      " 1   Smiles                  3236 non-null   object \n",
      " 2   #RO5 Violations         3236 non-null   object \n",
      " 3   Standard Relation       3236 non-null   object \n",
      " 4   Standard Value          3236 non-null   float64\n",
      " 5   Standard Units          3236 non-null   object \n",
      " 6   (Standard Value, mean)  3236 non-null   float64\n",
      " 7   (Standard Value, std)   1320 non-null   float64\n",
      "dtypes: float64(3), object(5)\n",
      "memory usage: 227.5+ KB\n"
     ]
    }
   ],
   "source": [
    "df_.info()"
   ]
  },
  {
   "cell_type": "markdown",
   "id": "56a982b8-559d-4ab2-a0fe-9f8d466337e9",
   "metadata": {},
   "source": [
    "+ Take into account that (Standard Value, std) has null values, meaning molecules has std deviation"
   ]
  },
  {
   "cell_type": "code",
   "execution_count": 34,
   "id": "4c1ae968-7dcd-4ca8-9567-9303db1f7f59",
   "metadata": {},
   "outputs": [],
   "source": [
    "df_ = df_[(df_[('Standard Value', 'std')] < 2) | (df_[('Standard Value', 'std')].isna()) ]"
   ]
  },
  {
   "cell_type": "code",
   "execution_count": 35,
   "id": "c1346109-9db8-4be9-b22e-2807cb882726",
   "metadata": {},
   "outputs": [
    {
     "data": {
      "text/html": [
       "<div>\n",
       "<style scoped>\n",
       "    .dataframe tbody tr th:only-of-type {\n",
       "        vertical-align: middle;\n",
       "    }\n",
       "\n",
       "    .dataframe tbody tr th {\n",
       "        vertical-align: top;\n",
       "    }\n",
       "\n",
       "    .dataframe thead th {\n",
       "        text-align: right;\n",
       "    }\n",
       "</style>\n",
       "<table border=\"1\" class=\"dataframe\">\n",
       "  <thead>\n",
       "    <tr style=\"text-align: right;\">\n",
       "      <th></th>\n",
       "      <th>Molecule ChEMBL ID</th>\n",
       "      <th>Smiles</th>\n",
       "      <th>#RO5 Violations</th>\n",
       "      <th>Standard Relation</th>\n",
       "      <th>Standard Value</th>\n",
       "      <th>Standard Units</th>\n",
       "      <th>(Standard Value, mean)</th>\n",
       "      <th>(Standard Value, std)</th>\n",
       "    </tr>\n",
       "  </thead>\n",
       "  <tbody>\n",
       "    <tr>\n",
       "      <th>0</th>\n",
       "      <td>CHEMBL370039</td>\n",
       "      <td>O=C(Cc1cc2ccccc2o1)c1ccc(O)cc1O</td>\n",
       "      <td>0</td>\n",
       "      <td>'='</td>\n",
       "      <td>85700.0</td>\n",
       "      <td>nM</td>\n",
       "      <td>85700.0</td>\n",
       "      <td>0.000000</td>\n",
       "    </tr>\n",
       "    <tr>\n",
       "      <th>1</th>\n",
       "      <td>CHEMBL370039</td>\n",
       "      <td>O=C(Cc1cc2ccccc2o1)c1ccc(O)cc1O</td>\n",
       "      <td>0</td>\n",
       "      <td>'='</td>\n",
       "      <td>85700.0</td>\n",
       "      <td>nM</td>\n",
       "      <td>85700.0</td>\n",
       "      <td>0.000000</td>\n",
       "    </tr>\n",
       "    <tr>\n",
       "      <th>2</th>\n",
       "      <td>CHEMBL370039</td>\n",
       "      <td>O=C(Cc1cc2ccccc2o1)c1ccc(O)cc1O</td>\n",
       "      <td>0</td>\n",
       "      <td>'='</td>\n",
       "      <td>85700.0</td>\n",
       "      <td>nM</td>\n",
       "      <td>85700.0</td>\n",
       "      <td>0.000000</td>\n",
       "    </tr>\n",
       "    <tr>\n",
       "      <th>3</th>\n",
       "      <td>CHEMBL3774737</td>\n",
       "      <td>COC[C@H](C)CN1[C@H](c2c(F)cc(/C=C/C(=O)O)cc2F)...</td>\n",
       "      <td>0</td>\n",
       "      <td>'='</td>\n",
       "      <td>1.2</td>\n",
       "      <td>nM</td>\n",
       "      <td>2.0</td>\n",
       "      <td>1.131371</td>\n",
       "    </tr>\n",
       "    <tr>\n",
       "      <th>4</th>\n",
       "      <td>CHEMBL3774737</td>\n",
       "      <td>COC[C@H](C)CN1[C@H](c2c(F)cc(/C=C/C(=O)O)cc2F)...</td>\n",
       "      <td>0</td>\n",
       "      <td>'='</td>\n",
       "      <td>2.8</td>\n",
       "      <td>nM</td>\n",
       "      <td>2.0</td>\n",
       "      <td>1.131371</td>\n",
       "    </tr>\n",
       "  </tbody>\n",
       "</table>\n",
       "</div>"
      ],
      "text/plain": [
       "  Molecule ChEMBL ID                                             Smiles  \\\n",
       "0       CHEMBL370039                    O=C(Cc1cc2ccccc2o1)c1ccc(O)cc1O   \n",
       "1       CHEMBL370039                    O=C(Cc1cc2ccccc2o1)c1ccc(O)cc1O   \n",
       "2       CHEMBL370039                    O=C(Cc1cc2ccccc2o1)c1ccc(O)cc1O   \n",
       "3      CHEMBL3774737  COC[C@H](C)CN1[C@H](c2c(F)cc(/C=C/C(=O)O)cc2F)...   \n",
       "4      CHEMBL3774737  COC[C@H](C)CN1[C@H](c2c(F)cc(/C=C/C(=O)O)cc2F)...   \n",
       "\n",
       "  #RO5 Violations Standard Relation  Standard Value Standard Units  \\\n",
       "0               0               '='         85700.0             nM   \n",
       "1               0               '='         85700.0             nM   \n",
       "2               0               '='         85700.0             nM   \n",
       "3               0               '='             1.2             nM   \n",
       "4               0               '='             2.8             nM   \n",
       "\n",
       "   (Standard Value, mean)  (Standard Value, std)  \n",
       "0                 85700.0               0.000000  \n",
       "1                 85700.0               0.000000  \n",
       "2                 85700.0               0.000000  \n",
       "3                     2.0               1.131371  \n",
       "4                     2.0               1.131371  "
      ]
     },
     "execution_count": 35,
     "metadata": {},
     "output_type": "execute_result"
    }
   ],
   "source": [
    "df_.head()"
   ]
  },
  {
   "cell_type": "code",
   "execution_count": 36,
   "id": "84889bc7-0262-4d9a-b432-fb6ccec69d64",
   "metadata": {},
   "outputs": [
    {
     "data": {
      "text/plain": [
       "(2156, 8)"
      ]
     },
     "execution_count": 36,
     "metadata": {},
     "output_type": "execute_result"
    }
   ],
   "source": [
    "df_.shape"
   ]
  },
  {
   "cell_type": "markdown",
   "id": "3b31cf19-f751-4553-83a8-33b2ee06a963",
   "metadata": {},
   "source": [
    "+ Replace value of duplicated molecules with the median value and then keep only instance. "
   ]
  },
  {
   "cell_type": "code",
   "execution_count": 37,
   "id": "87e19c5d-416e-4d3d-8f17-2c074c0fecf1",
   "metadata": {},
   "outputs": [],
   "source": [
    "df_[\"new_value\"] = df_.groupby(\"Molecule ChEMBL ID\")[\"Standard Value\"].transform(\"median\")"
   ]
  },
  {
   "cell_type": "code",
   "execution_count": 38,
   "id": "af7779a8-3116-4963-a8c6-57a3dddceec7",
   "metadata": {},
   "outputs": [
    {
     "data": {
      "text/html": [
       "<div>\n",
       "<style scoped>\n",
       "    .dataframe tbody tr th:only-of-type {\n",
       "        vertical-align: middle;\n",
       "    }\n",
       "\n",
       "    .dataframe tbody tr th {\n",
       "        vertical-align: top;\n",
       "    }\n",
       "\n",
       "    .dataframe thead th {\n",
       "        text-align: right;\n",
       "    }\n",
       "</style>\n",
       "<table border=\"1\" class=\"dataframe\">\n",
       "  <thead>\n",
       "    <tr style=\"text-align: right;\">\n",
       "      <th></th>\n",
       "      <th>Molecule ChEMBL ID</th>\n",
       "      <th>Smiles</th>\n",
       "      <th>#RO5 Violations</th>\n",
       "      <th>Standard Relation</th>\n",
       "      <th>Standard Value</th>\n",
       "      <th>Standard Units</th>\n",
       "      <th>(Standard Value, mean)</th>\n",
       "      <th>(Standard Value, std)</th>\n",
       "      <th>new_value</th>\n",
       "    </tr>\n",
       "  </thead>\n",
       "  <tbody>\n",
       "    <tr>\n",
       "      <th>0</th>\n",
       "      <td>CHEMBL370039</td>\n",
       "      <td>O=C(Cc1cc2ccccc2o1)c1ccc(O)cc1O</td>\n",
       "      <td>0</td>\n",
       "      <td>'='</td>\n",
       "      <td>85700.0</td>\n",
       "      <td>nM</td>\n",
       "      <td>85700.0</td>\n",
       "      <td>0.000000</td>\n",
       "      <td>85700.0</td>\n",
       "    </tr>\n",
       "    <tr>\n",
       "      <th>1</th>\n",
       "      <td>CHEMBL370039</td>\n",
       "      <td>O=C(Cc1cc2ccccc2o1)c1ccc(O)cc1O</td>\n",
       "      <td>0</td>\n",
       "      <td>'='</td>\n",
       "      <td>85700.0</td>\n",
       "      <td>nM</td>\n",
       "      <td>85700.0</td>\n",
       "      <td>0.000000</td>\n",
       "      <td>85700.0</td>\n",
       "    </tr>\n",
       "    <tr>\n",
       "      <th>2</th>\n",
       "      <td>CHEMBL370039</td>\n",
       "      <td>O=C(Cc1cc2ccccc2o1)c1ccc(O)cc1O</td>\n",
       "      <td>0</td>\n",
       "      <td>'='</td>\n",
       "      <td>85700.0</td>\n",
       "      <td>nM</td>\n",
       "      <td>85700.0</td>\n",
       "      <td>0.000000</td>\n",
       "      <td>85700.0</td>\n",
       "    </tr>\n",
       "    <tr>\n",
       "      <th>3</th>\n",
       "      <td>CHEMBL3774737</td>\n",
       "      <td>COC[C@H](C)CN1[C@H](c2c(F)cc(/C=C/C(=O)O)cc2F)...</td>\n",
       "      <td>0</td>\n",
       "      <td>'='</td>\n",
       "      <td>1.2</td>\n",
       "      <td>nM</td>\n",
       "      <td>2.0</td>\n",
       "      <td>1.131371</td>\n",
       "      <td>2.0</td>\n",
       "    </tr>\n",
       "    <tr>\n",
       "      <th>4</th>\n",
       "      <td>CHEMBL3774737</td>\n",
       "      <td>COC[C@H](C)CN1[C@H](c2c(F)cc(/C=C/C(=O)O)cc2F)...</td>\n",
       "      <td>0</td>\n",
       "      <td>'='</td>\n",
       "      <td>2.8</td>\n",
       "      <td>nM</td>\n",
       "      <td>2.0</td>\n",
       "      <td>1.131371</td>\n",
       "      <td>2.0</td>\n",
       "    </tr>\n",
       "    <tr>\n",
       "      <th>5</th>\n",
       "      <td>CHEMBL3775116</td>\n",
       "      <td>CC(C)CN1[C@@H](c2ccc(/C=C/C(=O)O)cc2)c2ccc(O)c...</td>\n",
       "      <td>0</td>\n",
       "      <td>'='</td>\n",
       "      <td>960.0</td>\n",
       "      <td>nM</td>\n",
       "      <td>960.0</td>\n",
       "      <td>NaN</td>\n",
       "      <td>960.0</td>\n",
       "    </tr>\n",
       "    <tr>\n",
       "      <th>6</th>\n",
       "      <td>CHEMBL1597831</td>\n",
       "      <td>O=C(CCCCCn1c(=S)[nH]c2ccccc2c1=O)N1CCC(N(Cc2cc...</td>\n",
       "      <td>2</td>\n",
       "      <td>'='</td>\n",
       "      <td>120.0</td>\n",
       "      <td>nM</td>\n",
       "      <td>120.0</td>\n",
       "      <td>NaN</td>\n",
       "      <td>120.0</td>\n",
       "    </tr>\n",
       "    <tr>\n",
       "      <th>7</th>\n",
       "      <td>CHEMBL1455849</td>\n",
       "      <td>O=C(CCCCCn1c(=S)[nH]c2ccccc2c1=O)N1CCN(c2cccc(...</td>\n",
       "      <td>0</td>\n",
       "      <td>'='</td>\n",
       "      <td>840.0</td>\n",
       "      <td>nM</td>\n",
       "      <td>840.0</td>\n",
       "      <td>NaN</td>\n",
       "      <td>840.0</td>\n",
       "    </tr>\n",
       "    <tr>\n",
       "      <th>39</th>\n",
       "      <td>CHEMBL3936897</td>\n",
       "      <td>Cl.Cl.N#CC(=C(c1ccc(OCCN2CCOCC2)cc1)c1ccc(OCCN...</td>\n",
       "      <td>1</td>\n",
       "      <td>'='</td>\n",
       "      <td>553.0</td>\n",
       "      <td>nM</td>\n",
       "      <td>553.0</td>\n",
       "      <td>NaN</td>\n",
       "      <td>553.0</td>\n",
       "    </tr>\n",
       "    <tr>\n",
       "      <th>40</th>\n",
       "      <td>CHEMBL93326</td>\n",
       "      <td>O=C(N1CCc2cc(O)ccc2[C@H]1c1ccc(O)cc1)C(F)(F)F</td>\n",
       "      <td>0</td>\n",
       "      <td>'='</td>\n",
       "      <td>53.6</td>\n",
       "      <td>nM</td>\n",
       "      <td>53.6</td>\n",
       "      <td>NaN</td>\n",
       "      <td>53.6</td>\n",
       "    </tr>\n",
       "    <tr>\n",
       "      <th>41</th>\n",
       "      <td>CHEMBL328475</td>\n",
       "      <td>O=S(=O)(c1ccc2ccccc2c1)N1CCc2cc(O)ccc2C1c1ccc(...</td>\n",
       "      <td>2</td>\n",
       "      <td>'='</td>\n",
       "      <td>112.0</td>\n",
       "      <td>nM</td>\n",
       "      <td>112.0</td>\n",
       "      <td>NaN</td>\n",
       "      <td>112.0</td>\n",
       "    </tr>\n",
       "    <tr>\n",
       "      <th>42</th>\n",
       "      <td>CHEMBL316003</td>\n",
       "      <td>CCc1c(-c2ccc(O)cc2)oc(-c2ccc(O)cc2)c1-c1ccc(OC...</td>\n",
       "      <td>1</td>\n",
       "      <td>'='</td>\n",
       "      <td>65.0</td>\n",
       "      <td>nM</td>\n",
       "      <td>65.0</td>\n",
       "      <td>NaN</td>\n",
       "      <td>65.0</td>\n",
       "    </tr>\n",
       "    <tr>\n",
       "      <th>43</th>\n",
       "      <td>CHEMBL484451</td>\n",
       "      <td>CCc1cc(NCC(C)C)nc(NCC(C)C)n1</td>\n",
       "      <td>0</td>\n",
       "      <td>'='</td>\n",
       "      <td>7300.0</td>\n",
       "      <td>nM</td>\n",
       "      <td>7300.0</td>\n",
       "      <td>NaN</td>\n",
       "      <td>7300.0</td>\n",
       "    </tr>\n",
       "    <tr>\n",
       "      <th>110</th>\n",
       "      <td>CHEMBL4161695</td>\n",
       "      <td>CC1=C(c2cccc(O)c2)C(c2ccc(OCCN3CCC3)cc2)Oc2ccc...</td>\n",
       "      <td>1</td>\n",
       "      <td>'='</td>\n",
       "      <td>0.3</td>\n",
       "      <td>nM</td>\n",
       "      <td>0.3</td>\n",
       "      <td>NaN</td>\n",
       "      <td>0.3</td>\n",
       "    </tr>\n",
       "    <tr>\n",
       "      <th>111</th>\n",
       "      <td>CHEMBL4164133</td>\n",
       "      <td>CC1=C(c2cccc(O)c2)[C@H](c2ccc(OC[C@H](C)N3CC[C...</td>\n",
       "      <td>1</td>\n",
       "      <td>'='</td>\n",
       "      <td>0.1</td>\n",
       "      <td>nM</td>\n",
       "      <td>1.0</td>\n",
       "      <td>1.558846</td>\n",
       "      <td>0.1</td>\n",
       "    </tr>\n",
       "    <tr>\n",
       "      <th>112</th>\n",
       "      <td>CHEMBL4164133</td>\n",
       "      <td>CC1=C(c2cccc(O)c2)[C@H](c2ccc(OC[C@H](C)N3CC[C...</td>\n",
       "      <td>1</td>\n",
       "      <td>'='</td>\n",
       "      <td>2.8</td>\n",
       "      <td>nM</td>\n",
       "      <td>1.0</td>\n",
       "      <td>1.558846</td>\n",
       "      <td>0.1</td>\n",
       "    </tr>\n",
       "    <tr>\n",
       "      <th>113</th>\n",
       "      <td>CHEMBL4164133</td>\n",
       "      <td>CC1=C(c2cccc(O)c2)[C@H](c2ccc(OC[C@H](C)N3CC[C...</td>\n",
       "      <td>1</td>\n",
       "      <td>'='</td>\n",
       "      <td>0.1</td>\n",
       "      <td>nM</td>\n",
       "      <td>1.0</td>\n",
       "      <td>1.558846</td>\n",
       "      <td>0.1</td>\n",
       "    </tr>\n",
       "    <tr>\n",
       "      <th>114</th>\n",
       "      <td>CHEMBL4165384</td>\n",
       "      <td>CCCCOc1ccc(C(CCC)(CCC)c2ccc(O)c(C)c2)cc1C</td>\n",
       "      <td>1</td>\n",
       "      <td>'='</td>\n",
       "      <td>87.0</td>\n",
       "      <td>nM</td>\n",
       "      <td>87.0</td>\n",
       "      <td>NaN</td>\n",
       "      <td>87.0</td>\n",
       "    </tr>\n",
       "    <tr>\n",
       "      <th>120</th>\n",
       "      <td>CHEMBL4169627</td>\n",
       "      <td>CC1=C(c2cccc(O)c2)C(c2ccc(OCCN3CCCC3)cc2)Oc2cc...</td>\n",
       "      <td>1</td>\n",
       "      <td>'='</td>\n",
       "      <td>0.4</td>\n",
       "      <td>nM</td>\n",
       "      <td>0.4</td>\n",
       "      <td>NaN</td>\n",
       "      <td>0.4</td>\n",
       "    </tr>\n",
       "    <tr>\n",
       "      <th>138</th>\n",
       "      <td>CHEMBL3657139</td>\n",
       "      <td>COc1ccc(-c2c(C)c3cc(OC)ccc3n2Cc2ccc(OCCN3CCCCC...</td>\n",
       "      <td>1</td>\n",
       "      <td>'='</td>\n",
       "      <td>600.0</td>\n",
       "      <td>nM</td>\n",
       "      <td>600.0</td>\n",
       "      <td>NaN</td>\n",
       "      <td>600.0</td>\n",
       "    </tr>\n",
       "  </tbody>\n",
       "</table>\n",
       "</div>"
      ],
      "text/plain": [
       "    Molecule ChEMBL ID                                             Smiles  \\\n",
       "0         CHEMBL370039                    O=C(Cc1cc2ccccc2o1)c1ccc(O)cc1O   \n",
       "1         CHEMBL370039                    O=C(Cc1cc2ccccc2o1)c1ccc(O)cc1O   \n",
       "2         CHEMBL370039                    O=C(Cc1cc2ccccc2o1)c1ccc(O)cc1O   \n",
       "3        CHEMBL3774737  COC[C@H](C)CN1[C@H](c2c(F)cc(/C=C/C(=O)O)cc2F)...   \n",
       "4        CHEMBL3774737  COC[C@H](C)CN1[C@H](c2c(F)cc(/C=C/C(=O)O)cc2F)...   \n",
       "5        CHEMBL3775116  CC(C)CN1[C@@H](c2ccc(/C=C/C(=O)O)cc2)c2ccc(O)c...   \n",
       "6        CHEMBL1597831  O=C(CCCCCn1c(=S)[nH]c2ccccc2c1=O)N1CCC(N(Cc2cc...   \n",
       "7        CHEMBL1455849  O=C(CCCCCn1c(=S)[nH]c2ccccc2c1=O)N1CCN(c2cccc(...   \n",
       "39       CHEMBL3936897  Cl.Cl.N#CC(=C(c1ccc(OCCN2CCOCC2)cc1)c1ccc(OCCN...   \n",
       "40         CHEMBL93326      O=C(N1CCc2cc(O)ccc2[C@H]1c1ccc(O)cc1)C(F)(F)F   \n",
       "41        CHEMBL328475  O=S(=O)(c1ccc2ccccc2c1)N1CCc2cc(O)ccc2C1c1ccc(...   \n",
       "42        CHEMBL316003  CCc1c(-c2ccc(O)cc2)oc(-c2ccc(O)cc2)c1-c1ccc(OC...   \n",
       "43        CHEMBL484451                       CCc1cc(NCC(C)C)nc(NCC(C)C)n1   \n",
       "110      CHEMBL4161695  CC1=C(c2cccc(O)c2)C(c2ccc(OCCN3CCC3)cc2)Oc2ccc...   \n",
       "111      CHEMBL4164133  CC1=C(c2cccc(O)c2)[C@H](c2ccc(OC[C@H](C)N3CC[C...   \n",
       "112      CHEMBL4164133  CC1=C(c2cccc(O)c2)[C@H](c2ccc(OC[C@H](C)N3CC[C...   \n",
       "113      CHEMBL4164133  CC1=C(c2cccc(O)c2)[C@H](c2ccc(OC[C@H](C)N3CC[C...   \n",
       "114      CHEMBL4165384          CCCCOc1ccc(C(CCC)(CCC)c2ccc(O)c(C)c2)cc1C   \n",
       "120      CHEMBL4169627  CC1=C(c2cccc(O)c2)C(c2ccc(OCCN3CCCC3)cc2)Oc2cc...   \n",
       "138      CHEMBL3657139  COc1ccc(-c2c(C)c3cc(OC)ccc3n2Cc2ccc(OCCN3CCCCC...   \n",
       "\n",
       "    #RO5 Violations Standard Relation  Standard Value Standard Units  \\\n",
       "0                 0               '='         85700.0             nM   \n",
       "1                 0               '='         85700.0             nM   \n",
       "2                 0               '='         85700.0             nM   \n",
       "3                 0               '='             1.2             nM   \n",
       "4                 0               '='             2.8             nM   \n",
       "5                 0               '='           960.0             nM   \n",
       "6                 2               '='           120.0             nM   \n",
       "7                 0               '='           840.0             nM   \n",
       "39                1               '='           553.0             nM   \n",
       "40                0               '='            53.6             nM   \n",
       "41                2               '='           112.0             nM   \n",
       "42                1               '='            65.0             nM   \n",
       "43                0               '='          7300.0             nM   \n",
       "110               1               '='             0.3             nM   \n",
       "111               1               '='             0.1             nM   \n",
       "112               1               '='             2.8             nM   \n",
       "113               1               '='             0.1             nM   \n",
       "114               1               '='            87.0             nM   \n",
       "120               1               '='             0.4             nM   \n",
       "138               1               '='           600.0             nM   \n",
       "\n",
       "     (Standard Value, mean)  (Standard Value, std)  new_value  \n",
       "0                   85700.0               0.000000    85700.0  \n",
       "1                   85700.0               0.000000    85700.0  \n",
       "2                   85700.0               0.000000    85700.0  \n",
       "3                       2.0               1.131371        2.0  \n",
       "4                       2.0               1.131371        2.0  \n",
       "5                     960.0                    NaN      960.0  \n",
       "6                     120.0                    NaN      120.0  \n",
       "7                     840.0                    NaN      840.0  \n",
       "39                    553.0                    NaN      553.0  \n",
       "40                     53.6                    NaN       53.6  \n",
       "41                    112.0                    NaN      112.0  \n",
       "42                     65.0                    NaN       65.0  \n",
       "43                   7300.0                    NaN     7300.0  \n",
       "110                     0.3                    NaN        0.3  \n",
       "111                     1.0               1.558846        0.1  \n",
       "112                     1.0               1.558846        0.1  \n",
       "113                     1.0               1.558846        0.1  \n",
       "114                    87.0                    NaN       87.0  \n",
       "120                     0.4                    NaN        0.4  \n",
       "138                   600.0                    NaN      600.0  "
      ]
     },
     "execution_count": 38,
     "metadata": {},
     "output_type": "execute_result"
    }
   ],
   "source": [
    "df_.head(20)"
   ]
  },
  {
   "cell_type": "code",
   "execution_count": 39,
   "id": "42db3f41-ccac-4ce5-a179-452fd264fe86",
   "metadata": {},
   "outputs": [],
   "source": [
    "df_.drop_duplicates(\"Molecule ChEMBL ID\",inplace=True)"
   ]
  },
  {
   "cell_type": "code",
   "execution_count": 40,
   "id": "1af1cf52-cb0f-4e51-8ec2-d9380c33d2e3",
   "metadata": {},
   "outputs": [
    {
     "data": {
      "text/plain": [
       "(2017, 9)"
      ]
     },
     "execution_count": 40,
     "metadata": {},
     "output_type": "execute_result"
    }
   ],
   "source": [
    "df_.shape"
   ]
  },
  {
   "cell_type": "code",
   "execution_count": 41,
   "id": "618131f2-9d5f-49b6-be07-912e9134b402",
   "metadata": {},
   "outputs": [],
   "source": [
    "df = df_"
   ]
  },
  {
   "cell_type": "code",
   "execution_count": 42,
   "id": "10a5870f-fed2-4ea3-b107-d8531c60f9ad",
   "metadata": {},
   "outputs": [],
   "source": [
    "df.reset_index(drop=True,inplace=True)"
   ]
  },
  {
   "cell_type": "code",
   "execution_count": 43,
   "id": "4e6b6dfd-8b68-4ed5-8ea5-a877ea40e77e",
   "metadata": {},
   "outputs": [
    {
     "data": {
      "text/html": [
       "<div>\n",
       "<style scoped>\n",
       "    .dataframe tbody tr th:only-of-type {\n",
       "        vertical-align: middle;\n",
       "    }\n",
       "\n",
       "    .dataframe tbody tr th {\n",
       "        vertical-align: top;\n",
       "    }\n",
       "\n",
       "    .dataframe thead th {\n",
       "        text-align: right;\n",
       "    }\n",
       "</style>\n",
       "<table border=\"1\" class=\"dataframe\">\n",
       "  <thead>\n",
       "    <tr style=\"text-align: right;\">\n",
       "      <th></th>\n",
       "      <th>Molecule ChEMBL ID</th>\n",
       "      <th>Smiles</th>\n",
       "      <th>#RO5 Violations</th>\n",
       "      <th>Standard Relation</th>\n",
       "      <th>Standard Value</th>\n",
       "      <th>Standard Units</th>\n",
       "      <th>(Standard Value, mean)</th>\n",
       "      <th>(Standard Value, std)</th>\n",
       "      <th>new_value</th>\n",
       "    </tr>\n",
       "  </thead>\n",
       "  <tbody>\n",
       "    <tr>\n",
       "      <th>0</th>\n",
       "      <td>CHEMBL370039</td>\n",
       "      <td>O=C(Cc1cc2ccccc2o1)c1ccc(O)cc1O</td>\n",
       "      <td>0</td>\n",
       "      <td>'='</td>\n",
       "      <td>85700.0</td>\n",
       "      <td>nM</td>\n",
       "      <td>85700.0</td>\n",
       "      <td>0.000000</td>\n",
       "      <td>85700.0</td>\n",
       "    </tr>\n",
       "    <tr>\n",
       "      <th>1</th>\n",
       "      <td>CHEMBL3774737</td>\n",
       "      <td>COC[C@H](C)CN1[C@H](c2c(F)cc(/C=C/C(=O)O)cc2F)...</td>\n",
       "      <td>0</td>\n",
       "      <td>'='</td>\n",
       "      <td>1.2</td>\n",
       "      <td>nM</td>\n",
       "      <td>2.0</td>\n",
       "      <td>1.131371</td>\n",
       "      <td>2.0</td>\n",
       "    </tr>\n",
       "    <tr>\n",
       "      <th>2</th>\n",
       "      <td>CHEMBL3775116</td>\n",
       "      <td>CC(C)CN1[C@@H](c2ccc(/C=C/C(=O)O)cc2)c2ccc(O)c...</td>\n",
       "      <td>0</td>\n",
       "      <td>'='</td>\n",
       "      <td>960.0</td>\n",
       "      <td>nM</td>\n",
       "      <td>960.0</td>\n",
       "      <td>NaN</td>\n",
       "      <td>960.0</td>\n",
       "    </tr>\n",
       "    <tr>\n",
       "      <th>3</th>\n",
       "      <td>CHEMBL1597831</td>\n",
       "      <td>O=C(CCCCCn1c(=S)[nH]c2ccccc2c1=O)N1CCC(N(Cc2cc...</td>\n",
       "      <td>2</td>\n",
       "      <td>'='</td>\n",
       "      <td>120.0</td>\n",
       "      <td>nM</td>\n",
       "      <td>120.0</td>\n",
       "      <td>NaN</td>\n",
       "      <td>120.0</td>\n",
       "    </tr>\n",
       "    <tr>\n",
       "      <th>4</th>\n",
       "      <td>CHEMBL1455849</td>\n",
       "      <td>O=C(CCCCCn1c(=S)[nH]c2ccccc2c1=O)N1CCN(c2cccc(...</td>\n",
       "      <td>0</td>\n",
       "      <td>'='</td>\n",
       "      <td>840.0</td>\n",
       "      <td>nM</td>\n",
       "      <td>840.0</td>\n",
       "      <td>NaN</td>\n",
       "      <td>840.0</td>\n",
       "    </tr>\n",
       "  </tbody>\n",
       "</table>\n",
       "</div>"
      ],
      "text/plain": [
       "  Molecule ChEMBL ID                                             Smiles  \\\n",
       "0       CHEMBL370039                    O=C(Cc1cc2ccccc2o1)c1ccc(O)cc1O   \n",
       "1      CHEMBL3774737  COC[C@H](C)CN1[C@H](c2c(F)cc(/C=C/C(=O)O)cc2F)...   \n",
       "2      CHEMBL3775116  CC(C)CN1[C@@H](c2ccc(/C=C/C(=O)O)cc2)c2ccc(O)c...   \n",
       "3      CHEMBL1597831  O=C(CCCCCn1c(=S)[nH]c2ccccc2c1=O)N1CCC(N(Cc2cc...   \n",
       "4      CHEMBL1455849  O=C(CCCCCn1c(=S)[nH]c2ccccc2c1=O)N1CCN(c2cccc(...   \n",
       "\n",
       "  #RO5 Violations Standard Relation  Standard Value Standard Units  \\\n",
       "0               0               '='         85700.0             nM   \n",
       "1               0               '='             1.2             nM   \n",
       "2               0               '='           960.0             nM   \n",
       "3               2               '='           120.0             nM   \n",
       "4               0               '='           840.0             nM   \n",
       "\n",
       "   (Standard Value, mean)  (Standard Value, std)  new_value  \n",
       "0                 85700.0               0.000000    85700.0  \n",
       "1                     2.0               1.131371        2.0  \n",
       "2                   960.0                    NaN      960.0  \n",
       "3                   120.0                    NaN      120.0  \n",
       "4                   840.0                    NaN      840.0  "
      ]
     },
     "execution_count": 43,
     "metadata": {},
     "output_type": "execute_result"
    }
   ],
   "source": [
    "df.head()"
   ]
  },
  {
   "cell_type": "code",
   "execution_count": 44,
   "id": "8ca98a55-66a4-4982-888b-0be2eea4c857",
   "metadata": {},
   "outputs": [
    {
     "name": "stdout",
     "output_type": "stream",
     "text": [
      "<class 'pandas.core.frame.DataFrame'>\n",
      "RangeIndex: 2017 entries, 0 to 2016\n",
      "Data columns (total 9 columns):\n",
      " #   Column                  Non-Null Count  Dtype  \n",
      "---  ------                  --------------  -----  \n",
      " 0   Molecule ChEMBL ID      2017 non-null   object \n",
      " 1   Smiles                  2017 non-null   object \n",
      " 2   #RO5 Violations         2017 non-null   object \n",
      " 3   Standard Relation       2017 non-null   object \n",
      " 4   Standard Value          2017 non-null   float64\n",
      " 5   Standard Units          2017 non-null   object \n",
      " 6   (Standard Value, mean)  2017 non-null   float64\n",
      " 7   (Standard Value, std)   101 non-null    float64\n",
      " 8   new_value               2017 non-null   float64\n",
      "dtypes: float64(4), object(5)\n",
      "memory usage: 141.9+ KB\n"
     ]
    }
   ],
   "source": [
    "df.info()"
   ]
  },
  {
   "cell_type": "markdown",
   "id": "1f2b4a9e-47c1-424a-8b10-3d1deb3e21f0",
   "metadata": {},
   "source": [
    "+ For classification problem we need to specificy actives and inactives. \n",
    "\n",
    "++ < 1 uM will be active\n",
    "\n",
    "++ more than 10 uM will be active\n",
    "\n",
    "++ Inbetween will be intermediate."
   ]
  },
  {
   "cell_type": "code",
   "execution_count": 45,
   "id": "af87b646-cc08-460a-8111-6a7214d96180",
   "metadata": {},
   "outputs": [],
   "source": [
    "label = []\n",
    "\n",
    "for i in df[\"Standard Value\"]: \n",
    "    if i <= 1000:\n",
    "        label.append(1)\n",
    "    elif i >= 10000:\n",
    "        label.append(0)\n",
    "    else:\n",
    "        label.append(-1)"
   ]
  },
  {
   "cell_type": "code",
   "execution_count": 46,
   "id": "352abd3e-36de-433f-b02e-1168badbcc8e",
   "metadata": {},
   "outputs": [],
   "source": [
    "df[\"label\"] = label"
   ]
  },
  {
   "cell_type": "code",
   "execution_count": 47,
   "id": "728bcc38-fff8-44c6-8146-1d0969613350",
   "metadata": {},
   "outputs": [
    {
     "data": {
      "text/html": [
       "<div>\n",
       "<style scoped>\n",
       "    .dataframe tbody tr th:only-of-type {\n",
       "        vertical-align: middle;\n",
       "    }\n",
       "\n",
       "    .dataframe tbody tr th {\n",
       "        vertical-align: top;\n",
       "    }\n",
       "\n",
       "    .dataframe thead th {\n",
       "        text-align: right;\n",
       "    }\n",
       "</style>\n",
       "<table border=\"1\" class=\"dataframe\">\n",
       "  <thead>\n",
       "    <tr style=\"text-align: right;\">\n",
       "      <th></th>\n",
       "      <th>Molecule ChEMBL ID</th>\n",
       "      <th>Smiles</th>\n",
       "      <th>#RO5 Violations</th>\n",
       "      <th>Standard Relation</th>\n",
       "      <th>Standard Value</th>\n",
       "      <th>Standard Units</th>\n",
       "      <th>(Standard Value, mean)</th>\n",
       "      <th>(Standard Value, std)</th>\n",
       "      <th>new_value</th>\n",
       "      <th>label</th>\n",
       "    </tr>\n",
       "  </thead>\n",
       "  <tbody>\n",
       "    <tr>\n",
       "      <th>0</th>\n",
       "      <td>CHEMBL370039</td>\n",
       "      <td>O=C(Cc1cc2ccccc2o1)c1ccc(O)cc1O</td>\n",
       "      <td>0</td>\n",
       "      <td>'='</td>\n",
       "      <td>85700.0</td>\n",
       "      <td>nM</td>\n",
       "      <td>85700.0</td>\n",
       "      <td>0.000000</td>\n",
       "      <td>85700.0</td>\n",
       "      <td>0</td>\n",
       "    </tr>\n",
       "    <tr>\n",
       "      <th>1</th>\n",
       "      <td>CHEMBL3774737</td>\n",
       "      <td>COC[C@H](C)CN1[C@H](c2c(F)cc(/C=C/C(=O)O)cc2F)...</td>\n",
       "      <td>0</td>\n",
       "      <td>'='</td>\n",
       "      <td>1.2</td>\n",
       "      <td>nM</td>\n",
       "      <td>2.0</td>\n",
       "      <td>1.131371</td>\n",
       "      <td>2.0</td>\n",
       "      <td>1</td>\n",
       "    </tr>\n",
       "    <tr>\n",
       "      <th>2</th>\n",
       "      <td>CHEMBL3775116</td>\n",
       "      <td>CC(C)CN1[C@@H](c2ccc(/C=C/C(=O)O)cc2)c2ccc(O)c...</td>\n",
       "      <td>0</td>\n",
       "      <td>'='</td>\n",
       "      <td>960.0</td>\n",
       "      <td>nM</td>\n",
       "      <td>960.0</td>\n",
       "      <td>NaN</td>\n",
       "      <td>960.0</td>\n",
       "      <td>1</td>\n",
       "    </tr>\n",
       "    <tr>\n",
       "      <th>3</th>\n",
       "      <td>CHEMBL1597831</td>\n",
       "      <td>O=C(CCCCCn1c(=S)[nH]c2ccccc2c1=O)N1CCC(N(Cc2cc...</td>\n",
       "      <td>2</td>\n",
       "      <td>'='</td>\n",
       "      <td>120.0</td>\n",
       "      <td>nM</td>\n",
       "      <td>120.0</td>\n",
       "      <td>NaN</td>\n",
       "      <td>120.0</td>\n",
       "      <td>1</td>\n",
       "    </tr>\n",
       "    <tr>\n",
       "      <th>4</th>\n",
       "      <td>CHEMBL1455849</td>\n",
       "      <td>O=C(CCCCCn1c(=S)[nH]c2ccccc2c1=O)N1CCN(c2cccc(...</td>\n",
       "      <td>0</td>\n",
       "      <td>'='</td>\n",
       "      <td>840.0</td>\n",
       "      <td>nM</td>\n",
       "      <td>840.0</td>\n",
       "      <td>NaN</td>\n",
       "      <td>840.0</td>\n",
       "      <td>1</td>\n",
       "    </tr>\n",
       "  </tbody>\n",
       "</table>\n",
       "</div>"
      ],
      "text/plain": [
       "  Molecule ChEMBL ID                                             Smiles  \\\n",
       "0       CHEMBL370039                    O=C(Cc1cc2ccccc2o1)c1ccc(O)cc1O   \n",
       "1      CHEMBL3774737  COC[C@H](C)CN1[C@H](c2c(F)cc(/C=C/C(=O)O)cc2F)...   \n",
       "2      CHEMBL3775116  CC(C)CN1[C@@H](c2ccc(/C=C/C(=O)O)cc2)c2ccc(O)c...   \n",
       "3      CHEMBL1597831  O=C(CCCCCn1c(=S)[nH]c2ccccc2c1=O)N1CCC(N(Cc2cc...   \n",
       "4      CHEMBL1455849  O=C(CCCCCn1c(=S)[nH]c2ccccc2c1=O)N1CCN(c2cccc(...   \n",
       "\n",
       "  #RO5 Violations Standard Relation  Standard Value Standard Units  \\\n",
       "0               0               '='         85700.0             nM   \n",
       "1               0               '='             1.2             nM   \n",
       "2               0               '='           960.0             nM   \n",
       "3               2               '='           120.0             nM   \n",
       "4               0               '='           840.0             nM   \n",
       "\n",
       "   (Standard Value, mean)  (Standard Value, std)  new_value  label  \n",
       "0                 85700.0               0.000000    85700.0      0  \n",
       "1                     2.0               1.131371        2.0      1  \n",
       "2                   960.0                    NaN      960.0      1  \n",
       "3                   120.0                    NaN      120.0      1  \n",
       "4                   840.0                    NaN      840.0      1  "
      ]
     },
     "execution_count": 47,
     "metadata": {},
     "output_type": "execute_result"
    }
   ],
   "source": [
    "df.head()"
   ]
  },
  {
   "cell_type": "code",
   "execution_count": 48,
   "id": "738ae0a7-17e2-40f6-aa27-d0df9d9e45d0",
   "metadata": {},
   "outputs": [
    {
     "data": {
      "text/plain": [
       "<AxesSubplot:xlabel='label', ylabel='count'>"
      ]
     },
     "execution_count": 48,
     "metadata": {},
     "output_type": "execute_result"
    },
    {
     "data": {
      "image/png": "[encoded data removed]",
      "text/plain": [
       "<Figure size 432x288 with 1 Axes>"
      ]
     },
     "metadata": {
      "needs_background": "light"
     },
     "output_type": "display_data"
    }
   ],
   "source": [
    "sns.countplot(x=df[\"label\"])"
   ]
  },
  {
   "cell_type": "markdown",
   "id": "e6d4702c-1489-4dd9-848e-15d0237a614c",
   "metadata": {},
   "source": [
    "+ This might represent a case of ***imbalanced dataset***. We will come to this later. "
   ]
  },
  {
   "cell_type": "code",
   "execution_count": 49,
   "id": "aa4e1385-aec5-4aff-b48b-fe23261da0ab",
   "metadata": {},
   "outputs": [
    {
     "name": "stderr",
     "output_type": "stream",
     "text": [
      "/Users/sherifelsabbagh/opt/anaconda3/envs/my-rdkit-env/lib/python3.9/site-packages/seaborn/distributions.py:2619: FutureWarning: `distplot` is a deprecated function and will be removed in a future version. Please adapt your code to use either `displot` (a figure-level function with similar flexibility) or `histplot` (an axes-level function for histograms).\n",
      "  warnings.warn(msg, FutureWarning)\n"
     ]
    },
    {
     "data": {
      "text/plain": [
       "<AxesSubplot:xlabel='Standard Value', ylabel='Density'>"
      ]
     },
     "execution_count": 49,
     "metadata": {},
     "output_type": "execute_result"
    },
    {
     "data": {
      "image/png": "[encoded data removed]",
      "text/plain": [
       "<Figure size 720x360 with 1 Axes>"
      ]
     },
     "metadata": {
      "needs_background": "light"
     },
     "output_type": "display_data"
    }
   ],
   "source": [
    "plt.figure(figsize=(10,5))\n",
    "sns.distplot(df[\"Standard Value\"])"
   ]
  },
  {
   "cell_type": "markdown",
   "id": "d35d7e10-aac4-4157-bf9c-1a263594168a",
   "metadata": {},
   "source": [
    "+ Molecules show a highly variable IC50. To be able to compare easily, we will calculate pIC50 values instead."
   ]
  },
  {
   "cell_type": "code",
   "execution_count": 50,
   "id": "2903ff90-bb30-4d97-a131-cd6745623bbe",
   "metadata": {},
   "outputs": [],
   "source": [
    "import math"
   ]
  },
  {
   "cell_type": "code",
   "execution_count": 51,
   "id": "72337e5b-0828-461a-be84-becadae20341",
   "metadata": {},
   "outputs": [],
   "source": [
    "df[\"pIC50\"] = [9 - math.log10(x) for x in df[\"Standard Value\"]]"
   ]
  },
  {
   "cell_type": "code",
   "execution_count": 52,
   "id": "79262726-dad3-4f39-a5d7-e1001faa35f2",
   "metadata": {},
   "outputs": [
    {
     "data": {
      "text/html": [
       "<div>\n",
       "<style scoped>\n",
       "    .dataframe tbody tr th:only-of-type {\n",
       "        vertical-align: middle;\n",
       "    }\n",
       "\n",
       "    .dataframe tbody tr th {\n",
       "        vertical-align: top;\n",
       "    }\n",
       "\n",
       "    .dataframe thead th {\n",
       "        text-align: right;\n",
       "    }\n",
       "</style>\n",
       "<table border=\"1\" class=\"dataframe\">\n",
       "  <thead>\n",
       "    <tr style=\"text-align: right;\">\n",
       "      <th></th>\n",
       "      <th>Molecule ChEMBL ID</th>\n",
       "      <th>Smiles</th>\n",
       "      <th>#RO5 Violations</th>\n",
       "      <th>Standard Relation</th>\n",
       "      <th>Standard Value</th>\n",
       "      <th>Standard Units</th>\n",
       "      <th>(Standard Value, mean)</th>\n",
       "      <th>(Standard Value, std)</th>\n",
       "      <th>new_value</th>\n",
       "      <th>label</th>\n",
       "      <th>pIC50</th>\n",
       "    </tr>\n",
       "  </thead>\n",
       "  <tbody>\n",
       "    <tr>\n",
       "      <th>0</th>\n",
       "      <td>CHEMBL370039</td>\n",
       "      <td>O=C(Cc1cc2ccccc2o1)c1ccc(O)cc1O</td>\n",
       "      <td>0</td>\n",
       "      <td>'='</td>\n",
       "      <td>85700.0</td>\n",
       "      <td>nM</td>\n",
       "      <td>85700.0</td>\n",
       "      <td>0.000000</td>\n",
       "      <td>85700.0</td>\n",
       "      <td>0</td>\n",
       "      <td>4.067019</td>\n",
       "    </tr>\n",
       "    <tr>\n",
       "      <th>1</th>\n",
       "      <td>CHEMBL3774737</td>\n",
       "      <td>COC[C@H](C)CN1[C@H](c2c(F)cc(/C=C/C(=O)O)cc2F)...</td>\n",
       "      <td>0</td>\n",
       "      <td>'='</td>\n",
       "      <td>1.2</td>\n",
       "      <td>nM</td>\n",
       "      <td>2.0</td>\n",
       "      <td>1.131371</td>\n",
       "      <td>2.0</td>\n",
       "      <td>1</td>\n",
       "      <td>8.920819</td>\n",
       "    </tr>\n",
       "    <tr>\n",
       "      <th>2</th>\n",
       "      <td>CHEMBL3775116</td>\n",
       "      <td>CC(C)CN1[C@@H](c2ccc(/C=C/C(=O)O)cc2)c2ccc(O)c...</td>\n",
       "      <td>0</td>\n",
       "      <td>'='</td>\n",
       "      <td>960.0</td>\n",
       "      <td>nM</td>\n",
       "      <td>960.0</td>\n",
       "      <td>NaN</td>\n",
       "      <td>960.0</td>\n",
       "      <td>1</td>\n",
       "      <td>6.017729</td>\n",
       "    </tr>\n",
       "    <tr>\n",
       "      <th>3</th>\n",
       "      <td>CHEMBL1597831</td>\n",
       "      <td>O=C(CCCCCn1c(=S)[nH]c2ccccc2c1=O)N1CCC(N(Cc2cc...</td>\n",
       "      <td>2</td>\n",
       "      <td>'='</td>\n",
       "      <td>120.0</td>\n",
       "      <td>nM</td>\n",
       "      <td>120.0</td>\n",
       "      <td>NaN</td>\n",
       "      <td>120.0</td>\n",
       "      <td>1</td>\n",
       "      <td>6.920819</td>\n",
       "    </tr>\n",
       "    <tr>\n",
       "      <th>4</th>\n",
       "      <td>CHEMBL1455849</td>\n",
       "      <td>O=C(CCCCCn1c(=S)[nH]c2ccccc2c1=O)N1CCN(c2cccc(...</td>\n",
       "      <td>0</td>\n",
       "      <td>'='</td>\n",
       "      <td>840.0</td>\n",
       "      <td>nM</td>\n",
       "      <td>840.0</td>\n",
       "      <td>NaN</td>\n",
       "      <td>840.0</td>\n",
       "      <td>1</td>\n",
       "      <td>6.075721</td>\n",
       "    </tr>\n",
       "  </tbody>\n",
       "</table>\n",
       "</div>"
      ],
      "text/plain": [
       "  Molecule ChEMBL ID                                             Smiles  \\\n",
       "0       CHEMBL370039                    O=C(Cc1cc2ccccc2o1)c1ccc(O)cc1O   \n",
       "1      CHEMBL3774737  COC[C@H](C)CN1[C@H](c2c(F)cc(/C=C/C(=O)O)cc2F)...   \n",
       "2      CHEMBL3775116  CC(C)CN1[C@@H](c2ccc(/C=C/C(=O)O)cc2)c2ccc(O)c...   \n",
       "3      CHEMBL1597831  O=C(CCCCCn1c(=S)[nH]c2ccccc2c1=O)N1CCC(N(Cc2cc...   \n",
       "4      CHEMBL1455849  O=C(CCCCCn1c(=S)[nH]c2ccccc2c1=O)N1CCN(c2cccc(...   \n",
       "\n",
       "  #RO5 Violations Standard Relation  Standard Value Standard Units  \\\n",
       "0               0               '='         85700.0             nM   \n",
       "1               0               '='             1.2             nM   \n",
       "2               0               '='           960.0             nM   \n",
       "3               2               '='           120.0             nM   \n",
       "4               0               '='           840.0             nM   \n",
       "\n",
       "   (Standard Value, mean)  (Standard Value, std)  new_value  label     pIC50  \n",
       "0                 85700.0               0.000000    85700.0      0  4.067019  \n",
       "1                     2.0               1.131371        2.0      1  8.920819  \n",
       "2                   960.0                    NaN      960.0      1  6.017729  \n",
       "3                   120.0                    NaN      120.0      1  6.920819  \n",
       "4                   840.0                    NaN      840.0      1  6.075721  "
      ]
     },
     "execution_count": 52,
     "metadata": {},
     "output_type": "execute_result"
    }
   ],
   "source": [
    "df.head()"
   ]
  },
  {
   "cell_type": "code",
   "execution_count": 53,
   "id": "6b5eb341-816b-4a0c-ba40-d486fe475f0e",
   "metadata": {},
   "outputs": [
    {
     "data": {
      "text/plain": [
       "<seaborn.axisgrid.FacetGrid at 0x128a82400>"
      ]
     },
     "execution_count": 53,
     "metadata": {},
     "output_type": "execute_result"
    },
    {
     "data": {
      "image/png": "[encoded data removed]",
      "text/plain": [
       "<Figure size 360x360 with 1 Axes>"
      ]
     },
     "metadata": {
      "needs_background": "light"
     },
     "output_type": "display_data"
    }
   ],
   "source": [
    "sns.displot(df[\"pIC50\"])"
   ]
  },
  {
   "cell_type": "code",
   "execution_count": 54,
   "id": "90e7aad4-8f32-4e6f-b98a-ecdeb797c2e0",
   "metadata": {},
   "outputs": [
    {
     "data": {
      "text/plain": [
       "(2017, 11)"
      ]
     },
     "execution_count": 54,
     "metadata": {},
     "output_type": "execute_result"
    }
   ],
   "source": [
    "df.shape"
   ]
  },
  {
   "cell_type": "code",
   "execution_count": 55,
   "id": "13c490d0-01a1-461d-ab46-6b339269f21b",
   "metadata": {},
   "outputs": [],
   "source": [
    "df.reset_index(drop=True,inplace=True)"
   ]
  },
  {
   "cell_type": "code",
   "execution_count": 56,
   "id": "ba467f64-ab7d-47ac-b9d9-a0167499c8e7",
   "metadata": {},
   "outputs": [
    {
     "data": {
      "text/html": [
       "<div>\n",
       "<style scoped>\n",
       "    .dataframe tbody tr th:only-of-type {\n",
       "        vertical-align: middle;\n",
       "    }\n",
       "\n",
       "    .dataframe tbody tr th {\n",
       "        vertical-align: top;\n",
       "    }\n",
       "\n",
       "    .dataframe thead th {\n",
       "        text-align: right;\n",
       "    }\n",
       "</style>\n",
       "<table border=\"1\" class=\"dataframe\">\n",
       "  <thead>\n",
       "    <tr style=\"text-align: right;\">\n",
       "      <th></th>\n",
       "      <th>Molecule ChEMBL ID</th>\n",
       "      <th>Smiles</th>\n",
       "      <th>#RO5 Violations</th>\n",
       "      <th>Standard Relation</th>\n",
       "      <th>Standard Value</th>\n",
       "      <th>Standard Units</th>\n",
       "      <th>(Standard Value, mean)</th>\n",
       "      <th>(Standard Value, std)</th>\n",
       "      <th>new_value</th>\n",
       "      <th>label</th>\n",
       "      <th>pIC50</th>\n",
       "    </tr>\n",
       "  </thead>\n",
       "  <tbody>\n",
       "    <tr>\n",
       "      <th>0</th>\n",
       "      <td>CHEMBL370039</td>\n",
       "      <td>O=C(Cc1cc2ccccc2o1)c1ccc(O)cc1O</td>\n",
       "      <td>0</td>\n",
       "      <td>'='</td>\n",
       "      <td>85700.0</td>\n",
       "      <td>nM</td>\n",
       "      <td>85700.0</td>\n",
       "      <td>0.000000</td>\n",
       "      <td>85700.0</td>\n",
       "      <td>0</td>\n",
       "      <td>4.067019</td>\n",
       "    </tr>\n",
       "    <tr>\n",
       "      <th>1</th>\n",
       "      <td>CHEMBL3774737</td>\n",
       "      <td>COC[C@H](C)CN1[C@H](c2c(F)cc(/C=C/C(=O)O)cc2F)...</td>\n",
       "      <td>0</td>\n",
       "      <td>'='</td>\n",
       "      <td>1.2</td>\n",
       "      <td>nM</td>\n",
       "      <td>2.0</td>\n",
       "      <td>1.131371</td>\n",
       "      <td>2.0</td>\n",
       "      <td>1</td>\n",
       "      <td>8.920819</td>\n",
       "    </tr>\n",
       "    <tr>\n",
       "      <th>2</th>\n",
       "      <td>CHEMBL3775116</td>\n",
       "      <td>CC(C)CN1[C@@H](c2ccc(/C=C/C(=O)O)cc2)c2ccc(O)c...</td>\n",
       "      <td>0</td>\n",
       "      <td>'='</td>\n",
       "      <td>960.0</td>\n",
       "      <td>nM</td>\n",
       "      <td>960.0</td>\n",
       "      <td>NaN</td>\n",
       "      <td>960.0</td>\n",
       "      <td>1</td>\n",
       "      <td>6.017729</td>\n",
       "    </tr>\n",
       "    <tr>\n",
       "      <th>3</th>\n",
       "      <td>CHEMBL1597831</td>\n",
       "      <td>O=C(CCCCCn1c(=S)[nH]c2ccccc2c1=O)N1CCC(N(Cc2cc...</td>\n",
       "      <td>2</td>\n",
       "      <td>'='</td>\n",
       "      <td>120.0</td>\n",
       "      <td>nM</td>\n",
       "      <td>120.0</td>\n",
       "      <td>NaN</td>\n",
       "      <td>120.0</td>\n",
       "      <td>1</td>\n",
       "      <td>6.920819</td>\n",
       "    </tr>\n",
       "    <tr>\n",
       "      <th>4</th>\n",
       "      <td>CHEMBL1455849</td>\n",
       "      <td>O=C(CCCCCn1c(=S)[nH]c2ccccc2c1=O)N1CCN(c2cccc(...</td>\n",
       "      <td>0</td>\n",
       "      <td>'='</td>\n",
       "      <td>840.0</td>\n",
       "      <td>nM</td>\n",
       "      <td>840.0</td>\n",
       "      <td>NaN</td>\n",
       "      <td>840.0</td>\n",
       "      <td>1</td>\n",
       "      <td>6.075721</td>\n",
       "    </tr>\n",
       "  </tbody>\n",
       "</table>\n",
       "</div>"
      ],
      "text/plain": [
       "  Molecule ChEMBL ID                                             Smiles  \\\n",
       "0       CHEMBL370039                    O=C(Cc1cc2ccccc2o1)c1ccc(O)cc1O   \n",
       "1      CHEMBL3774737  COC[C@H](C)CN1[C@H](c2c(F)cc(/C=C/C(=O)O)cc2F)...   \n",
       "2      CHEMBL3775116  CC(C)CN1[C@@H](c2ccc(/C=C/C(=O)O)cc2)c2ccc(O)c...   \n",
       "3      CHEMBL1597831  O=C(CCCCCn1c(=S)[nH]c2ccccc2c1=O)N1CCC(N(Cc2cc...   \n",
       "4      CHEMBL1455849  O=C(CCCCCn1c(=S)[nH]c2ccccc2c1=O)N1CCN(c2cccc(...   \n",
       "\n",
       "  #RO5 Violations Standard Relation  Standard Value Standard Units  \\\n",
       "0               0               '='         85700.0             nM   \n",
       "1               0               '='             1.2             nM   \n",
       "2               0               '='           960.0             nM   \n",
       "3               2               '='           120.0             nM   \n",
       "4               0               '='           840.0             nM   \n",
       "\n",
       "   (Standard Value, mean)  (Standard Value, std)  new_value  label     pIC50  \n",
       "0                 85700.0               0.000000    85700.0      0  4.067019  \n",
       "1                     2.0               1.131371        2.0      1  8.920819  \n",
       "2                   960.0                    NaN      960.0      1  6.017729  \n",
       "3                   120.0                    NaN      120.0      1  6.920819  \n",
       "4                   840.0                    NaN      840.0      1  6.075721  "
      ]
     },
     "execution_count": 56,
     "metadata": {},
     "output_type": "execute_result"
    }
   ],
   "source": [
    "df.head()"
   ]
  },
  {
   "cell_type": "code",
   "execution_count": 57,
   "id": "857e8deb-179e-47be-b65f-4f2230212813",
   "metadata": {},
   "outputs": [],
   "source": [
    "df = df[df[\"label\"] != -1]"
   ]
  },
  {
   "cell_type": "code",
   "execution_count": 58,
   "id": "a63a608f-61a3-4ef2-a984-ba556778612a",
   "metadata": {},
   "outputs": [
    {
     "data": {
      "text/plain": [
       "<seaborn.axisgrid.FacetGrid at 0x128a82310>"
      ]
     },
     "execution_count": 58,
     "metadata": {},
     "output_type": "execute_result"
    },
    {
     "data": {
      "image/png": "[encoded data removed]",
      "text/plain": [
       "<Figure size 360x360 with 1 Axes>"
      ]
     },
     "metadata": {
      "needs_background": "light"
     },
     "output_type": "display_data"
    }
   ],
   "source": [
    "sns.displot(x=df[\"pIC50\"])"
   ]
  },
  {
   "cell_type": "code",
   "execution_count": 59,
   "id": "8a4451de-894a-4a41-80ab-ad5f1135ae8a",
   "metadata": {},
   "outputs": [
    {
     "data": {
      "text/plain": [
       "Index([      'Molecule ChEMBL ID',                   'Smiles',\n",
       "                '#RO5 Violations',        'Standard Relation',\n",
       "                 'Standard Value',           'Standard Units',\n",
       "       ('Standard Value', 'mean'),  ('Standard Value', 'std'),\n",
       "                      'new_value',                    'label',\n",
       "                          'pIC50'],\n",
       "      dtype='object')"
      ]
     },
     "execution_count": 59,
     "metadata": {},
     "output_type": "execute_result"
    }
   ],
   "source": [
    "df.columns"
   ]
  },
  {
   "cell_type": "code",
   "execution_count": 60,
   "id": "64e839d6-41f7-4b7b-a559-139e916ba4eb",
   "metadata": {},
   "outputs": [],
   "source": [
    "df[['Molecule ChEMBL ID', 'Smiles', '#RO5 Violations','label', 'pIC50']].to_csv(\"dataset.csv\",index=None,header=True\n",
    "                                                                               ,sep=\"\\t\")"
   ]
  },
  {
   "cell_type": "code",
   "execution_count": null,
   "id": "3b23903c-0891-48d4-87c8-4ea54f6e3530",
   "metadata": {},
   "outputs": [],
   "source": []
  },
  {
   "cell_type": "code",
   "execution_count": null,
   "id": "1f89f74b-e7fa-4bfa-a750-cd8a4bd4dee4",
   "metadata": {},
   "outputs": [],
   "source": []
  },
  {
   "cell_type": "code",
   "execution_count": null,
   "id": "9593fd0b-8533-470a-89ec-f6d783c3d618",
   "metadata": {},
   "outputs": [],
   "source": []
  },
  {
   "cell_type": "code",
   "execution_count": null,
   "id": "57ec2b2b-a77c-4319-963a-cda2a21966d4",
   "metadata": {},
   "outputs": [],
   "source": []
  },
  {
   "cell_type": "code",
   "execution_count": null,
   "id": "323ea758-8e46-4272-91b1-c7d48216dd69",
   "metadata": {},
   "outputs": [],
   "source": []
  },
  {
   "cell_type": "code",
   "execution_count": null,
   "id": "242cadd6-d52d-4371-a020-3fdab509f301",
   "metadata": {},
   "outputs": [],
   "source": []
  }
 ],
 "metadata": {
  "kernelspec": {
   "display_name": "Python 3 (ipykernel)",
   "language": "python",
   "name": "python3"
  },
  "language_info": {
   "codemirror_mode": {
    "name": "ipython",
    "version": 3
   },
   "file_extension": ".py",
   "mimetype": "text/x-python",
   "name": "python",
   "nbconvert_exporter": "python",
   "pygments_lexer": "ipython3",
   "version": "3.9.6"
  }
 },
 "nbformat": 4,
 "nbformat_minor": 5
}
