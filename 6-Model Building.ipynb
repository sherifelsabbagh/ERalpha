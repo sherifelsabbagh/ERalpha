{
 "cells": [
  {
   "cell_type": "markdown",
   "id": "6193f282-2dbe-411b-bfe1-4bf8de6cf41a",
   "metadata": {},
   "source": [
    "### Model Building"
   ]
  },
  {
   "cell_type": "code",
   "execution_count": 230,
   "id": "96d5063b-2538-438d-a8fd-1a0979a0c8fb",
   "metadata": {},
   "outputs": [],
   "source": [
    "import pandas as pd\n",
    "from sklearn.model_selection import train_test_split\n",
    "from sklearn.model_selection import cross_validate\n",
    "from sklearn.ensemble import RandomForestClassifier\n",
    "from sklearn.metrics import precision_score,recall_score\n",
    "from sklearn.preprocessing import MinMaxScaler"
   ]
  },
  {
   "cell_type": "code",
   "execution_count": 231,
   "id": "5658afbe-251c-499c-ab5a-51402ef22a05",
   "metadata": {},
   "outputs": [],
   "source": [
    "df = pd.read_csv(\"pubchem_best.csv\")"
   ]
  },
  {
   "cell_type": "code",
   "execution_count": 232,
   "id": "642180be-6534-4726-9b60-087af284131b",
   "metadata": {},
   "outputs": [
    {
     "data": {
      "text/html": [
       "<div>\n",
       "<style scoped>\n",
       "    .dataframe tbody tr th:only-of-type {\n",
       "        vertical-align: middle;\n",
       "    }\n",
       "\n",
       "    .dataframe tbody tr th {\n",
       "        vertical-align: top;\n",
       "    }\n",
       "\n",
       "    .dataframe thead th {\n",
       "        text-align: right;\n",
       "    }\n",
       "</style>\n",
       "<table border=\"1\" class=\"dataframe\">\n",
       "  <thead>\n",
       "    <tr style=\"text-align: right;\">\n",
       "      <th></th>\n",
       "      <th>PubchemFP0</th>\n",
       "      <th>PubchemFP2</th>\n",
       "      <th>PubchemFP3</th>\n",
       "      <th>PubchemFP6</th>\n",
       "      <th>PubchemFP12</th>\n",
       "      <th>PubchemFP13</th>\n",
       "      <th>PubchemFP15</th>\n",
       "      <th>PubchemFP16</th>\n",
       "      <th>PubchemFP17</th>\n",
       "      <th>PubchemFP18</th>\n",
       "      <th>...</th>\n",
       "      <th>PubchemFP839</th>\n",
       "      <th>PubchemFP840</th>\n",
       "      <th>PubchemFP842</th>\n",
       "      <th>PubchemFP860</th>\n",
       "      <th>PubchemFP862</th>\n",
       "      <th>PubchemFP863</th>\n",
       "      <th>PubchemFP866</th>\n",
       "      <th>Name</th>\n",
       "      <th>label</th>\n",
       "      <th>pIC50</th>\n",
       "    </tr>\n",
       "  </thead>\n",
       "  <tbody>\n",
       "    <tr>\n",
       "      <th>0</th>\n",
       "      <td>1</td>\n",
       "      <td>0</td>\n",
       "      <td>0</td>\n",
       "      <td>0</td>\n",
       "      <td>1</td>\n",
       "      <td>0</td>\n",
       "      <td>0</td>\n",
       "      <td>0</td>\n",
       "      <td>0</td>\n",
       "      <td>1</td>\n",
       "      <td>...</td>\n",
       "      <td>0</td>\n",
       "      <td>0</td>\n",
       "      <td>0</td>\n",
       "      <td>0</td>\n",
       "      <td>0</td>\n",
       "      <td>0</td>\n",
       "      <td>0</td>\n",
       "      <td>CHEMBL370039</td>\n",
       "      <td>0</td>\n",
       "      <td>4.067019</td>\n",
       "    </tr>\n",
       "    <tr>\n",
       "      <th>1</th>\n",
       "      <td>0</td>\n",
       "      <td>0</td>\n",
       "      <td>0</td>\n",
       "      <td>0</td>\n",
       "      <td>1</td>\n",
       "      <td>0</td>\n",
       "      <td>0</td>\n",
       "      <td>0</td>\n",
       "      <td>0</td>\n",
       "      <td>1</td>\n",
       "      <td>...</td>\n",
       "      <td>0</td>\n",
       "      <td>0</td>\n",
       "      <td>0</td>\n",
       "      <td>0</td>\n",
       "      <td>0</td>\n",
       "      <td>0</td>\n",
       "      <td>0</td>\n",
       "      <td>CHEMBL3774737</td>\n",
       "      <td>1</td>\n",
       "      <td>8.920819</td>\n",
       "    </tr>\n",
       "    <tr>\n",
       "      <th>2</th>\n",
       "      <td>0</td>\n",
       "      <td>0</td>\n",
       "      <td>0</td>\n",
       "      <td>0</td>\n",
       "      <td>1</td>\n",
       "      <td>1</td>\n",
       "      <td>1</td>\n",
       "      <td>1</td>\n",
       "      <td>0</td>\n",
       "      <td>1</td>\n",
       "      <td>...</td>\n",
       "      <td>0</td>\n",
       "      <td>0</td>\n",
       "      <td>0</td>\n",
       "      <td>0</td>\n",
       "      <td>0</td>\n",
       "      <td>0</td>\n",
       "      <td>0</td>\n",
       "      <td>CHEMBL1597831</td>\n",
       "      <td>1</td>\n",
       "      <td>6.017729</td>\n",
       "    </tr>\n",
       "    <tr>\n",
       "      <th>3</th>\n",
       "      <td>1</td>\n",
       "      <td>1</td>\n",
       "      <td>0</td>\n",
       "      <td>0</td>\n",
       "      <td>1</td>\n",
       "      <td>0</td>\n",
       "      <td>0</td>\n",
       "      <td>0</td>\n",
       "      <td>0</td>\n",
       "      <td>1</td>\n",
       "      <td>...</td>\n",
       "      <td>0</td>\n",
       "      <td>0</td>\n",
       "      <td>0</td>\n",
       "      <td>0</td>\n",
       "      <td>0</td>\n",
       "      <td>0</td>\n",
       "      <td>0</td>\n",
       "      <td>CHEMBL1455849</td>\n",
       "      <td>1</td>\n",
       "      <td>6.920819</td>\n",
       "    </tr>\n",
       "    <tr>\n",
       "      <th>4</th>\n",
       "      <td>0</td>\n",
       "      <td>0</td>\n",
       "      <td>0</td>\n",
       "      <td>0</td>\n",
       "      <td>1</td>\n",
       "      <td>0</td>\n",
       "      <td>1</td>\n",
       "      <td>1</td>\n",
       "      <td>0</td>\n",
       "      <td>1</td>\n",
       "      <td>...</td>\n",
       "      <td>0</td>\n",
       "      <td>0</td>\n",
       "      <td>0</td>\n",
       "      <td>0</td>\n",
       "      <td>0</td>\n",
       "      <td>0</td>\n",
       "      <td>0</td>\n",
       "      <td>CHEMBL3936897</td>\n",
       "      <td>1</td>\n",
       "      <td>6.075721</td>\n",
       "    </tr>\n",
       "  </tbody>\n",
       "</table>\n",
       "<p>5 rows × 358 columns</p>\n",
       "</div>"
      ],
      "text/plain": [
       "   PubchemFP0  PubchemFP2  PubchemFP3  PubchemFP6  PubchemFP12  PubchemFP13  \\\n",
       "0           1           0           0           0            1            0   \n",
       "1           0           0           0           0            1            0   \n",
       "2           0           0           0           0            1            1   \n",
       "3           1           1           0           0            1            0   \n",
       "4           0           0           0           0            1            0   \n",
       "\n",
       "   PubchemFP15  PubchemFP16  PubchemFP17  PubchemFP18  ...  PubchemFP839  \\\n",
       "0            0            0            0            1  ...             0   \n",
       "1            0            0            0            1  ...             0   \n",
       "2            1            1            0            1  ...             0   \n",
       "3            0            0            0            1  ...             0   \n",
       "4            1            1            0            1  ...             0   \n",
       "\n",
       "   PubchemFP840  PubchemFP842  PubchemFP860  PubchemFP862  PubchemFP863  \\\n",
       "0             0             0             0             0             0   \n",
       "1             0             0             0             0             0   \n",
       "2             0             0             0             0             0   \n",
       "3             0             0             0             0             0   \n",
       "4             0             0             0             0             0   \n",
       "\n",
       "   PubchemFP866           Name  label     pIC50  \n",
       "0             0   CHEMBL370039      0  4.067019  \n",
       "1             0  CHEMBL3774737      1  8.920819  \n",
       "2             0  CHEMBL1597831      1  6.017729  \n",
       "3             0  CHEMBL1455849      1  6.920819  \n",
       "4             0  CHEMBL3936897      1  6.075721  \n",
       "\n",
       "[5 rows x 358 columns]"
      ]
     },
     "execution_count": 232,
     "metadata": {},
     "output_type": "execute_result"
    }
   ],
   "source": [
    "df.head()"
   ]
  },
  {
   "cell_type": "code",
   "execution_count": 233,
   "id": "c4281fdd-c360-47ac-82cc-33605f8ae778",
   "metadata": {},
   "outputs": [],
   "source": [
    "X = df.drop([\"Name\",\"label\",\"pIC50\"],axis=1)\n",
    "y= df.label"
   ]
  },
  {
   "cell_type": "code",
   "execution_count": 234,
   "id": "e893fe7c-7c82-4ae3-a687-ac6170d31597",
   "metadata": {},
   "outputs": [],
   "source": [
    "scaler = MinMaxScaler()\n",
    "X_train, X_test, y_train, y_test = train_test_split(X, y, test_size=0.3, random_state=42,shuffle=True)\n",
    "X_train = pd.DataFrame(scaler.fit_transform(X_train),columns=X_train.columns)\n",
    "X_test = pd.DataFrame(scaler.transform(X_test),columns=X_test.columns)"
   ]
  },
  {
   "cell_type": "code",
   "execution_count": 235,
   "id": "2b150c9b-9fdc-4946-b76d-05a21e5668ce",
   "metadata": {},
   "outputs": [],
   "source": [
    "rf = RandomForestClassifier(random_state=42)"
   ]
  },
  {
   "cell_type": "code",
   "execution_count": 236,
   "id": "aeb0e65c-69e3-4af3-b3ca-0229d3d1897f",
   "metadata": {},
   "outputs": [
    {
     "data": {
      "text/plain": [
       "RandomForestClassifier(random_state=42)"
      ]
     },
     "execution_count": 236,
     "metadata": {},
     "output_type": "execute_result"
    }
   ],
   "source": [
    "rf.fit(X_train,y_train)"
   ]
  },
  {
   "cell_type": "code",
   "execution_count": 237,
   "id": "73189c73-8df9-4f37-9fd5-3f378770e7b8",
   "metadata": {},
   "outputs": [],
   "source": [
    "y_pred = rf.predict(X_test)"
   ]
  },
  {
   "cell_type": "code",
   "execution_count": 238,
   "id": "0c3ca1d8-72f5-4e1d-9d72-936aae3e7844",
   "metadata": {},
   "outputs": [],
   "source": [
    "from sklearn.metrics import classification_report"
   ]
  },
  {
   "cell_type": "code",
   "execution_count": 239,
   "id": "daebb34d-775f-4428-a0ca-6cabf039a514",
   "metadata": {},
   "outputs": [],
   "source": [
    "classificationreport= classification_report(y_test,y_pred,labels=rf.classes_)"
   ]
  },
  {
   "cell_type": "code",
   "execution_count": 240,
   "id": "45d1eeef-7f2c-44cb-b6ac-6e7fa538e0ea",
   "metadata": {},
   "outputs": [
    {
     "name": "stdout",
     "output_type": "stream",
     "text": [
      "              precision    recall  f1-score   support\n",
      "\n",
      "           0       0.81      0.61      0.69       109\n",
      "           1       0.89      0.96      0.92       359\n",
      "\n",
      "    accuracy                           0.88       468\n",
      "   macro avg       0.85      0.78      0.81       468\n",
      "weighted avg       0.87      0.88      0.87       468\n",
      "\n"
     ]
    }
   ],
   "source": [
    "print(classificationreport)"
   ]
  },
  {
   "cell_type": "code",
   "execution_count": 241,
   "id": "7d7ef105-86ad-4f27-b899-1b84be195bfe",
   "metadata": {},
   "outputs": [
    {
     "data": {
      "text/plain": [
       "1    867\n",
       "0    224\n",
       "Name: label, dtype: int64"
      ]
     },
     "execution_count": 241,
     "metadata": {},
     "output_type": "execute_result"
    }
   ],
   "source": [
    "y_train.value_counts()"
   ]
  },
  {
   "cell_type": "markdown",
   "id": "14a2d8a2-98e9-46ea-8d16-c5047a1511fc",
   "metadata": {},
   "source": [
    "+ ### This is an imbalanced dataset. This is why recall and f1-score are low."
   ]
  },
  {
   "cell_type": "code",
   "execution_count": 242,
   "id": "be683de6-5b0a-436f-b713-f411dcada737",
   "metadata": {},
   "outputs": [],
   "source": [
    "from imblearn.over_sampling import SMOTE"
   ]
  },
  {
   "cell_type": "code",
   "execution_count": 243,
   "id": "7795570f-ea51-41a3-97e4-1e32b233797d",
   "metadata": {},
   "outputs": [],
   "source": [
    "smt = SMOTE(sampling_strategy=\"minority\",k_neighbors=16,random_state=42)"
   ]
  },
  {
   "cell_type": "code",
   "execution_count": 244,
   "id": "089d7b1c-27f1-4f72-b3b2-8568984334b5",
   "metadata": {},
   "outputs": [],
   "source": [
    "X_tr, y_tr = smt.fit_resample(X_train,y_train)"
   ]
  },
  {
   "cell_type": "code",
   "execution_count": 245,
   "id": "e60847eb-f140-4fc7-b48d-fd9ca9c56158",
   "metadata": {},
   "outputs": [],
   "source": [
    "rf = RandomForestClassifier(random_state=42)"
   ]
  },
  {
   "cell_type": "code",
   "execution_count": 246,
   "id": "96489e83-bcf9-40cd-970d-944b3434fccb",
   "metadata": {},
   "outputs": [
    {
     "data": {
      "text/plain": [
       "RandomForestClassifier(random_state=42)"
      ]
     },
     "execution_count": 246,
     "metadata": {},
     "output_type": "execute_result"
    }
   ],
   "source": [
    "rf.fit(X_tr,y_tr)"
   ]
  },
  {
   "cell_type": "code",
   "execution_count": 247,
   "id": "6a4ad4e0-69f9-4db4-ac50-fc41bdcb564e",
   "metadata": {},
   "outputs": [],
   "source": [
    "y_pred = rf.predict(X_test)"
   ]
  },
  {
   "cell_type": "code",
   "execution_count": 248,
   "id": "181410e7-b433-48c6-aa01-d1687684acec",
   "metadata": {},
   "outputs": [
    {
     "name": "stdout",
     "output_type": "stream",
     "text": [
      "              precision    recall  f1-score   support\n",
      "\n",
      "           0       0.81      0.71      0.75       109\n",
      "           1       0.91      0.95      0.93       359\n",
      "\n",
      "    accuracy                           0.89       468\n",
      "   macro avg       0.86      0.83      0.84       468\n",
      "weighted avg       0.89      0.89      0.89       468\n",
      "\n"
     ]
    }
   ],
   "source": [
    "classificationreport= classification_report(y_test,y_pred,labels=rf.classes_)\n",
    "print(classificationreport)"
   ]
  },
  {
   "cell_type": "code",
   "execution_count": 249,
   "id": "fae05904-ceec-4807-b746-5fd4e12e4d63",
   "metadata": {},
   "outputs": [],
   "source": [
    "import pickle"
   ]
  },
  {
   "cell_type": "code",
   "execution_count": 250,
   "id": "0f76bb9d-89cb-43b0-99d7-b53519d3bbe2",
   "metadata": {},
   "outputs": [],
   "source": [
    "with open('rf_model', 'wb') as files:\n",
    "    pickle.dump(rf, files)"
   ]
  },
  {
   "cell_type": "code",
   "execution_count": 251,
   "id": "7bedf445-c845-4ed8-acc3-21cf708104ac",
   "metadata": {},
   "outputs": [],
   "source": [
    "###with open('rf_model_pkl' , 'rb') as f:\n",
    "   ### rf = pickle.load(f)"
   ]
  },
  {
   "cell_type": "markdown",
   "id": "c2eb324d-0f64-4e53-ba27-056e86e64b64",
   "metadata": {},
   "source": [
    "+ ### This is better than previous model"
   ]
  },
  {
   "cell_type": "code",
   "execution_count": 177,
   "id": "bd7e0628-2d50-4d48-9e58-6cda6a467d86",
   "metadata": {},
   "outputs": [],
   "source": [
    "from sklearn.metrics import ConfusionMatrixDisplay\n",
    "from sklearn.metrics import confusion_matrix"
   ]
  },
  {
   "cell_type": "code",
   "execution_count": 178,
   "id": "6a762633-1210-4160-a3fe-1b27125693ee",
   "metadata": {},
   "outputs": [],
   "source": [
    "cm = confusion_matrix(y_test,y_pred,labels=rf.classes_)"
   ]
  },
  {
   "cell_type": "code",
   "execution_count": 179,
   "id": "f2ed31fa-3f2a-46a8-b985-9d0e3f011af4",
   "metadata": {},
   "outputs": [
    {
     "data": {
      "text/plain": [
       "<sklearn.metrics._plot.confusion_matrix.ConfusionMatrixDisplay at 0x129bda9d0>"
      ]
     },
     "execution_count": 179,
     "metadata": {},
     "output_type": "execute_result"
    },
    {
     "data": {
      "image/png": "[encoded data removed]",
      "text/plain": [
       "<Figure size 432x288 with 2 Axes>"
      ]
     },
     "metadata": {},
     "output_type": "display_data"
    }
   ],
   "source": [
    "display = ConfusionMatrixDisplay(cm,display_labels=rf.classes_)\n",
    "display.plot()"
   ]
  },
  {
   "cell_type": "code",
   "execution_count": 180,
   "id": "e2c50916-e8b5-46b4-b56e-c4370237b0ad",
   "metadata": {},
   "outputs": [
    {
     "data": {
      "text/plain": [
       "0.9142091152815014"
      ]
     },
     "execution_count": 180,
     "metadata": {},
     "output_type": "execute_result"
    }
   ],
   "source": [
    "precision_score(y_test,y_pred,pos_label=1)"
   ]
  },
  {
   "cell_type": "code",
   "execution_count": 181,
   "id": "3d1bd382-156a-47ed-828e-1096fa63dbea",
   "metadata": {},
   "outputs": [],
   "source": [
    "from sklearn.metrics import RocCurveDisplay\n",
    "from sklearn.metrics import auc\n",
    "from sklearn.metrics import roc_curve"
   ]
  },
  {
   "cell_type": "code",
   "execution_count": 182,
   "id": "9ca65d4d-c6b9-439c-919d-ecd7a6c6ea6d",
   "metadata": {},
   "outputs": [
    {
     "data": {
      "text/plain": [
       "<sklearn.metrics._plot.roc_curve.RocCurveDisplay at 0x12574c100>"
      ]
     },
     "execution_count": 182,
     "metadata": {},
     "output_type": "execute_result"
    },
    {
     "data": {
      "image/png": "[encoded data removed]",
      "text/plain": [
       "<Figure size 432x288 with 1 Axes>"
      ]
     },
     "metadata": {},
     "output_type": "display_data"
    }
   ],
   "source": [
    "RocCurveDisplay.from_predictions(y_test,y_pred)"
   ]
  },
  {
   "cell_type": "markdown",
   "id": "8fe9a168-88ca-468c-a3ca-704a43df150e",
   "metadata": {},
   "source": [
    "### Applicability domain Using PCA bounding box"
   ]
  },
  {
   "cell_type": "code",
   "execution_count": 183,
   "id": "c504179d-22c1-429d-b433-7907ee2032e3",
   "metadata": {},
   "outputs": [],
   "source": [
    "train = X_train\n",
    "test = X_test"
   ]
  },
  {
   "cell_type": "code",
   "execution_count": 184,
   "id": "8623bd12-e8c5-43ef-807c-eda44546e05c",
   "metadata": {},
   "outputs": [],
   "source": [
    "train[\"model\"] = \"Train\"\n",
    "test[\"model\"] = \"Test\""
   ]
  },
  {
   "cell_type": "code",
   "execution_count": 185,
   "id": "3c4ec5d0-ce7a-46df-b12e-384503191181",
   "metadata": {},
   "outputs": [],
   "source": [
    "pca = pd.concat([train,test],axis=0)\n"
   ]
  },
  {
   "cell_type": "code",
   "execution_count": 186,
   "id": "01809e35-821c-4080-a933-561d5780a1cd",
   "metadata": {},
   "outputs": [],
   "source": [
    "pca.reset_index(drop=True,inplace=True)"
   ]
  },
  {
   "cell_type": "code",
   "execution_count": 187,
   "id": "f9a0f226-332e-407c-b6bc-2f26dc081ac2",
   "metadata": {},
   "outputs": [
    {
     "data": {
      "text/html": [
       "<div>\n",
       "<style scoped>\n",
       "    .dataframe tbody tr th:only-of-type {\n",
       "        vertical-align: middle;\n",
       "    }\n",
       "\n",
       "    .dataframe tbody tr th {\n",
       "        vertical-align: top;\n",
       "    }\n",
       "\n",
       "    .dataframe thead th {\n",
       "        text-align: right;\n",
       "    }\n",
       "</style>\n",
       "<table border=\"1\" class=\"dataframe\">\n",
       "  <thead>\n",
       "    <tr style=\"text-align: right;\">\n",
       "      <th></th>\n",
       "      <th>PubchemFP0</th>\n",
       "      <th>PubchemFP2</th>\n",
       "      <th>PubchemFP3</th>\n",
       "      <th>PubchemFP6</th>\n",
       "      <th>PubchemFP12</th>\n",
       "      <th>PubchemFP13</th>\n",
       "      <th>PubchemFP15</th>\n",
       "      <th>PubchemFP16</th>\n",
       "      <th>PubchemFP17</th>\n",
       "      <th>PubchemFP18</th>\n",
       "      <th>...</th>\n",
       "      <th>PubchemFP824</th>\n",
       "      <th>PubchemFP825</th>\n",
       "      <th>PubchemFP839</th>\n",
       "      <th>PubchemFP840</th>\n",
       "      <th>PubchemFP842</th>\n",
       "      <th>PubchemFP860</th>\n",
       "      <th>PubchemFP862</th>\n",
       "      <th>PubchemFP863</th>\n",
       "      <th>PubchemFP866</th>\n",
       "      <th>model</th>\n",
       "    </tr>\n",
       "  </thead>\n",
       "  <tbody>\n",
       "    <tr>\n",
       "      <th>0</th>\n",
       "      <td>1.0</td>\n",
       "      <td>1.0</td>\n",
       "      <td>0.0</td>\n",
       "      <td>0.0</td>\n",
       "      <td>1.0</td>\n",
       "      <td>0.0</td>\n",
       "      <td>0.0</td>\n",
       "      <td>0.0</td>\n",
       "      <td>0.0</td>\n",
       "      <td>1.0</td>\n",
       "      <td>...</td>\n",
       "      <td>0.0</td>\n",
       "      <td>0.0</td>\n",
       "      <td>0.0</td>\n",
       "      <td>0.0</td>\n",
       "      <td>0.0</td>\n",
       "      <td>0.0</td>\n",
       "      <td>0.0</td>\n",
       "      <td>0.0</td>\n",
       "      <td>0.0</td>\n",
       "      <td>Train</td>\n",
       "    </tr>\n",
       "    <tr>\n",
       "      <th>1</th>\n",
       "      <td>1.0</td>\n",
       "      <td>1.0</td>\n",
       "      <td>0.0</td>\n",
       "      <td>0.0</td>\n",
       "      <td>1.0</td>\n",
       "      <td>0.0</td>\n",
       "      <td>0.0</td>\n",
       "      <td>0.0</td>\n",
       "      <td>0.0</td>\n",
       "      <td>1.0</td>\n",
       "      <td>...</td>\n",
       "      <td>0.0</td>\n",
       "      <td>0.0</td>\n",
       "      <td>1.0</td>\n",
       "      <td>0.0</td>\n",
       "      <td>0.0</td>\n",
       "      <td>1.0</td>\n",
       "      <td>0.0</td>\n",
       "      <td>0.0</td>\n",
       "      <td>0.0</td>\n",
       "      <td>Train</td>\n",
       "    </tr>\n",
       "    <tr>\n",
       "      <th>2</th>\n",
       "      <td>1.0</td>\n",
       "      <td>0.0</td>\n",
       "      <td>0.0</td>\n",
       "      <td>0.0</td>\n",
       "      <td>0.0</td>\n",
       "      <td>0.0</td>\n",
       "      <td>0.0</td>\n",
       "      <td>0.0</td>\n",
       "      <td>0.0</td>\n",
       "      <td>1.0</td>\n",
       "      <td>...</td>\n",
       "      <td>0.0</td>\n",
       "      <td>0.0</td>\n",
       "      <td>0.0</td>\n",
       "      <td>0.0</td>\n",
       "      <td>0.0</td>\n",
       "      <td>0.0</td>\n",
       "      <td>0.0</td>\n",
       "      <td>0.0</td>\n",
       "      <td>0.0</td>\n",
       "      <td>Train</td>\n",
       "    </tr>\n",
       "    <tr>\n",
       "      <th>3</th>\n",
       "      <td>1.0</td>\n",
       "      <td>0.0</td>\n",
       "      <td>0.0</td>\n",
       "      <td>0.0</td>\n",
       "      <td>1.0</td>\n",
       "      <td>0.0</td>\n",
       "      <td>0.0</td>\n",
       "      <td>0.0</td>\n",
       "      <td>0.0</td>\n",
       "      <td>1.0</td>\n",
       "      <td>...</td>\n",
       "      <td>0.0</td>\n",
       "      <td>0.0</td>\n",
       "      <td>0.0</td>\n",
       "      <td>0.0</td>\n",
       "      <td>0.0</td>\n",
       "      <td>0.0</td>\n",
       "      <td>0.0</td>\n",
       "      <td>0.0</td>\n",
       "      <td>0.0</td>\n",
       "      <td>Train</td>\n",
       "    </tr>\n",
       "    <tr>\n",
       "      <th>4</th>\n",
       "      <td>1.0</td>\n",
       "      <td>0.0</td>\n",
       "      <td>0.0</td>\n",
       "      <td>0.0</td>\n",
       "      <td>1.0</td>\n",
       "      <td>0.0</td>\n",
       "      <td>0.0</td>\n",
       "      <td>0.0</td>\n",
       "      <td>0.0</td>\n",
       "      <td>1.0</td>\n",
       "      <td>...</td>\n",
       "      <td>0.0</td>\n",
       "      <td>0.0</td>\n",
       "      <td>0.0</td>\n",
       "      <td>0.0</td>\n",
       "      <td>0.0</td>\n",
       "      <td>0.0</td>\n",
       "      <td>0.0</td>\n",
       "      <td>0.0</td>\n",
       "      <td>0.0</td>\n",
       "      <td>Train</td>\n",
       "    </tr>\n",
       "  </tbody>\n",
       "</table>\n",
       "<p>5 rows × 356 columns</p>\n",
       "</div>"
      ],
      "text/plain": [
       "   PubchemFP0  PubchemFP2  PubchemFP3  PubchemFP6  PubchemFP12  PubchemFP13  \\\n",
       "0         1.0         1.0         0.0         0.0          1.0          0.0   \n",
       "1         1.0         1.0         0.0         0.0          1.0          0.0   \n",
       "2         1.0         0.0         0.0         0.0          0.0          0.0   \n",
       "3         1.0         0.0         0.0         0.0          1.0          0.0   \n",
       "4         1.0         0.0         0.0         0.0          1.0          0.0   \n",
       "\n",
       "   PubchemFP15  PubchemFP16  PubchemFP17  PubchemFP18  ...  PubchemFP824  \\\n",
       "0          0.0          0.0          0.0          1.0  ...           0.0   \n",
       "1          0.0          0.0          0.0          1.0  ...           0.0   \n",
       "2          0.0          0.0          0.0          1.0  ...           0.0   \n",
       "3          0.0          0.0          0.0          1.0  ...           0.0   \n",
       "4          0.0          0.0          0.0          1.0  ...           0.0   \n",
       "\n",
       "   PubchemFP825  PubchemFP839  PubchemFP840  PubchemFP842  PubchemFP860  \\\n",
       "0           0.0           0.0           0.0           0.0           0.0   \n",
       "1           0.0           1.0           0.0           0.0           1.0   \n",
       "2           0.0           0.0           0.0           0.0           0.0   \n",
       "3           0.0           0.0           0.0           0.0           0.0   \n",
       "4           0.0           0.0           0.0           0.0           0.0   \n",
       "\n",
       "   PubchemFP862  PubchemFP863  PubchemFP866  model  \n",
       "0           0.0           0.0           0.0  Train  \n",
       "1           0.0           0.0           0.0  Train  \n",
       "2           0.0           0.0           0.0  Train  \n",
       "3           0.0           0.0           0.0  Train  \n",
       "4           0.0           0.0           0.0  Train  \n",
       "\n",
       "[5 rows x 356 columns]"
      ]
     },
     "execution_count": 187,
     "metadata": {},
     "output_type": "execute_result"
    }
   ],
   "source": [
    "pca.head()"
   ]
  },
  {
   "cell_type": "code",
   "execution_count": 188,
   "id": "4e25f3e7-4374-4935-90d8-9bb3332701cd",
   "metadata": {},
   "outputs": [],
   "source": [
    "import matplotlib.pyplot as plt\n",
    "import seaborn as sns\n",
    "# Plot the Figures Inline\n",
    "%matplotlib inline\n",
    "from sklearn.decomposition import PCA\n",
    "import numpy as np"
   ]
  },
  {
   "cell_type": "code",
   "execution_count": 189,
   "id": "dcfbe9e3-dd6d-4697-8a8b-8c0a2aa75aaf",
   "metadata": {},
   "outputs": [],
   "source": [
    "data_pca = pca"
   ]
  },
  {
   "cell_type": "code",
   "execution_count": 190,
   "id": "fe558731-3ee6-417e-adf9-de591ee59921",
   "metadata": {},
   "outputs": [
    {
     "name": "stderr",
     "output_type": "stream",
     "text": [
      "/var/folders/ng/whnp3t611lq2k8dzf4hzhtnw0000gn/T/ipykernel_25424/4076026006.py:1: DeprecationWarning: `np.float` is a deprecated alias for the builtin `float`. To silence this warning, use `float` by itself. Doing this will not modify any behavior and is safe. If you specifically wanted the numpy scalar type, use `np.float64` here.\n",
      "Deprecated in NumPy 1.20; for more details and guidance: https://numpy.org/devdocs/release/1.20.0-notes.html#deprecations\n",
      "  x= data_pca.drop(\"model\",axis=1).values.astype(np.float)\n"
     ]
    }
   ],
   "source": [
    "x= data_pca.drop(\"model\",axis=1).values.astype(np.float)"
   ]
  },
  {
   "cell_type": "code",
   "execution_count": 191,
   "id": "21168f71-d9b2-4cd9-b364-1b8115242ea2",
   "metadata": {},
   "outputs": [],
   "source": [
    "y = data_pca[\"model\"].values"
   ]
  },
  {
   "cell_type": "code",
   "execution_count": 192,
   "id": "7d8633c0-bd42-49f4-901c-bee9e871c2e7",
   "metadata": {},
   "outputs": [],
   "source": [
    "pca = PCA(n_components=2)"
   ]
  },
  {
   "cell_type": "code",
   "execution_count": 193,
   "id": "b8e342f6-0d3e-4aae-a0f6-e4864cdee44e",
   "metadata": {},
   "outputs": [],
   "source": [
    "pca_ = pca.fit_transform(X)"
   ]
  },
  {
   "cell_type": "code",
   "execution_count": 194,
   "id": "83cd9c34-d157-411b-b315-64492b888a54",
   "metadata": {},
   "outputs": [],
   "source": [
    "pca_df = pd.DataFrame(pca_,columns=[\"PC1\",\"PC2\"])\n",
    "pca_df = pd.concat([pca_df,pd.DataFrame(y)],axis=1)"
   ]
  },
  {
   "cell_type": "code",
   "execution_count": 195,
   "id": "5f9435a8-85ed-4275-95c2-74f4c179a96b",
   "metadata": {},
   "outputs": [
    {
     "data": {
      "text/html": [
       "<div>\n",
       "<style scoped>\n",
       "    .dataframe tbody tr th:only-of-type {\n",
       "        vertical-align: middle;\n",
       "    }\n",
       "\n",
       "    .dataframe tbody tr th {\n",
       "        vertical-align: top;\n",
       "    }\n",
       "\n",
       "    .dataframe thead th {\n",
       "        text-align: right;\n",
       "    }\n",
       "</style>\n",
       "<table border=\"1\" class=\"dataframe\">\n",
       "  <thead>\n",
       "    <tr style=\"text-align: right;\">\n",
       "      <th></th>\n",
       "      <th>PC1</th>\n",
       "      <th>PC2</th>\n",
       "      <th>0</th>\n",
       "    </tr>\n",
       "  </thead>\n",
       "  <tbody>\n",
       "    <tr>\n",
       "      <th>0</th>\n",
       "      <td>-1.702853</td>\n",
       "      <td>1.814346</td>\n",
       "      <td>Train</td>\n",
       "    </tr>\n",
       "    <tr>\n",
       "      <th>1</th>\n",
       "      <td>-0.610722</td>\n",
       "      <td>-0.300549</td>\n",
       "      <td>Train</td>\n",
       "    </tr>\n",
       "    <tr>\n",
       "      <th>2</th>\n",
       "      <td>3.600373</td>\n",
       "      <td>0.238102</td>\n",
       "      <td>Train</td>\n",
       "    </tr>\n",
       "    <tr>\n",
       "      <th>3</th>\n",
       "      <td>-0.605954</td>\n",
       "      <td>0.057525</td>\n",
       "      <td>Train</td>\n",
       "    </tr>\n",
       "    <tr>\n",
       "      <th>4</th>\n",
       "      <td>3.609363</td>\n",
       "      <td>0.567818</td>\n",
       "      <td>Train</td>\n",
       "    </tr>\n",
       "    <tr>\n",
       "      <th>...</th>\n",
       "      <td>...</td>\n",
       "      <td>...</td>\n",
       "      <td>...</td>\n",
       "    </tr>\n",
       "    <tr>\n",
       "      <th>1554</th>\n",
       "      <td>5.004346</td>\n",
       "      <td>-0.424425</td>\n",
       "      <td>Test</td>\n",
       "    </tr>\n",
       "    <tr>\n",
       "      <th>1555</th>\n",
       "      <td>-2.420519</td>\n",
       "      <td>1.920387</td>\n",
       "      <td>Test</td>\n",
       "    </tr>\n",
       "    <tr>\n",
       "      <th>1556</th>\n",
       "      <td>-2.625103</td>\n",
       "      <td>0.084887</td>\n",
       "      <td>Test</td>\n",
       "    </tr>\n",
       "    <tr>\n",
       "      <th>1557</th>\n",
       "      <td>-1.630105</td>\n",
       "      <td>-0.681611</td>\n",
       "      <td>Test</td>\n",
       "    </tr>\n",
       "    <tr>\n",
       "      <th>1558</th>\n",
       "      <td>-2.088044</td>\n",
       "      <td>-1.960862</td>\n",
       "      <td>Test</td>\n",
       "    </tr>\n",
       "  </tbody>\n",
       "</table>\n",
       "<p>1559 rows × 3 columns</p>\n",
       "</div>"
      ],
      "text/plain": [
       "           PC1       PC2      0\n",
       "0    -1.702853  1.814346  Train\n",
       "1    -0.610722 -0.300549  Train\n",
       "2     3.600373  0.238102  Train\n",
       "3    -0.605954  0.057525  Train\n",
       "4     3.609363  0.567818  Train\n",
       "...        ...       ...    ...\n",
       "1554  5.004346 -0.424425   Test\n",
       "1555 -2.420519  1.920387   Test\n",
       "1556 -2.625103  0.084887   Test\n",
       "1557 -1.630105 -0.681611   Test\n",
       "1558 -2.088044 -1.960862   Test\n",
       "\n",
       "[1559 rows x 3 columns]"
      ]
     },
     "execution_count": 195,
     "metadata": {},
     "output_type": "execute_result"
    }
   ],
   "source": [
    "pca_df"
   ]
  },
  {
   "cell_type": "code",
   "execution_count": 196,
   "id": "6b29b661-bc5f-4bd3-a0f4-5baabdea5077",
   "metadata": {},
   "outputs": [],
   "source": [
    "pca_df.rename(columns={0:\"Name\"},inplace=True)"
   ]
  },
  {
   "cell_type": "code",
   "execution_count": 197,
   "id": "50c383d7-4351-4671-a129-88fd6d823ee0",
   "metadata": {},
   "outputs": [
    {
     "data": {
      "text/plain": [
       "<matplotlib.legend.Legend at 0x129cb3880>"
      ]
     },
     "execution_count": 197,
     "metadata": {},
     "output_type": "execute_result"
    },
    {
     "data": {
      "image/png": "[encoded data removed]",
      "text/plain": [
       "<Figure size 2160x1080 with 1 Axes>"
      ]
     },
     "metadata": {
      "needs_background": "light"
     },
     "output_type": "display_data"
    }
   ],
   "source": [
    "import matplotlib.pylab as plt\n",
    "fig = plt.figure(2,figsize = (30,15))\n",
    "plt.style.use('seaborn-whitegrid')\n",
    "ax = fig.add_subplot(1,2,1) \n",
    "ax.set_xlabel('Principal Component 1', fontsize = 15)\n",
    "ax.set_ylabel('Principal Component 2', fontsize = 15)\n",
    "\n",
    "targets = [\"Train\",\"Test\"]\n",
    "colors = ['b', 'r']\n",
    "for target, color in zip(targets,colors):\n",
    "    indexes = pca_df['Name'] == target\n",
    "    ax.scatter(pca_df.loc[indexes, 'PC1']\n",
    "               , pca_df.loc[indexes, 'PC2']\n",
    "               , c = color\n",
    "               ,lw = 4\n",
    "               ,alpha= 0.5\n",
    "               )\n",
    "ax.legend(targets)"
   ]
  },
  {
   "cell_type": "code",
   "execution_count": 198,
   "id": "34fcd6d3-ec59-464f-ac1e-16eeaff4ffdb",
   "metadata": {},
   "outputs": [
    {
     "data": {
      "text/plain": [
       "array([4.68895087e-03, 7.95276758e-03, 2.34037222e-03, 0.00000000e+00,\n",
       "       6.47148704e-03, 2.76033687e-03, 7.71683257e-03, 1.49526774e-03,\n",
       "       1.05552924e-03, 3.35457215e-04, 6.70774568e-04, 8.49979642e-03,\n",
       "       1.23177600e-03, 2.45576166e-04, 1.48824348e-02, 3.89593768e-03,\n",
       "       7.75673719e-04, 3.02289239e-05, 5.63763340e-04, 4.60512358e-03,\n",
       "       5.81463962e-03, 2.81661036e-04, 1.14624232e-03, 1.88744633e-04,\n",
       "       8.53356911e-05, 7.97935604e-05, 4.18262699e-07, 1.99996454e-03,\n",
       "       3.70797943e-04, 3.56868662e-04, 6.06226125e-03, 4.13765349e-03,\n",
       "       6.06511848e-03, 9.98222017e-04, 3.78278500e-04, 7.94173336e-04,\n",
       "       2.22685752e-03, 2.52638687e-04, 1.50622213e-03, 3.07772012e-03,\n",
       "       9.99525156e-05, 9.94107247e-04, 4.15160458e-05, 8.23717518e-04,\n",
       "       0.00000000e+00, 2.55748171e-04, 8.78747541e-04, 3.49569083e-03,\n",
       "       4.90294378e-03, 1.93659756e-03, 8.35844272e-03, 1.30538638e-02,\n",
       "       4.24835979e-03, 1.56289993e-02, 4.92903593e-04, 1.99603718e-03,\n",
       "       2.49815691e-04, 1.03792295e-04, 2.25455695e-04, 6.18039891e-03,\n",
       "       1.11350194e-02, 2.41224555e-04, 5.67805554e-04, 5.87586991e-03,\n",
       "       1.87541755e-03, 1.08213158e-04, 1.99793493e-03, 3.51383021e-04,\n",
       "       7.70189638e-04, 2.55016364e-07, 6.96513925e-05, 7.15371468e-05,\n",
       "       0.00000000e+00, 7.02630123e-04, 3.93788766e-05, 4.19277696e-05,\n",
       "       0.00000000e+00, 1.70741196e-04, 2.93089605e-03, 1.52332669e-03,\n",
       "       1.27721276e-02, 1.01845543e-02, 7.88669294e-04, 2.76068177e-03,\n",
       "       1.09810525e-04, 2.92829648e-03, 4.13793373e-04, 5.32773499e-05,\n",
       "       3.38742729e-03, 8.01153545e-04, 1.88547669e-02, 1.25585602e-04,\n",
       "       0.00000000e+00, 1.32321169e-03, 1.74134463e-05, 5.87488738e-04,\n",
       "       5.92648217e-03, 6.25038347e-03, 8.44460127e-04, 1.76966739e-03,\n",
       "       6.02880670e-03, 5.69957593e-03, 2.64933131e-03, 1.80822350e-03,\n",
       "       6.78342926e-05, 6.49072491e-03, 4.30430419e-03, 0.00000000e+00,\n",
       "       5.55148514e-04, 2.36823779e-03, 1.03390679e-03, 9.61499110e-08,\n",
       "       1.94819409e-03, 4.32861086e-03, 1.32363608e-04, 4.04657693e-03,\n",
       "       2.97222480e-04, 1.39097553e-04, 1.25341507e-03, 9.59825897e-03,\n",
       "       7.82058421e-03, 4.09936552e-04, 4.82827202e-03, 1.14228725e-02,\n",
       "       9.77120040e-03, 2.66421212e-03, 6.56317510e-03, 2.19111169e-03,\n",
       "       5.31605046e-04, 6.64598520e-04, 2.76433968e-03, 3.05730545e-03,\n",
       "       2.88992163e-03, 3.75707542e-03, 1.89375961e-03, 7.83582517e-04,\n",
       "       1.56201217e-03, 6.21345421e-03, 2.82972905e-03, 1.44127015e-04,\n",
       "       6.03365724e-04, 9.02831872e-03, 4.16017044e-03, 5.39606790e-04,\n",
       "       7.30332344e-03, 3.46576729e-05, 1.38786640e-04, 6.96391485e-03,\n",
       "       1.96362579e-03, 2.28806037e-02, 2.31703743e-03, 6.95261794e-04,\n",
       "       1.22128351e-04, 3.33433142e-04, 2.65735322e-03, 4.11416335e-03,\n",
       "       2.56603991e-04, 1.11225218e-03, 3.53584062e-03, 1.96474284e-05,\n",
       "       3.02182995e-03, 4.44796531e-03, 5.89621012e-03, 7.57161373e-03,\n",
       "       7.77748894e-03, 2.23839213e-04, 8.70709390e-04, 7.33780273e-04,\n",
       "       6.56114563e-04, 8.75476130e-04, 2.62478146e-03, 1.48847158e-03,\n",
       "       5.94158283e-03, 1.01828922e-03, 4.64463294e-05, 4.16343948e-05,\n",
       "       5.37136176e-04, 1.94631683e-03, 8.99658438e-03, 1.36150056e-03,\n",
       "       2.12700300e-04, 5.85126199e-04, 6.14612501e-04, 6.35054752e-04,\n",
       "       6.27568225e-04, 2.95651439e-03, 1.99928103e-03, 1.43474476e-03,\n",
       "       1.50925354e-03, 4.03524592e-05, 2.32950752e-04, 1.30148045e-03,\n",
       "       2.07860238e-03, 2.32169405e-04, 1.57787360e-03, 2.21653677e-04,\n",
       "       0.00000000e+00, 2.10086977e-03, 5.10154604e-04, 1.72777914e-03,\n",
       "       7.30633944e-03, 5.81834580e-03, 3.12544484e-03, 5.14866999e-03,\n",
       "       1.71120217e-03, 1.09449958e-03, 2.69208545e-03, 1.30393183e-03,\n",
       "       8.87734802e-04, 2.87923564e-04, 3.64688444e-03, 1.00735660e-04,\n",
       "       2.92952109e-04, 6.48806731e-04, 7.42435949e-03, 2.26618906e-03,\n",
       "       1.99833156e-03, 5.02041606e-03, 3.69632931e-03, 0.00000000e+00,\n",
       "       0.00000000e+00, 7.07159994e-04, 3.08041331e-03, 1.59031077e-02,\n",
       "       3.24061996e-03, 2.36091733e-03, 1.91002227e-04, 2.25778948e-03,\n",
       "       1.19099939e-03, 2.36472065e-03, 6.54326193e-03, 1.98581509e-03,\n",
       "       1.19433847e-04, 1.94225875e-03, 8.27796050e-04, 7.23469431e-03,\n",
       "       7.50754882e-04, 2.47006005e-03, 1.29051577e-03, 1.83620217e-02,\n",
       "       2.50132067e-03, 3.84141157e-03, 2.02072566e-04, 2.60143805e-03,\n",
       "       4.04406392e-03, 5.62997793e-04, 2.37640481e-04, 9.28637551e-04,\n",
       "       2.76213112e-03, 8.86073145e-06, 2.02618923e-03, 1.76774366e-03,\n",
       "       1.12384857e-03, 3.54717644e-05, 0.00000000e+00, 5.78690405e-04,\n",
       "       2.17622632e-03, 3.67051832e-03, 4.96840167e-03, 3.72843773e-04,\n",
       "       4.47717960e-03, 2.25181799e-04, 1.01755099e-02, 8.82142896e-03,\n",
       "       6.71398147e-03, 3.68941289e-04, 9.27763720e-05, 5.92626730e-03,\n",
       "       7.44852935e-03, 5.15812718e-03, 4.36044053e-03, 4.60792091e-03,\n",
       "       1.21121845e-03, 1.19309044e-03, 2.85013078e-03, 1.78203688e-03,\n",
       "       7.34588860e-03, 7.11616660e-03, 1.63052531e-03, 1.67353120e-03,\n",
       "       1.56084824e-02, 1.87960185e-02, 4.14837923e-03, 8.24567601e-03,\n",
       "       7.47546653e-03, 5.42816223e-03, 3.05502849e-03, 1.88263194e-03,\n",
       "       1.69263217e-03, 7.02032323e-04, 1.36771308e-03, 7.34458629e-03,\n",
       "       3.67365671e-03, 8.17556754e-05, 4.12474637e-04, 8.53410968e-04,\n",
       "       4.03851107e-03, 5.11726275e-03, 4.64527913e-03, 1.20213030e-04,\n",
       "       1.13202345e-05, 5.14253694e-05, 7.90888780e-05, 0.00000000e+00,\n",
       "       7.74989870e-06, 6.83237669e-04, 7.04326629e-04, 1.01553176e-04,\n",
       "       0.00000000e+00, 6.69069103e-03, 1.19579282e-02, 1.53179632e-04,\n",
       "       1.19735337e-03, 9.69281638e-04, 4.71598840e-03, 2.07885807e-03,\n",
       "       2.33453075e-03, 2.87250696e-04, 3.96772394e-04, 0.00000000e+00,\n",
       "       4.32755178e-04, 1.32447138e-03, 8.21988629e-05, 7.76204822e-05,\n",
       "       4.16140701e-05, 1.40918696e-03, 1.13666029e-03, 3.02420522e-04,\n",
       "       8.23443565e-04, 1.18054084e-03, 5.42096264e-03, 0.00000000e+00,\n",
       "       8.20443302e-07, 1.77279269e-04, 3.75035029e-05, 0.00000000e+00,\n",
       "       3.88449836e-03, 2.25194975e-02, 5.23535760e-04, 3.76957332e-03,\n",
       "       7.47511798e-03, 4.82130507e-04, 1.72803617e-03, 5.67465468e-03,\n",
       "       6.62317027e-03, 5.84777335e-03, 5.52883339e-03, 1.22344358e-03,\n",
       "       4.61629489e-03, 8.96084144e-04, 7.52860498e-05, 4.95352055e-03,\n",
       "       2.55382240e-04, 4.90094561e-05, 8.20106895e-05])"
      ]
     },
     "execution_count": 198,
     "metadata": {},
     "output_type": "execute_result"
    }
   ],
   "source": [
    "feat_imp = rf.feature_importances_\n",
    "feat_imp"
   ]
  },
  {
   "cell_type": "code",
   "execution_count": 199,
   "id": "be89f855-e25a-4182-a187-e96b8fcd619b",
   "metadata": {},
   "outputs": [
    {
     "data": {
      "text/plain": [
       "PubchemFP0      0.004689\n",
       "PubchemFP2      0.007953\n",
       "PubchemFP3      0.002340\n",
       "PubchemFP6      0.000000\n",
       "PubchemFP12     0.006471\n",
       "                  ...   \n",
       "PubchemFP842    0.000075\n",
       "PubchemFP860    0.004954\n",
       "PubchemFP862    0.000255\n",
       "PubchemFP863    0.000049\n",
       "PubchemFP866    0.000082\n",
       "Length: 355, dtype: float64"
      ]
     },
     "execution_count": 199,
     "metadata": {},
     "output_type": "execute_result"
    }
   ],
   "source": [
    "rf_imp = pd.Series(rf.feature_importances_,index=X.columns)\n",
    "rf_imp"
   ]
  },
  {
   "cell_type": "code",
   "execution_count": 203,
   "id": "700d4a67-c752-4b19-ad08-f443d1039597",
   "metadata": {},
   "outputs": [],
   "source": [
    "##Showing 20 most important features\n",
    "head = rf_imp.sort_values(ascending=False).head(50)"
   ]
  },
  {
   "cell_type": "code",
   "execution_count": 204,
   "id": "d36a4ce0-ed15-4e4b-8de5-e920cee8d18e",
   "metadata": {},
   "outputs": [
    {
     "data": {
      "text/plain": [
       "PubchemFP420    0.022881\n",
       "PubchemFP777    0.022519\n",
       "PubchemFP308    0.018855\n",
       "PubchemFP697    0.018796\n",
       "PubchemFP623    0.018362\n",
       "PubchemFP590    0.015903\n",
       "PubchemFP186    0.015629\n",
       "PubchemFP696    0.015608\n",
       "PubchemFP23     0.014882\n",
       "PubchemFP184    0.013054\n",
       "PubchemFP258    0.012772\n",
       "PubchemFP735    0.011958\n",
       "PubchemFP380    0.011423\n",
       "PubchemFP193    0.011135\n",
       "PubchemFP259    0.010185\n",
       "PubchemFP671    0.010176\n",
       "PubchemFP382    0.009771\n",
       "PubchemFP374    0.009598\n",
       "PubchemFP405    0.009028\n",
       "PubchemFP489    0.008997\n",
       "PubchemFP672    0.008821\n",
       "PubchemFP20     0.008500\n",
       "PubchemFP183    0.008358\n",
       "PubchemFP699    0.008246\n",
       "PubchemFP2      0.007953\n",
       "PubchemFP375    0.007821\n",
       "PubchemFP453    0.007777\n",
       "PubchemFP15     0.007717\n",
       "PubchemFP452    0.007572\n",
       "PubchemFP700    0.007475\n",
       "PubchemFP797    0.007475\n",
       "PubchemFP682    0.007449\n",
       "PubchemFP567    0.007424\n",
       "PubchemFP692    0.007346\n",
       "PubchemFP712    0.007345\n",
       "PubchemFP535    0.007306\n",
       "PubchemFP412    0.007303\n",
       "PubchemFP614    0.007235\n",
       "PubchemFP693    0.007116\n",
       "PubchemFP418    0.006964\n",
       "PubchemFP673    0.006714\n",
       "PubchemFP734    0.006691\n",
       "PubchemFP819    0.006623\n",
       "PubchemFP385    0.006563\n",
       "PubchemFP604    0.006543\n",
       "PubchemFP345    0.006491\n",
       "PubchemFP12     0.006471\n",
       "PubchemFP335    0.006250\n",
       "PubchemFP399    0.006213\n",
       "PubchemFP192    0.006180\n",
       "dtype: float64"
      ]
     },
     "execution_count": 204,
     "metadata": {},
     "output_type": "execute_result"
    }
   ],
   "source": [
    "head"
   ]
  },
  {
   "cell_type": "code",
   "execution_count": 205,
   "id": "89af5884-8ea4-4a04-a460-e0364db3f98e",
   "metadata": {},
   "outputs": [
    {
     "data": {
      "text/plain": [
       "<AxesSubplot:>"
      ]
     },
     "execution_count": 205,
     "metadata": {},
     "output_type": "execute_result"
    },
    {
     "data": {
      "image/png": "[encoded data removed]",
      "text/plain": [
       "<Figure size 720x720 with 1 Axes>"
      ]
     },
     "metadata": {},
     "output_type": "display_data"
    }
   ],
   "source": [
    "import seaborn as sns\n",
    "plt.figure(figsize=(10,10))\n",
    "sns.barplot(x=head.values,y=head.index)"
   ]
  },
  {
   "cell_type": "code",
   "execution_count": null,
   "id": "32b5fa8f-82a4-46d1-b887-5bc868e0360a",
   "metadata": {},
   "outputs": [],
   "source": []
  },
  {
   "cell_type": "code",
   "execution_count": 252,
   "id": "146a2dcf-d62f-49e2-ad1b-3c7370b70934",
   "metadata": {},
   "outputs": [],
   "source": [
    "## Virtual Screening"
   ]
  },
  {
   "cell_type": "code",
   "execution_count": 253,
   "id": "36d31be7-c139-468f-85b8-b0cf86744b9d",
   "metadata": {},
   "outputs": [
    {
     "data": {
      "text/plain": [
       "['AtomPairs2DFingerprintCount.xml',\n",
       " 'AtomPairs2DFingerprinter.xml',\n",
       " 'EStateFingerprinter.xml',\n",
       " 'ExtendedFingerprinter.xml',\n",
       " 'Fingerprinter.xml',\n",
       " 'GraphOnlyFingerprinter.xml',\n",
       " 'MACCSFingerprinter.xml',\n",
       " 'PubchemFingerprinter.xml',\n",
       " 'SubstructureFingerprintCount.xml',\n",
       " 'SubstructureFingerprinter.xml']"
      ]
     },
     "execution_count": 253,
     "metadata": {},
     "output_type": "execute_result"
    }
   ],
   "source": [
    "import glob\n",
    "xml_files = glob.glob(\"*.xml\")\n",
    "xml_files.sort()\n",
    "xml_files"
   ]
  },
  {
   "cell_type": "code",
   "execution_count": 257,
   "id": "1c83b56d-375b-4b22-b80d-7ca14e856509",
   "metadata": {},
   "outputs": [],
   "source": [
    "FP_list = [\n",
    " 'AtomPairs2DFingerprintCount',\n",
    " 'AtomPairs2DFingerprinter',\n",
    " 'EStateFingerprinter',\n",
    " 'ExtendedFingerprinter',\n",
    " 'Fingerprinter',\n",
    " 'GraphOnlyFingerprinter',\n",
    " 'MACCSFingerprinter',\n",
    " 'PubchemFingerprinter',\n",
    " 'SubstructureFingerprintCount',\n",
    " 'SubstructureFingerprinter']"
   ]
  },
  {
   "cell_type": "code",
   "execution_count": 258,
   "id": "0d64106c-d0df-4f2c-81a1-807d4034a775",
   "metadata": {},
   "outputs": [],
   "source": [
    "Padel_Fp = dict(zip(FP_list,xml_files))"
   ]
  },
  {
   "cell_type": "code",
   "execution_count": 259,
   "id": "1ba83073-275f-4d07-bcdd-d52475966c0f",
   "metadata": {},
   "outputs": [
    {
     "data": {
      "text/plain": [
       "{'AtomPairs2DFingerprintCount': 'AtomPairs2DFingerprintCount.xml',\n",
       " 'AtomPairs2DFingerprinter': 'AtomPairs2DFingerprinter.xml',\n",
       " 'EStateFingerprinter': 'EStateFingerprinter.xml',\n",
       " 'ExtendedFingerprinter': 'ExtendedFingerprinter.xml',\n",
       " 'Fingerprinter': 'Fingerprinter.xml',\n",
       " 'GraphOnlyFingerprinter': 'GraphOnlyFingerprinter.xml',\n",
       " 'MACCSFingerprinter': 'MACCSFingerprinter.xml',\n",
       " 'PubchemFingerprinter': 'PubchemFingerprinter.xml',\n",
       " 'SubstructureFingerprintCount': 'SubstructureFingerprintCount.xml',\n",
       " 'SubstructureFingerprinter': 'SubstructureFingerprinter.xml'}"
      ]
     },
     "execution_count": 259,
     "metadata": {},
     "output_type": "execute_result"
    }
   ],
   "source": [
    "Padel_Fp"
   ]
  },
  {
   "cell_type": "code",
   "execution_count": 260,
   "id": "c6aaaa6b-eac2-4307-b547-47a9b1c96b4f",
   "metadata": {},
   "outputs": [],
   "source": [
    "from padelpy import padeldescriptor\n",
    "padeldescriptor(mol_dir='fda.smi', \n",
    "                d_file=\"fda_fp.csv\", \n",
    "                descriptortypes= 'PubchemFingerprinter.xml',\n",
    "                detectaromaticity=True,\n",
    "                standardizenitro=True,\n",
    "                standardizetautomers=True,\n",
    "                threads=2,\n",
    "                removesalt=True,\n",
    "                log=True,\n",
    "                fingerprints=True)"
   ]
  },
  {
   "cell_type": "code",
   "execution_count": 261,
   "id": "feca6f6c-7454-49fc-b016-9ed95886bb79",
   "metadata": {},
   "outputs": [],
   "source": [
    "fda = pd.read_csv(\"fda_fp.csv\")"
   ]
  },
  {
   "cell_type": "code",
   "execution_count": 262,
   "id": "750b498b-77b8-4119-a98a-e7d6d05fbb51",
   "metadata": {},
   "outputs": [
    {
     "data": {
      "text/html": [
       "<div>\n",
       "<style scoped>\n",
       "    .dataframe tbody tr th:only-of-type {\n",
       "        vertical-align: middle;\n",
       "    }\n",
       "\n",
       "    .dataframe tbody tr th {\n",
       "        vertical-align: top;\n",
       "    }\n",
       "\n",
       "    .dataframe thead th {\n",
       "        text-align: right;\n",
       "    }\n",
       "</style>\n",
       "<table border=\"1\" class=\"dataframe\">\n",
       "  <thead>\n",
       "    <tr style=\"text-align: right;\">\n",
       "      <th></th>\n",
       "      <th>Name</th>\n",
       "      <th>PubchemFP0</th>\n",
       "      <th>PubchemFP1</th>\n",
       "      <th>PubchemFP2</th>\n",
       "      <th>PubchemFP3</th>\n",
       "      <th>PubchemFP4</th>\n",
       "      <th>PubchemFP5</th>\n",
       "      <th>PubchemFP6</th>\n",
       "      <th>PubchemFP7</th>\n",
       "      <th>PubchemFP8</th>\n",
       "      <th>...</th>\n",
       "      <th>PubchemFP871</th>\n",
       "      <th>PubchemFP872</th>\n",
       "      <th>PubchemFP873</th>\n",
       "      <th>PubchemFP874</th>\n",
       "      <th>PubchemFP875</th>\n",
       "      <th>PubchemFP876</th>\n",
       "      <th>PubchemFP877</th>\n",
       "      <th>PubchemFP878</th>\n",
       "      <th>PubchemFP879</th>\n",
       "      <th>PubchemFP880</th>\n",
       "    </tr>\n",
       "  </thead>\n",
       "  <tbody>\n",
       "    <tr>\n",
       "      <th>0</th>\n",
       "      <td>ZINC000001530427</td>\n",
       "      <td>1</td>\n",
       "      <td>0</td>\n",
       "      <td>0</td>\n",
       "      <td>0</td>\n",
       "      <td>0</td>\n",
       "      <td>0</td>\n",
       "      <td>0</td>\n",
       "      <td>0</td>\n",
       "      <td>0</td>\n",
       "      <td>...</td>\n",
       "      <td>0</td>\n",
       "      <td>0</td>\n",
       "      <td>0</td>\n",
       "      <td>0</td>\n",
       "      <td>0</td>\n",
       "      <td>0</td>\n",
       "      <td>0</td>\n",
       "      <td>0</td>\n",
       "      <td>0</td>\n",
       "      <td>0</td>\n",
       "    </tr>\n",
       "    <tr>\n",
       "      <th>1</th>\n",
       "      <td>ZINC000000120286</td>\n",
       "      <td>1</td>\n",
       "      <td>1</td>\n",
       "      <td>0</td>\n",
       "      <td>0</td>\n",
       "      <td>0</td>\n",
       "      <td>0</td>\n",
       "      <td>0</td>\n",
       "      <td>0</td>\n",
       "      <td>0</td>\n",
       "      <td>...</td>\n",
       "      <td>0</td>\n",
       "      <td>0</td>\n",
       "      <td>0</td>\n",
       "      <td>0</td>\n",
       "      <td>0</td>\n",
       "      <td>0</td>\n",
       "      <td>0</td>\n",
       "      <td>0</td>\n",
       "      <td>0</td>\n",
       "      <td>0</td>\n",
       "    </tr>\n",
       "    <tr>\n",
       "      <th>2</th>\n",
       "      <td>ZINC000000008492</td>\n",
       "      <td>1</td>\n",
       "      <td>0</td>\n",
       "      <td>0</td>\n",
       "      <td>0</td>\n",
       "      <td>0</td>\n",
       "      <td>0</td>\n",
       "      <td>0</td>\n",
       "      <td>0</td>\n",
       "      <td>0</td>\n",
       "      <td>...</td>\n",
       "      <td>0</td>\n",
       "      <td>0</td>\n",
       "      <td>0</td>\n",
       "      <td>0</td>\n",
       "      <td>0</td>\n",
       "      <td>0</td>\n",
       "      <td>0</td>\n",
       "      <td>0</td>\n",
       "      <td>0</td>\n",
       "      <td>0</td>\n",
       "    </tr>\n",
       "    <tr>\n",
       "      <th>3</th>\n",
       "      <td>ZINC000001612996</td>\n",
       "      <td>0</td>\n",
       "      <td>0</td>\n",
       "      <td>0</td>\n",
       "      <td>0</td>\n",
       "      <td>0</td>\n",
       "      <td>0</td>\n",
       "      <td>0</td>\n",
       "      <td>0</td>\n",
       "      <td>0</td>\n",
       "      <td>...</td>\n",
       "      <td>0</td>\n",
       "      <td>0</td>\n",
       "      <td>0</td>\n",
       "      <td>0</td>\n",
       "      <td>0</td>\n",
       "      <td>0</td>\n",
       "      <td>0</td>\n",
       "      <td>0</td>\n",
       "      <td>0</td>\n",
       "      <td>0</td>\n",
       "    </tr>\n",
       "    <tr>\n",
       "      <th>4</th>\n",
       "      <td>ZINC000003918087</td>\n",
       "      <td>1</td>\n",
       "      <td>0</td>\n",
       "      <td>0</td>\n",
       "      <td>0</td>\n",
       "      <td>0</td>\n",
       "      <td>0</td>\n",
       "      <td>0</td>\n",
       "      <td>0</td>\n",
       "      <td>0</td>\n",
       "      <td>...</td>\n",
       "      <td>0</td>\n",
       "      <td>0</td>\n",
       "      <td>0</td>\n",
       "      <td>0</td>\n",
       "      <td>0</td>\n",
       "      <td>0</td>\n",
       "      <td>0</td>\n",
       "      <td>0</td>\n",
       "      <td>0</td>\n",
       "      <td>0</td>\n",
       "    </tr>\n",
       "  </tbody>\n",
       "</table>\n",
       "<p>5 rows × 882 columns</p>\n",
       "</div>"
      ],
      "text/plain": [
       "               Name  PubchemFP0  PubchemFP1  PubchemFP2  PubchemFP3  \\\n",
       "0  ZINC000001530427           1           0           0           0   \n",
       "1  ZINC000000120286           1           1           0           0   \n",
       "2  ZINC000000008492           1           0           0           0   \n",
       "3  ZINC000001612996           0           0           0           0   \n",
       "4  ZINC000003918087           1           0           0           0   \n",
       "\n",
       "   PubchemFP4  PubchemFP5  PubchemFP6  PubchemFP7  PubchemFP8  ...  \\\n",
       "0           0           0           0           0           0  ...   \n",
       "1           0           0           0           0           0  ...   \n",
       "2           0           0           0           0           0  ...   \n",
       "3           0           0           0           0           0  ...   \n",
       "4           0           0           0           0           0  ...   \n",
       "\n",
       "   PubchemFP871  PubchemFP872  PubchemFP873  PubchemFP874  PubchemFP875  \\\n",
       "0             0             0             0             0             0   \n",
       "1             0             0             0             0             0   \n",
       "2             0             0             0             0             0   \n",
       "3             0             0             0             0             0   \n",
       "4             0             0             0             0             0   \n",
       "\n",
       "   PubchemFP876  PubchemFP877  PubchemFP878  PubchemFP879  PubchemFP880  \n",
       "0             0             0             0             0             0  \n",
       "1             0             0             0             0             0  \n",
       "2             0             0             0             0             0  \n",
       "3             0             0             0             0             0  \n",
       "4             0             0             0             0             0  \n",
       "\n",
       "[5 rows x 882 columns]"
      ]
     },
     "execution_count": 262,
     "metadata": {},
     "output_type": "execute_result"
    }
   ],
   "source": [
    "fda.head()"
   ]
  },
  {
   "cell_type": "code",
   "execution_count": 268,
   "id": "3d6b1cf5-b782-4b17-9f28-f6c333d35601",
   "metadata": {},
   "outputs": [],
   "source": [
    "fda_x = fda[df.drop([\"label\",\"pIC50\",\"Name\"],axis=1).columns]"
   ]
  },
  {
   "cell_type": "code",
   "execution_count": 269,
   "id": "6b31bdda-fb24-4c53-848c-ceae9c1830d1",
   "metadata": {},
   "outputs": [
    {
     "data": {
      "text/html": [
       "<div>\n",
       "<style scoped>\n",
       "    .dataframe tbody tr th:only-of-type {\n",
       "        vertical-align: middle;\n",
       "    }\n",
       "\n",
       "    .dataframe tbody tr th {\n",
       "        vertical-align: top;\n",
       "    }\n",
       "\n",
       "    .dataframe thead th {\n",
       "        text-align: right;\n",
       "    }\n",
       "</style>\n",
       "<table border=\"1\" class=\"dataframe\">\n",
       "  <thead>\n",
       "    <tr style=\"text-align: right;\">\n",
       "      <th></th>\n",
       "      <th>PubchemFP0</th>\n",
       "      <th>PubchemFP2</th>\n",
       "      <th>PubchemFP3</th>\n",
       "      <th>PubchemFP6</th>\n",
       "      <th>PubchemFP12</th>\n",
       "      <th>PubchemFP13</th>\n",
       "      <th>PubchemFP15</th>\n",
       "      <th>PubchemFP16</th>\n",
       "      <th>PubchemFP17</th>\n",
       "      <th>PubchemFP18</th>\n",
       "      <th>...</th>\n",
       "      <th>PubchemFP821</th>\n",
       "      <th>PubchemFP824</th>\n",
       "      <th>PubchemFP825</th>\n",
       "      <th>PubchemFP839</th>\n",
       "      <th>PubchemFP840</th>\n",
       "      <th>PubchemFP842</th>\n",
       "      <th>PubchemFP860</th>\n",
       "      <th>PubchemFP862</th>\n",
       "      <th>PubchemFP863</th>\n",
       "      <th>PubchemFP866</th>\n",
       "    </tr>\n",
       "  </thead>\n",
       "  <tbody>\n",
       "    <tr>\n",
       "      <th>0</th>\n",
       "      <td>1</td>\n",
       "      <td>0</td>\n",
       "      <td>0</td>\n",
       "      <td>0</td>\n",
       "      <td>0</td>\n",
       "      <td>0</td>\n",
       "      <td>0</td>\n",
       "      <td>0</td>\n",
       "      <td>0</td>\n",
       "      <td>1</td>\n",
       "      <td>...</td>\n",
       "      <td>0</td>\n",
       "      <td>0</td>\n",
       "      <td>0</td>\n",
       "      <td>0</td>\n",
       "      <td>0</td>\n",
       "      <td>0</td>\n",
       "      <td>0</td>\n",
       "      <td>0</td>\n",
       "      <td>0</td>\n",
       "      <td>0</td>\n",
       "    </tr>\n",
       "    <tr>\n",
       "      <th>1</th>\n",
       "      <td>1</td>\n",
       "      <td>0</td>\n",
       "      <td>0</td>\n",
       "      <td>0</td>\n",
       "      <td>0</td>\n",
       "      <td>0</td>\n",
       "      <td>1</td>\n",
       "      <td>1</td>\n",
       "      <td>0</td>\n",
       "      <td>0</td>\n",
       "      <td>...</td>\n",
       "      <td>0</td>\n",
       "      <td>0</td>\n",
       "      <td>0</td>\n",
       "      <td>0</td>\n",
       "      <td>0</td>\n",
       "      <td>0</td>\n",
       "      <td>0</td>\n",
       "      <td>0</td>\n",
       "      <td>0</td>\n",
       "      <td>0</td>\n",
       "    </tr>\n",
       "    <tr>\n",
       "      <th>2</th>\n",
       "      <td>1</td>\n",
       "      <td>0</td>\n",
       "      <td>0</td>\n",
       "      <td>0</td>\n",
       "      <td>0</td>\n",
       "      <td>0</td>\n",
       "      <td>0</td>\n",
       "      <td>0</td>\n",
       "      <td>0</td>\n",
       "      <td>1</td>\n",
       "      <td>...</td>\n",
       "      <td>1</td>\n",
       "      <td>0</td>\n",
       "      <td>0</td>\n",
       "      <td>0</td>\n",
       "      <td>0</td>\n",
       "      <td>0</td>\n",
       "      <td>0</td>\n",
       "      <td>0</td>\n",
       "      <td>0</td>\n",
       "      <td>0</td>\n",
       "    </tr>\n",
       "    <tr>\n",
       "      <th>3</th>\n",
       "      <td>0</td>\n",
       "      <td>0</td>\n",
       "      <td>0</td>\n",
       "      <td>0</td>\n",
       "      <td>1</td>\n",
       "      <td>1</td>\n",
       "      <td>1</td>\n",
       "      <td>1</td>\n",
       "      <td>0</td>\n",
       "      <td>1</td>\n",
       "      <td>...</td>\n",
       "      <td>1</td>\n",
       "      <td>0</td>\n",
       "      <td>0</td>\n",
       "      <td>0</td>\n",
       "      <td>0</td>\n",
       "      <td>0</td>\n",
       "      <td>0</td>\n",
       "      <td>0</td>\n",
       "      <td>0</td>\n",
       "      <td>0</td>\n",
       "    </tr>\n",
       "    <tr>\n",
       "      <th>4</th>\n",
       "      <td>1</td>\n",
       "      <td>0</td>\n",
       "      <td>0</td>\n",
       "      <td>0</td>\n",
       "      <td>1</td>\n",
       "      <td>0</td>\n",
       "      <td>0</td>\n",
       "      <td>0</td>\n",
       "      <td>0</td>\n",
       "      <td>1</td>\n",
       "      <td>...</td>\n",
       "      <td>0</td>\n",
       "      <td>0</td>\n",
       "      <td>0</td>\n",
       "      <td>0</td>\n",
       "      <td>0</td>\n",
       "      <td>0</td>\n",
       "      <td>0</td>\n",
       "      <td>0</td>\n",
       "      <td>0</td>\n",
       "      <td>0</td>\n",
       "    </tr>\n",
       "    <tr>\n",
       "      <th>...</th>\n",
       "      <td>...</td>\n",
       "      <td>...</td>\n",
       "      <td>...</td>\n",
       "      <td>...</td>\n",
       "      <td>...</td>\n",
       "      <td>...</td>\n",
       "      <td>...</td>\n",
       "      <td>...</td>\n",
       "      <td>...</td>\n",
       "      <td>...</td>\n",
       "      <td>...</td>\n",
       "      <td>...</td>\n",
       "      <td>...</td>\n",
       "      <td>...</td>\n",
       "      <td>...</td>\n",
       "      <td>...</td>\n",
       "      <td>...</td>\n",
       "      <td>...</td>\n",
       "      <td>...</td>\n",
       "      <td>...</td>\n",
       "      <td>...</td>\n",
       "    </tr>\n",
       "    <tr>\n",
       "      <th>316</th>\n",
       "      <td>1</td>\n",
       "      <td>0</td>\n",
       "      <td>0</td>\n",
       "      <td>0</td>\n",
       "      <td>0</td>\n",
       "      <td>0</td>\n",
       "      <td>0</td>\n",
       "      <td>0</td>\n",
       "      <td>0</td>\n",
       "      <td>1</td>\n",
       "      <td>...</td>\n",
       "      <td>0</td>\n",
       "      <td>0</td>\n",
       "      <td>0</td>\n",
       "      <td>0</td>\n",
       "      <td>0</td>\n",
       "      <td>0</td>\n",
       "      <td>0</td>\n",
       "      <td>0</td>\n",
       "      <td>0</td>\n",
       "      <td>0</td>\n",
       "    </tr>\n",
       "    <tr>\n",
       "      <th>317</th>\n",
       "      <td>1</td>\n",
       "      <td>1</td>\n",
       "      <td>1</td>\n",
       "      <td>0</td>\n",
       "      <td>1</td>\n",
       "      <td>1</td>\n",
       "      <td>0</td>\n",
       "      <td>0</td>\n",
       "      <td>0</td>\n",
       "      <td>1</td>\n",
       "      <td>...</td>\n",
       "      <td>0</td>\n",
       "      <td>0</td>\n",
       "      <td>0</td>\n",
       "      <td>0</td>\n",
       "      <td>0</td>\n",
       "      <td>0</td>\n",
       "      <td>0</td>\n",
       "      <td>0</td>\n",
       "      <td>0</td>\n",
       "      <td>0</td>\n",
       "    </tr>\n",
       "    <tr>\n",
       "      <th>318</th>\n",
       "      <td>1</td>\n",
       "      <td>1</td>\n",
       "      <td>1</td>\n",
       "      <td>0</td>\n",
       "      <td>1</td>\n",
       "      <td>0</td>\n",
       "      <td>1</td>\n",
       "      <td>1</td>\n",
       "      <td>0</td>\n",
       "      <td>1</td>\n",
       "      <td>...</td>\n",
       "      <td>0</td>\n",
       "      <td>0</td>\n",
       "      <td>0</td>\n",
       "      <td>0</td>\n",
       "      <td>0</td>\n",
       "      <td>0</td>\n",
       "      <td>0</td>\n",
       "      <td>0</td>\n",
       "      <td>0</td>\n",
       "      <td>0</td>\n",
       "    </tr>\n",
       "    <tr>\n",
       "      <th>319</th>\n",
       "      <td>0</td>\n",
       "      <td>0</td>\n",
       "      <td>0</td>\n",
       "      <td>0</td>\n",
       "      <td>1</td>\n",
       "      <td>0</td>\n",
       "      <td>0</td>\n",
       "      <td>0</td>\n",
       "      <td>0</td>\n",
       "      <td>1</td>\n",
       "      <td>...</td>\n",
       "      <td>0</td>\n",
       "      <td>1</td>\n",
       "      <td>0</td>\n",
       "      <td>0</td>\n",
       "      <td>0</td>\n",
       "      <td>0</td>\n",
       "      <td>0</td>\n",
       "      <td>0</td>\n",
       "      <td>0</td>\n",
       "      <td>1</td>\n",
       "    </tr>\n",
       "    <tr>\n",
       "      <th>320</th>\n",
       "      <td>1</td>\n",
       "      <td>1</td>\n",
       "      <td>1</td>\n",
       "      <td>0</td>\n",
       "      <td>1</td>\n",
       "      <td>1</td>\n",
       "      <td>0</td>\n",
       "      <td>0</td>\n",
       "      <td>0</td>\n",
       "      <td>1</td>\n",
       "      <td>...</td>\n",
       "      <td>0</td>\n",
       "      <td>0</td>\n",
       "      <td>0</td>\n",
       "      <td>1</td>\n",
       "      <td>1</td>\n",
       "      <td>0</td>\n",
       "      <td>1</td>\n",
       "      <td>0</td>\n",
       "      <td>0</td>\n",
       "      <td>0</td>\n",
       "    </tr>\n",
       "  </tbody>\n",
       "</table>\n",
       "<p>321 rows × 355 columns</p>\n",
       "</div>"
      ],
      "text/plain": [
       "     PubchemFP0  PubchemFP2  PubchemFP3  PubchemFP6  PubchemFP12  PubchemFP13  \\\n",
       "0             1           0           0           0            0            0   \n",
       "1             1           0           0           0            0            0   \n",
       "2             1           0           0           0            0            0   \n",
       "3             0           0           0           0            1            1   \n",
       "4             1           0           0           0            1            0   \n",
       "..          ...         ...         ...         ...          ...          ...   \n",
       "316           1           0           0           0            0            0   \n",
       "317           1           1           1           0            1            1   \n",
       "318           1           1           1           0            1            0   \n",
       "319           0           0           0           0            1            0   \n",
       "320           1           1           1           0            1            1   \n",
       "\n",
       "     PubchemFP15  PubchemFP16  PubchemFP17  PubchemFP18  ...  PubchemFP821  \\\n",
       "0              0            0            0            1  ...             0   \n",
       "1              1            1            0            0  ...             0   \n",
       "2              0            0            0            1  ...             1   \n",
       "3              1            1            0            1  ...             1   \n",
       "4              0            0            0            1  ...             0   \n",
       "..           ...          ...          ...          ...  ...           ...   \n",
       "316            0            0            0            1  ...             0   \n",
       "317            0            0            0            1  ...             0   \n",
       "318            1            1            0            1  ...             0   \n",
       "319            0            0            0            1  ...             0   \n",
       "320            0            0            0            1  ...             0   \n",
       "\n",
       "     PubchemFP824  PubchemFP825  PubchemFP839  PubchemFP840  PubchemFP842  \\\n",
       "0               0             0             0             0             0   \n",
       "1               0             0             0             0             0   \n",
       "2               0             0             0             0             0   \n",
       "3               0             0             0             0             0   \n",
       "4               0             0             0             0             0   \n",
       "..            ...           ...           ...           ...           ...   \n",
       "316             0             0             0             0             0   \n",
       "317             0             0             0             0             0   \n",
       "318             0             0             0             0             0   \n",
       "319             1             0             0             0             0   \n",
       "320             0             0             1             1             0   \n",
       "\n",
       "     PubchemFP860  PubchemFP862  PubchemFP863  PubchemFP866  \n",
       "0               0             0             0             0  \n",
       "1               0             0             0             0  \n",
       "2               0             0             0             0  \n",
       "3               0             0             0             0  \n",
       "4               0             0             0             0  \n",
       "..            ...           ...           ...           ...  \n",
       "316             0             0             0             0  \n",
       "317             0             0             0             0  \n",
       "318             0             0             0             0  \n",
       "319             0             0             0             1  \n",
       "320             1             0             0             0  \n",
       "\n",
       "[321 rows x 355 columns]"
      ]
     },
     "execution_count": 269,
     "metadata": {},
     "output_type": "execute_result"
    }
   ],
   "source": [
    "fda_x"
   ]
  },
  {
   "cell_type": "code",
   "execution_count": 270,
   "id": "49f54488-f935-4b2c-b59e-64f7cca096eb",
   "metadata": {},
   "outputs": [
    {
     "name": "stderr",
     "output_type": "stream",
     "text": [
      "/Users/sherifelsabbagh/opt/anaconda3/envs/my-rdkit-env/lib/python3.9/site-packages/sklearn/base.py:450: UserWarning: X does not have valid feature names, but RandomForestClassifier was fitted with feature names\n",
      "  warnings.warn(\n"
     ]
    }
   ],
   "source": [
    "fda_predict = rf.predict(fda_x.values)"
   ]
  },
  {
   "cell_type": "code",
   "execution_count": 271,
   "id": "ecb669e3-6e85-423b-bb7b-9f23c7c2e70d",
   "metadata": {},
   "outputs": [
    {
     "data": {
      "text/plain": [
       "array([0, 0, 1, 0, 0, 0, 1, 1, 1, 0, 0, 0, 0, 0, 0, 0, 0, 0, 1, 1, 0, 1,\n",
       "       1, 0, 1, 0, 0, 0, 1, 0, 1, 1, 0, 1, 1, 0, 0, 1, 0, 0, 1, 0, 1, 0,\n",
       "       1, 1, 1, 0, 1, 1, 1, 1, 1, 1, 0, 1, 0, 1, 1, 0, 0, 1, 1, 1, 0, 0,\n",
       "       0, 0, 0, 0, 0, 1, 0, 0, 1, 1, 0, 1, 0, 0, 0, 0, 0, 0, 1, 1, 1, 1,\n",
       "       1, 1, 1, 1, 1, 1, 1, 1, 0, 1, 1, 1, 1, 0, 0, 0, 1, 0, 1, 1, 1, 1,\n",
       "       0, 0, 1, 0, 0, 1, 1, 0, 0, 1, 1, 0, 1, 1, 0, 1, 1, 1, 1, 0, 0, 1,\n",
       "       1, 0, 0, 1, 1, 1, 1, 0, 0, 1, 1, 1, 1, 1, 1, 1, 1, 0, 1, 0, 1, 0,\n",
       "       1, 1, 1, 0, 0, 0, 0, 1, 0, 1, 1, 0, 0, 0, 0, 1, 1, 0, 0, 1, 1, 0,\n",
       "       0, 1, 1, 0, 1, 0, 1, 1, 1, 1, 1, 0, 0, 1, 1, 1, 1, 1, 1, 1, 1, 1,\n",
       "       0, 1, 1, 1, 1, 0, 1, 0, 1, 0, 1, 1, 1, 0, 1, 0, 1, 0, 1, 1, 1, 1,\n",
       "       1, 0, 0, 1, 1, 0, 1, 0, 0, 1, 0, 0, 0, 0, 1, 0, 1, 0, 1, 0, 1, 1,\n",
       "       0, 1, 1, 1, 1, 0, 1, 0, 0, 1, 1, 1, 0, 0, 0, 0, 0, 1, 1, 1, 1, 1,\n",
       "       1, 1, 1, 1, 0, 0, 1, 1, 1, 1, 1, 1, 1, 0, 0, 1, 0, 0, 0, 1, 1, 0,\n",
       "       1, 1, 1, 0, 1, 0, 1, 1, 0, 0, 0, 1, 0, 0, 0, 0, 0, 0, 0, 1, 1, 0,\n",
       "       1, 0, 1, 0, 1, 0, 0, 1, 1, 0, 1, 1, 1])"
      ]
     },
     "execution_count": 271,
     "metadata": {},
     "output_type": "execute_result"
    }
   ],
   "source": [
    "fda_predict"
   ]
  },
  {
   "cell_type": "code",
   "execution_count": 272,
   "id": "624dbed9-1cb7-4418-8846-0428318da5be",
   "metadata": {},
   "outputs": [],
   "source": [
    "fda_predict = pd.DataFrame(fda_predict,columns=[\"Label\"])"
   ]
  },
  {
   "cell_type": "code",
   "execution_count": 273,
   "id": "082af585-d424-4508-9632-1bc08cfe061b",
   "metadata": {},
   "outputs": [],
   "source": [
    "fda_predict[\"molname\"] = fda[\"Name\"]"
   ]
  },
  {
   "cell_type": "code",
   "execution_count": 274,
   "id": "a3c9f9f7-148c-4590-a776-daef8192445e",
   "metadata": {},
   "outputs": [
    {
     "data": {
      "text/html": [
       "<div>\n",
       "<style scoped>\n",
       "    .dataframe tbody tr th:only-of-type {\n",
       "        vertical-align: middle;\n",
       "    }\n",
       "\n",
       "    .dataframe tbody tr th {\n",
       "        vertical-align: top;\n",
       "    }\n",
       "\n",
       "    .dataframe thead th {\n",
       "        text-align: right;\n",
       "    }\n",
       "</style>\n",
       "<table border=\"1\" class=\"dataframe\">\n",
       "  <thead>\n",
       "    <tr style=\"text-align: right;\">\n",
       "      <th></th>\n",
       "      <th>Label</th>\n",
       "      <th>molname</th>\n",
       "    </tr>\n",
       "  </thead>\n",
       "  <tbody>\n",
       "    <tr>\n",
       "      <th>0</th>\n",
       "      <td>0</td>\n",
       "      <td>ZINC000001530427</td>\n",
       "    </tr>\n",
       "    <tr>\n",
       "      <th>1</th>\n",
       "      <td>0</td>\n",
       "      <td>ZINC000000120286</td>\n",
       "    </tr>\n",
       "    <tr>\n",
       "      <th>2</th>\n",
       "      <td>1</td>\n",
       "      <td>ZINC000000008492</td>\n",
       "    </tr>\n",
       "    <tr>\n",
       "      <th>3</th>\n",
       "      <td>0</td>\n",
       "      <td>ZINC000001612996</td>\n",
       "    </tr>\n",
       "    <tr>\n",
       "      <th>4</th>\n",
       "      <td>0</td>\n",
       "      <td>ZINC000003918087</td>\n",
       "    </tr>\n",
       "    <tr>\n",
       "      <th>...</th>\n",
       "      <td>...</td>\n",
       "      <td>...</td>\n",
       "    </tr>\n",
       "    <tr>\n",
       "      <th>316</th>\n",
       "      <td>1</td>\n",
       "      <td>ZINC000100071256</td>\n",
       "    </tr>\n",
       "    <tr>\n",
       "      <th>317</th>\n",
       "      <td>0</td>\n",
       "      <td>ZINC000085534336</td>\n",
       "    </tr>\n",
       "    <tr>\n",
       "      <th>318</th>\n",
       "      <td>1</td>\n",
       "      <td>ZINC000254134439</td>\n",
       "    </tr>\n",
       "    <tr>\n",
       "      <th>319</th>\n",
       "      <td>1</td>\n",
       "      <td>ZINC000043450324</td>\n",
       "    </tr>\n",
       "    <tr>\n",
       "      <th>320</th>\n",
       "      <td>1</td>\n",
       "      <td>ZINC000085537011</td>\n",
       "    </tr>\n",
       "  </tbody>\n",
       "</table>\n",
       "<p>321 rows × 2 columns</p>\n",
       "</div>"
      ],
      "text/plain": [
       "     Label           molname\n",
       "0        0  ZINC000001530427\n",
       "1        0  ZINC000000120286\n",
       "2        1  ZINC000000008492\n",
       "3        0  ZINC000001612996\n",
       "4        0  ZINC000003918087\n",
       "..     ...               ...\n",
       "316      1  ZINC000100071256\n",
       "317      0  ZINC000085534336\n",
       "318      1  ZINC000254134439\n",
       "319      1  ZINC000043450324\n",
       "320      1  ZINC000085537011\n",
       "\n",
       "[321 rows x 2 columns]"
      ]
     },
     "execution_count": 274,
     "metadata": {},
     "output_type": "execute_result"
    }
   ],
   "source": [
    "fda_predict"
   ]
  },
  {
   "cell_type": "code",
   "execution_count": 275,
   "id": "ce8bfdb8-b8e2-45f1-8b60-f7a0c92899a6",
   "metadata": {},
   "outputs": [],
   "source": [
    "fda_active = fda_predict[fda_predict[\"Label\"] == 1]"
   ]
  },
  {
   "cell_type": "code",
   "execution_count": 277,
   "id": "53c1d484-3cfe-4f51-a964-827b952ca509",
   "metadata": {},
   "outputs": [],
   "source": [
    "fda_active.reset_index(drop=True,inplace=True)"
   ]
  },
  {
   "cell_type": "code",
   "execution_count": 278,
   "id": "6c09a70d-14a9-4ea8-996c-8ab8c4ae6f05",
   "metadata": {},
   "outputs": [
    {
     "data": {
      "text/html": [
       "<div>\n",
       "<style scoped>\n",
       "    .dataframe tbody tr th:only-of-type {\n",
       "        vertical-align: middle;\n",
       "    }\n",
       "\n",
       "    .dataframe tbody tr th {\n",
       "        vertical-align: top;\n",
       "    }\n",
       "\n",
       "    .dataframe thead th {\n",
       "        text-align: right;\n",
       "    }\n",
       "</style>\n",
       "<table border=\"1\" class=\"dataframe\">\n",
       "  <thead>\n",
       "    <tr style=\"text-align: right;\">\n",
       "      <th></th>\n",
       "      <th>Label</th>\n",
       "      <th>molname</th>\n",
       "    </tr>\n",
       "  </thead>\n",
       "  <tbody>\n",
       "    <tr>\n",
       "      <th>0</th>\n",
       "      <td>1</td>\n",
       "      <td>ZINC000000008492</td>\n",
       "    </tr>\n",
       "    <tr>\n",
       "      <th>1</th>\n",
       "      <td>1</td>\n",
       "      <td>ZINC000000896546</td>\n",
       "    </tr>\n",
       "    <tr>\n",
       "      <th>2</th>\n",
       "      <td>1</td>\n",
       "      <td>ZINC000242548690</td>\n",
       "    </tr>\n",
       "    <tr>\n",
       "      <th>3</th>\n",
       "      <td>1</td>\n",
       "      <td>ZINC000004658290</td>\n",
       "    </tr>\n",
       "    <tr>\n",
       "      <th>4</th>\n",
       "      <td>1</td>\n",
       "      <td>ZINC000003831405</td>\n",
       "    </tr>\n",
       "    <tr>\n",
       "      <th>...</th>\n",
       "      <td>...</td>\n",
       "      <td>...</td>\n",
       "    </tr>\n",
       "    <tr>\n",
       "      <th>175</th>\n",
       "      <td>1</td>\n",
       "      <td>ZINC000100037855</td>\n",
       "    </tr>\n",
       "    <tr>\n",
       "      <th>176</th>\n",
       "      <td>1</td>\n",
       "      <td>ZINC000100071256</td>\n",
       "    </tr>\n",
       "    <tr>\n",
       "      <th>177</th>\n",
       "      <td>1</td>\n",
       "      <td>ZINC000254134439</td>\n",
       "    </tr>\n",
       "    <tr>\n",
       "      <th>178</th>\n",
       "      <td>1</td>\n",
       "      <td>ZINC000043450324</td>\n",
       "    </tr>\n",
       "    <tr>\n",
       "      <th>179</th>\n",
       "      <td>1</td>\n",
       "      <td>ZINC000085537011</td>\n",
       "    </tr>\n",
       "  </tbody>\n",
       "</table>\n",
       "<p>180 rows × 2 columns</p>\n",
       "</div>"
      ],
      "text/plain": [
       "     Label           molname\n",
       "0        1  ZINC000000008492\n",
       "1        1  ZINC000000896546\n",
       "2        1  ZINC000242548690\n",
       "3        1  ZINC000004658290\n",
       "4        1  ZINC000003831405\n",
       "..     ...               ...\n",
       "175      1  ZINC000100037855\n",
       "176      1  ZINC000100071256\n",
       "177      1  ZINC000254134439\n",
       "178      1  ZINC000043450324\n",
       "179      1  ZINC000085537011\n",
       "\n",
       "[180 rows x 2 columns]"
      ]
     },
     "execution_count": 278,
     "metadata": {},
     "output_type": "execute_result"
    }
   ],
   "source": [
    "fda_active"
   ]
  },
  {
   "cell_type": "code",
   "execution_count": 280,
   "id": "c073ee7d-3a27-415e-86cf-ce04af920d72",
   "metadata": {},
   "outputs": [],
   "source": [
    "fda_active[\"molname\"].to_csv(\"zincmols.txt\",header=False,index=False)"
   ]
  },
  {
   "cell_type": "code",
   "execution_count": null,
   "id": "16790c23-1e97-40aa-b7f5-1cf4a65a136b",
   "metadata": {},
   "outputs": [],
   "source": []
  }
 ],
 "metadata": {
  "kernelspec": {
   "display_name": "Python 3 (ipykernel)",
   "language": "python",
   "name": "python3"
  },
  "language_info": {
   "codemirror_mode": {
    "name": "ipython",
    "version": 3
   },
   "file_extension": ".py",
   "mimetype": "text/x-python",
   "name": "python",
   "nbconvert_exporter": "python",
   "pygments_lexer": "ipython3",
   "version": "3.9.6"
  }
 },
 "nbformat": 4,
 "nbformat_minor": 5
}
